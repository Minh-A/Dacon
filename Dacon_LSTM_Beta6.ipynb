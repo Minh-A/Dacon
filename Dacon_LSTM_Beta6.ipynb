{
  "nbformat": 4,
  "nbformat_minor": 0,
  "metadata": {
    "colab": {
      "name": "데이콘4_코드공유.ipynb",
      "provenance": [],
      "collapsed_sections": [],
      "toc_visible": true,
      "mount_file_id": "1-Fg22Rj6ltFMtLknJjrC0zUMnEu4Ar-8",
      "authorship_tag": "ABX9TyN9yaIf687CDlIlbCZCOT3k",
      "include_colab_link": true
    },
    "kernelspec": {
      "name": "python3",
      "display_name": "Python 3"
    },
    "accelerator": "GPU"
  },
  "cells": [
    {
      "cell_type": "markdown",
      "metadata": {
        "id": "view-in-github",
        "colab_type": "text"
      },
      "source": [
        "<a href=\"https://colab.research.google.com/github/Minh-A/Dacon/blob/main/Dacon_LSTM_Beta6.ipynb\" target=\"_parent\"><img src=\"https://colab.research.google.com/assets/colab-badge.svg\" alt=\"Open In Colab\"/></a>"
      ]
    },
    {
      "cell_type": "markdown",
      "metadata": {
        "id": "fSE71k6Mn1cX"
      },
      "source": [
        "# 여기서 확인"
      ]
    },
    {
      "cell_type": "code",
      "metadata": {
        "colab": {
          "base_uri": "https://localhost:8080/"
        },
        "id": "XCdLD4jVgvwP",
        "outputId": "f9d47f80-7087-4ab0-ec86-20a4f52ba80e"
      },
      "source": [
        "import os\r\n",
        "import pandas as pd\r\n",
        "import numpy as np\r\n",
        "import matplotlib.pyplot as plt\r\n",
        "from glob import glob\r\n",
        "from tqdm import tqdm\r\n",
        "\r\n",
        "import tensorflow as tf\r\n",
        "from tensorflow.keras.models import load_model, Model\r\n",
        "from tensorflow.keras.layers import Conv3D, ConvLSTM2D, BatchNormalization, Input\r\n",
        "from tensorflow.keras.optimizers import Adam\r\n",
        "\r\n",
        "# 파이토치 라이브러리 임포트\r\n",
        "import pandas as pd\r\n",
        "import numpy as np\r\n",
        "import warnings\r\n",
        "warnings.filterwarnings(action='ignore')\r\n",
        "import torch\r\n",
        "import torch.nn as nn\r\n",
        "import torch.nn.functional as F\r\n",
        "\r\n",
        "import torchvision\r\n",
        "import torchvision.transforms as transforms\r\n",
        "from torch.utils.data import Dataset,DataLoader, TensorDataset\r\n",
        "from torch.autograd import Variable  # 자동미분기능 제공\r\n",
        "import torch.optim as optim\r\n",
        "import matplotlib.pyplot as plt\r\n",
        "\r\n",
        "from tqdm import tqdm  # 진행표시바\r\n",
        "\r\n",
        "# np.random.seed(777)\r\n",
        "# torch.manual_seed(777)\r\n",
        "\r\n",
        "device = torch.device(\"cuda:0\" if torch.cuda.is_available() else \"cpu\")  # GPU, CPU 선택\r\n",
        "print('CPU? GPU? : ', device)"
      ],
      "execution_count": null,
      "outputs": [
        {
          "output_type": "stream",
          "text": [
            "CPU? GPU? :  cuda:0\n"
          ],
          "name": "stdout"
        }
      ]
    },
    {
      "cell_type": "markdown",
      "metadata": {
        "id": "z5U9YEYmq_JK"
      },
      "source": [
        "> pytorch tpu\r\n",
        "* https://beomi.github.io/2020/02/24/Pytorch-with-TPU-on-Colab/"
      ]
    },
    {
      "cell_type": "markdown",
      "metadata": {
        "id": "fxau04exsadP"
      },
      "source": [
        "* https://colab.research.google.com/github/pytorch/xla/blob/master/contrib/colab/single-core-alexnet-fashion-mnist.ipynb#scrollTo=tdIxkkiACX92"
      ]
    },
    {
      "cell_type": "code",
      "metadata": {
        "colab": {
          "base_uri": "https://localhost:8080/",
          "height": 722
        },
        "id": "QSnbvGsGsWnh",
        "outputId": "6b8a20c7-d50d-471e-ca7d-414ae8a08984"
      },
      "source": [
        "!pip install cloud-tpu-client==0.10 https://storage.googleapis.com/tpu-pytorch/wheels/torch_xla-1.8-cp37-cp37m-linux_x86_64.whl"
      ],
      "execution_count": null,
      "outputs": [
        {
          "output_type": "stream",
          "text": [
            "Collecting cloud-tpu-client==0.10\n",
            "  Downloading https://files.pythonhosted.org/packages/56/9f/7b1958c2886db06feb5de5b2c191096f9e619914b6c31fdf93999fdbbd8b/cloud_tpu_client-0.10-py3-none-any.whl\n",
            "Collecting torch-xla==1.8\n",
            "\u001b[?25l  Downloading https://storage.googleapis.com/tpu-pytorch/wheels/torch_xla-1.8-cp37-cp37m-linux_x86_64.whl (144.6MB)\n",
            "\u001b[K     |████████████████████████████████| 144.6MB 79kB/s \n",
            "\u001b[?25hCollecting google-api-python-client==1.8.0\n",
            "\u001b[?25l  Downloading https://files.pythonhosted.org/packages/9a/b4/a955f393b838bc47cbb6ae4643b9d0f90333d3b4db4dc1e819f36aad18cc/google_api_python_client-1.8.0-py3-none-any.whl (57kB)\n",
            "\u001b[K     |████████████████████████████████| 61kB 3.1MB/s \n",
            "\u001b[?25hRequirement already satisfied: oauth2client in /usr/local/lib/python3.7/dist-packages (from cloud-tpu-client==0.10) (4.1.3)\n",
            "Requirement already satisfied: httplib2<1dev,>=0.9.2 in /usr/local/lib/python3.7/dist-packages (from google-api-python-client==1.8.0->cloud-tpu-client==0.10) (0.17.4)\n",
            "Requirement already satisfied: google-auth-httplib2>=0.0.3 in /usr/local/lib/python3.7/dist-packages (from google-api-python-client==1.8.0->cloud-tpu-client==0.10) (0.0.4)\n",
            "Requirement already satisfied: six<2dev,>=1.6.1 in /usr/local/lib/python3.7/dist-packages (from google-api-python-client==1.8.0->cloud-tpu-client==0.10) (1.15.0)\n",
            "Requirement already satisfied: google-api-core<2dev,>=1.13.0 in /usr/local/lib/python3.7/dist-packages (from google-api-python-client==1.8.0->cloud-tpu-client==0.10) (1.16.0)\n",
            "Requirement already satisfied: google-auth>=1.4.1 in /usr/local/lib/python3.7/dist-packages (from google-api-python-client==1.8.0->cloud-tpu-client==0.10) (1.27.0)\n",
            "Requirement already satisfied: uritemplate<4dev,>=3.0.0 in /usr/local/lib/python3.7/dist-packages (from google-api-python-client==1.8.0->cloud-tpu-client==0.10) (3.0.1)\n",
            "Requirement already satisfied: pyasn1>=0.1.7 in /usr/local/lib/python3.7/dist-packages (from oauth2client->cloud-tpu-client==0.10) (0.4.8)\n",
            "Requirement already satisfied: pyasn1-modules>=0.0.5 in /usr/local/lib/python3.7/dist-packages (from oauth2client->cloud-tpu-client==0.10) (0.2.8)\n",
            "Requirement already satisfied: rsa>=3.1.4 in /usr/local/lib/python3.7/dist-packages (from oauth2client->cloud-tpu-client==0.10) (4.7.2)\n",
            "Requirement already satisfied: protobuf>=3.4.0 in /usr/local/lib/python3.7/dist-packages (from google-api-core<2dev,>=1.13.0->google-api-python-client==1.8.0->cloud-tpu-client==0.10) (3.12.4)\n",
            "Requirement already satisfied: requests<3.0.0dev,>=2.18.0 in /usr/local/lib/python3.7/dist-packages (from google-api-core<2dev,>=1.13.0->google-api-python-client==1.8.0->cloud-tpu-client==0.10) (2.23.0)\n",
            "Requirement already satisfied: setuptools>=34.0.0 in /usr/local/lib/python3.7/dist-packages (from google-api-core<2dev,>=1.13.0->google-api-python-client==1.8.0->cloud-tpu-client==0.10) (54.0.0)\n",
            "Requirement already satisfied: googleapis-common-protos<2.0dev,>=1.6.0 in /usr/local/lib/python3.7/dist-packages (from google-api-core<2dev,>=1.13.0->google-api-python-client==1.8.0->cloud-tpu-client==0.10) (1.52.0)\n",
            "Requirement already satisfied: pytz in /usr/local/lib/python3.7/dist-packages (from google-api-core<2dev,>=1.13.0->google-api-python-client==1.8.0->cloud-tpu-client==0.10) (2018.9)\n",
            "Requirement already satisfied: cachetools<5.0,>=2.0.0 in /usr/local/lib/python3.7/dist-packages (from google-auth>=1.4.1->google-api-python-client==1.8.0->cloud-tpu-client==0.10) (4.2.1)\n",
            "Requirement already satisfied: idna<3,>=2.5 in /usr/local/lib/python3.7/dist-packages (from requests<3.0.0dev,>=2.18.0->google-api-core<2dev,>=1.13.0->google-api-python-client==1.8.0->cloud-tpu-client==0.10) (2.10)\n",
            "Requirement already satisfied: chardet<4,>=3.0.2 in /usr/local/lib/python3.7/dist-packages (from requests<3.0.0dev,>=2.18.0->google-api-core<2dev,>=1.13.0->google-api-python-client==1.8.0->cloud-tpu-client==0.10) (3.0.4)\n",
            "Requirement already satisfied: certifi>=2017.4.17 in /usr/local/lib/python3.7/dist-packages (from requests<3.0.0dev,>=2.18.0->google-api-core<2dev,>=1.13.0->google-api-python-client==1.8.0->cloud-tpu-client==0.10) (2020.12.5)\n",
            "Requirement already satisfied: urllib3!=1.25.0,!=1.25.1,<1.26,>=1.21.1 in /usr/local/lib/python3.7/dist-packages (from requests<3.0.0dev,>=2.18.0->google-api-core<2dev,>=1.13.0->google-api-python-client==1.8.0->cloud-tpu-client==0.10) (1.24.3)\n",
            "Installing collected packages: google-api-python-client, cloud-tpu-client, torch-xla\n",
            "  Found existing installation: google-api-python-client 1.7.12\n",
            "    Uninstalling google-api-python-client-1.7.12:\n",
            "      Successfully uninstalled google-api-python-client-1.7.12\n",
            "Successfully installed cloud-tpu-client-0.10 google-api-python-client-1.8.0 torch-xla-1.8\n"
          ],
          "name": "stdout"
        },
        {
          "output_type": "display_data",
          "data": {
            "application/vnd.colab-display-data+json": {
              "pip_warning": {
                "packages": [
                  "googleapiclient"
                ]
              }
            }
          },
          "metadata": {
            "tags": []
          }
        }
      ]
    },
    {
      "cell_type": "code",
      "metadata": {
        "id": "Qga9IEJ_svCR"
      },
      "source": [
        "# VERSION = \"20200325\"  #@param [\"1.5\" , \"20200325\", \"nightly\"]\r\n",
        "# !curl https://raw.githubusercontent.com/pytorch/xla/master/contrib/scripts/env-setup.py -o pytorch-xla-env-setup.py\r\n",
        "# !python pytorch-xla-env-setup.py --version $VERSION"
      ],
      "execution_count": null,
      "outputs": []
    },
    {
      "cell_type": "code",
      "metadata": {
        "colab": {
          "base_uri": "https://localhost:8080/",
          "height": 514
        },
        "id": "TLT4xPgiq59J",
        "outputId": "d43a0981-b282-46b2-a509-9d7918f9b511"
      },
      "source": [
        "import torch_xla\r\n",
        "# import torch_xla.core.xla_model as xm\r\n",
        "\r\n",
        "# Creates AlexNet for 10 classes\r\n",
        "# net = torchvision.models.alexnet(num_classes=10)\r\n",
        "\r\n",
        "# Acquires the default Cloud TPU core and moves the model to it\r\n",
        "device = xm.xla_device()\r\n",
        "print(device)\r\n"
      ],
      "execution_count": null,
      "outputs": [
        {
          "output_type": "error",
          "ename": "ImportError",
          "evalue": "ignored",
          "traceback": [
            "\u001b[0;31m---------------------------------------------------------------------------\u001b[0m",
            "\u001b[0;31mImportError\u001b[0m                               Traceback (most recent call last)",
            "\u001b[0;32m<ipython-input-7-181952cb4e3f>\u001b[0m in \u001b[0;36m<module>\u001b[0;34m()\u001b[0m\n\u001b[0;32m----> 1\u001b[0;31m \u001b[0;32mimport\u001b[0m \u001b[0mtorch_xla\u001b[0m\u001b[0;34m\u001b[0m\u001b[0;34m\u001b[0m\u001b[0m\n\u001b[0m\u001b[1;32m      2\u001b[0m \u001b[0;32mimport\u001b[0m \u001b[0mtorch_xla\u001b[0m\u001b[0;34m.\u001b[0m\u001b[0mcore\u001b[0m\u001b[0;34m.\u001b[0m\u001b[0mxla_model\u001b[0m \u001b[0;32mas\u001b[0m \u001b[0mxm\u001b[0m\u001b[0;34m\u001b[0m\u001b[0;34m\u001b[0m\u001b[0m\n\u001b[1;32m      3\u001b[0m \u001b[0;34m\u001b[0m\u001b[0m\n\u001b[1;32m      4\u001b[0m \u001b[0;31m# Creates AlexNet for 10 classes\u001b[0m\u001b[0;34m\u001b[0m\u001b[0;34m\u001b[0m\u001b[0;34m\u001b[0m\u001b[0m\n\u001b[1;32m      5\u001b[0m \u001b[0;31m# net = torchvision.models.alexnet(num_classes=10)\u001b[0m\u001b[0;34m\u001b[0m\u001b[0;34m\u001b[0m\u001b[0;34m\u001b[0m\u001b[0m\n",
            "\u001b[0;32m/usr/local/lib/python3.7/dist-packages/torch_xla/__init__.py\u001b[0m in \u001b[0;36m<module>\u001b[0;34m()\u001b[0m\n\u001b[1;32m    126\u001b[0m \u001b[0;32mimport\u001b[0m \u001b[0mtorch\u001b[0m\u001b[0;34m\u001b[0m\u001b[0;34m\u001b[0m\u001b[0m\n\u001b[1;32m    127\u001b[0m \u001b[0;32mfrom\u001b[0m \u001b[0;34m.\u001b[0m\u001b[0m_patched_functions\u001b[0m \u001b[0;32mimport\u001b[0m \u001b[0m_apply_patches\u001b[0m\u001b[0;34m\u001b[0m\u001b[0;34m\u001b[0m\u001b[0m\n\u001b[0;32m--> 128\u001b[0;31m \u001b[0;32mimport\u001b[0m \u001b[0m_XLAC\u001b[0m\u001b[0;34m\u001b[0m\u001b[0;34m\u001b[0m\u001b[0m\n\u001b[0m\u001b[1;32m    129\u001b[0m \u001b[0;34m\u001b[0m\u001b[0m\n\u001b[1;32m    130\u001b[0m \u001b[0;34m\u001b[0m\u001b[0m\n",
            "\u001b[0;31mImportError\u001b[0m: /usr/local/lib/python3.7/dist-packages/_XLAC.cpython-37m-x86_64-linux-gnu.so: undefined symbol: _ZNK3c104Type14isSubtypeOfExtERKSt10shared_ptrIS0_EPSo",
            "",
            "\u001b[0;31m---------------------------------------------------------------------------\u001b[0;32m\nNOTE: If your import is failing due to a missing package, you can\nmanually install dependencies using either !pip or !apt.\n\nTo view examples of installing some common dependencies, click the\n\"Open Examples\" button below.\n\u001b[0;31m---------------------------------------------------------------------------\u001b[0m\n"
          ]
        }
      ]
    },
    {
      "cell_type": "markdown",
      "metadata": {
        "id": "iW9FWxoIs5MG"
      },
      "source": [
        "----"
      ]
    },
    {
      "cell_type": "code",
      "metadata": {
        "colab": {
          "base_uri": "https://localhost:8080/"
        },
        "id": "IcdG8ncKgwM_",
        "outputId": "822e6d4b-315e-4849-e3ef-2d51c09e1463"
      },
      "source": [
        "try:\r\n",
        "    tpu = tf.distribute.cluster_resolver.TPUClusterResolver()  \r\n",
        "    # TPU detection. No parameters necessary if TPU_NAME environment variable is set. On Kaggle this is always the case.\r\n",
        "    print('Running on TPU ', tpu.master())\r\n",
        "except ValueError:\r\n",
        "    tpu = None\r\n",
        "\r\n",
        "if tpu:\r\n",
        "    tf.config.experimental_connect_to_cluster(tpu)\r\n",
        "    tf.tpu.experimental.initialize_tpu_system(tpu)\r\n",
        "    strategy = tf.distribute.experimental.TPUStrategy(tpu)\r\n",
        "else:\r\n",
        "    strategy = tf.distribute.get_strategy() \r\n",
        "    # default distribution strategy in Tensorflow. Works on CPU and single GPU.\r\n",
        "print(\"REPLICAS: \", strategy.num_replicas_in_sync)"
      ],
      "execution_count": null,
      "outputs": [
        {
          "output_type": "stream",
          "text": [
            "Running on TPU  grpc://10.81.193.18:8470\n",
            "INFO:tensorflow:Initializing the TPU system: grpc://10.81.193.18:8470\n"
          ],
          "name": "stdout"
        },
        {
          "output_type": "stream",
          "text": [
            "INFO:tensorflow:Initializing the TPU system: grpc://10.81.193.18:8470\n"
          ],
          "name": "stderr"
        },
        {
          "output_type": "stream",
          "text": [
            "INFO:tensorflow:Clearing out eager caches\n"
          ],
          "name": "stdout"
        },
        {
          "output_type": "stream",
          "text": [
            "INFO:tensorflow:Clearing out eager caches\n"
          ],
          "name": "stderr"
        },
        {
          "output_type": "stream",
          "text": [
            "INFO:tensorflow:Finished initializing TPU system.\n"
          ],
          "name": "stdout"
        },
        {
          "output_type": "stream",
          "text": [
            "INFO:tensorflow:Finished initializing TPU system.\n",
            "WARNING:absl:`tf.distribute.experimental.TPUStrategy` is deprecated, please use  the non experimental symbol `tf.distribute.TPUStrategy` instead.\n"
          ],
          "name": "stderr"
        },
        {
          "output_type": "stream",
          "text": [
            "INFO:tensorflow:Found TPU system:\n"
          ],
          "name": "stdout"
        },
        {
          "output_type": "stream",
          "text": [
            "INFO:tensorflow:Found TPU system:\n"
          ],
          "name": "stderr"
        },
        {
          "output_type": "stream",
          "text": [
            "INFO:tensorflow:*** Num TPU Cores: 8\n"
          ],
          "name": "stdout"
        },
        {
          "output_type": "stream",
          "text": [
            "INFO:tensorflow:*** Num TPU Cores: 8\n"
          ],
          "name": "stderr"
        },
        {
          "output_type": "stream",
          "text": [
            "INFO:tensorflow:*** Num TPU Workers: 1\n"
          ],
          "name": "stdout"
        },
        {
          "output_type": "stream",
          "text": [
            "INFO:tensorflow:*** Num TPU Workers: 1\n"
          ],
          "name": "stderr"
        },
        {
          "output_type": "stream",
          "text": [
            "INFO:tensorflow:*** Num TPU Cores Per Worker: 8\n"
          ],
          "name": "stdout"
        },
        {
          "output_type": "stream",
          "text": [
            "INFO:tensorflow:*** Num TPU Cores Per Worker: 8\n"
          ],
          "name": "stderr"
        },
        {
          "output_type": "stream",
          "text": [
            "INFO:tensorflow:*** Available Device: _DeviceAttributes(/job:localhost/replica:0/task:0/device:CPU:0, CPU, 0, 0)\n"
          ],
          "name": "stdout"
        },
        {
          "output_type": "stream",
          "text": [
            "INFO:tensorflow:*** Available Device: _DeviceAttributes(/job:localhost/replica:0/task:0/device:CPU:0, CPU, 0, 0)\n"
          ],
          "name": "stderr"
        },
        {
          "output_type": "stream",
          "text": [
            "INFO:tensorflow:*** Available Device: _DeviceAttributes(/job:worker/replica:0/task:0/device:CPU:0, CPU, 0, 0)\n"
          ],
          "name": "stdout"
        },
        {
          "output_type": "stream",
          "text": [
            "INFO:tensorflow:*** Available Device: _DeviceAttributes(/job:worker/replica:0/task:0/device:CPU:0, CPU, 0, 0)\n"
          ],
          "name": "stderr"
        },
        {
          "output_type": "stream",
          "text": [
            "INFO:tensorflow:*** Available Device: _DeviceAttributes(/job:worker/replica:0/task:0/device:TPU:0, TPU, 0, 0)\n"
          ],
          "name": "stdout"
        },
        {
          "output_type": "stream",
          "text": [
            "INFO:tensorflow:*** Available Device: _DeviceAttributes(/job:worker/replica:0/task:0/device:TPU:0, TPU, 0, 0)\n"
          ],
          "name": "stderr"
        },
        {
          "output_type": "stream",
          "text": [
            "INFO:tensorflow:*** Available Device: _DeviceAttributes(/job:worker/replica:0/task:0/device:TPU:1, TPU, 0, 0)\n"
          ],
          "name": "stdout"
        },
        {
          "output_type": "stream",
          "text": [
            "INFO:tensorflow:*** Available Device: _DeviceAttributes(/job:worker/replica:0/task:0/device:TPU:1, TPU, 0, 0)\n"
          ],
          "name": "stderr"
        },
        {
          "output_type": "stream",
          "text": [
            "INFO:tensorflow:*** Available Device: _DeviceAttributes(/job:worker/replica:0/task:0/device:TPU:2, TPU, 0, 0)\n"
          ],
          "name": "stdout"
        },
        {
          "output_type": "stream",
          "text": [
            "INFO:tensorflow:*** Available Device: _DeviceAttributes(/job:worker/replica:0/task:0/device:TPU:2, TPU, 0, 0)\n"
          ],
          "name": "stderr"
        },
        {
          "output_type": "stream",
          "text": [
            "INFO:tensorflow:*** Available Device: _DeviceAttributes(/job:worker/replica:0/task:0/device:TPU:3, TPU, 0, 0)\n"
          ],
          "name": "stdout"
        },
        {
          "output_type": "stream",
          "text": [
            "INFO:tensorflow:*** Available Device: _DeviceAttributes(/job:worker/replica:0/task:0/device:TPU:3, TPU, 0, 0)\n"
          ],
          "name": "stderr"
        },
        {
          "output_type": "stream",
          "text": [
            "INFO:tensorflow:*** Available Device: _DeviceAttributes(/job:worker/replica:0/task:0/device:TPU:4, TPU, 0, 0)\n"
          ],
          "name": "stdout"
        },
        {
          "output_type": "stream",
          "text": [
            "INFO:tensorflow:*** Available Device: _DeviceAttributes(/job:worker/replica:0/task:0/device:TPU:4, TPU, 0, 0)\n"
          ],
          "name": "stderr"
        },
        {
          "output_type": "stream",
          "text": [
            "INFO:tensorflow:*** Available Device: _DeviceAttributes(/job:worker/replica:0/task:0/device:TPU:5, TPU, 0, 0)\n"
          ],
          "name": "stdout"
        },
        {
          "output_type": "stream",
          "text": [
            "INFO:tensorflow:*** Available Device: _DeviceAttributes(/job:worker/replica:0/task:0/device:TPU:5, TPU, 0, 0)\n"
          ],
          "name": "stderr"
        },
        {
          "output_type": "stream",
          "text": [
            "INFO:tensorflow:*** Available Device: _DeviceAttributes(/job:worker/replica:0/task:0/device:TPU:6, TPU, 0, 0)\n"
          ],
          "name": "stdout"
        },
        {
          "output_type": "stream",
          "text": [
            "INFO:tensorflow:*** Available Device: _DeviceAttributes(/job:worker/replica:0/task:0/device:TPU:6, TPU, 0, 0)\n"
          ],
          "name": "stderr"
        },
        {
          "output_type": "stream",
          "text": [
            "INFO:tensorflow:*** Available Device: _DeviceAttributes(/job:worker/replica:0/task:0/device:TPU:7, TPU, 0, 0)\n"
          ],
          "name": "stdout"
        },
        {
          "output_type": "stream",
          "text": [
            "INFO:tensorflow:*** Available Device: _DeviceAttributes(/job:worker/replica:0/task:0/device:TPU:7, TPU, 0, 0)\n"
          ],
          "name": "stderr"
        },
        {
          "output_type": "stream",
          "text": [
            "INFO:tensorflow:*** Available Device: _DeviceAttributes(/job:worker/replica:0/task:0/device:TPU_SYSTEM:0, TPU_SYSTEM, 0, 0)\n"
          ],
          "name": "stdout"
        },
        {
          "output_type": "stream",
          "text": [
            "INFO:tensorflow:*** Available Device: _DeviceAttributes(/job:worker/replica:0/task:0/device:TPU_SYSTEM:0, TPU_SYSTEM, 0, 0)\n"
          ],
          "name": "stderr"
        },
        {
          "output_type": "stream",
          "text": [
            "INFO:tensorflow:*** Available Device: _DeviceAttributes(/job:worker/replica:0/task:0/device:XLA_CPU:0, XLA_CPU, 0, 0)\n"
          ],
          "name": "stdout"
        },
        {
          "output_type": "stream",
          "text": [
            "INFO:tensorflow:*** Available Device: _DeviceAttributes(/job:worker/replica:0/task:0/device:XLA_CPU:0, XLA_CPU, 0, 0)\n"
          ],
          "name": "stderr"
        },
        {
          "output_type": "stream",
          "text": [
            "REPLICAS:  8\n"
          ],
          "name": "stdout"
        }
      ]
    },
    {
      "cell_type": "code",
      "metadata": {
        "colab": {
          "base_uri": "https://localhost:8080/",
          "height": 244
        },
        "id": "-6mI7DRegwPi",
        "outputId": "78c5adcf-fc10-4a55-f051-793795eefc47"
      },
      "source": [
        "with strategy.scope():\r\n",
        "    inputs=Input((None, x_train_.shape[2], x_train_.shape[3], 1))\r\n",
        "\r\n",
        "    convLSTM = ConvLSTM2D(filters=64, kernel_size=3, padding='same', return_sequences=True)(inputs)\r\n",
        "    convLSTM = BatchNormalization()(convLSTM)\r\n",
        "\r\n",
        "    convLSTM = ConvLSTM2D(filters=64, kernel_size=3, padding='same', return_sequences=True)(convLSTM)\r\n",
        "    convLSTM = BatchNormalization()(convLSTM)\r\n",
        "\r\n",
        "    convLSTM = ConvLSTM2D(filters=64, kernel_size=3, padding='same', return_sequences=True)(convLSTM)\r\n",
        "    convLSTM = BatchNormalization()(convLSTM)\r\n",
        "\r\n",
        "    outputs = Conv3D(filters=1, kernel_size=3, activation='relu', padding='same', data_format='channels_last')(convLSTM)\r\n",
        "\r\n",
        "    model = Model(inputs, outputs)\r\n",
        "    model.compile(loss='mae', optimizer=Adam())\r\n",
        "    \r\n",
        "model.summary()"
      ],
      "execution_count": null,
      "outputs": [
        {
          "output_type": "error",
          "ename": "NameError",
          "evalue": "ignored",
          "traceback": [
            "\u001b[0;31m---------------------------------------------------------------------------\u001b[0m",
            "\u001b[0;31mNameError\u001b[0m                                 Traceback (most recent call last)",
            "\u001b[0;32m<ipython-input-7-cb30f0d94274>\u001b[0m in \u001b[0;36m<module>\u001b[0;34m()\u001b[0m\n\u001b[1;32m      1\u001b[0m \u001b[0;32mwith\u001b[0m \u001b[0mstrategy\u001b[0m\u001b[0;34m.\u001b[0m\u001b[0mscope\u001b[0m\u001b[0;34m(\u001b[0m\u001b[0;34m)\u001b[0m\u001b[0;34m:\u001b[0m\u001b[0;34m\u001b[0m\u001b[0;34m\u001b[0m\u001b[0m\n\u001b[0;32m----> 2\u001b[0;31m     \u001b[0minputs\u001b[0m\u001b[0;34m=\u001b[0m\u001b[0mInput\u001b[0m\u001b[0;34m(\u001b[0m\u001b[0;34m(\u001b[0m\u001b[0;32mNone\u001b[0m\u001b[0;34m,\u001b[0m \u001b[0mx_train_\u001b[0m\u001b[0;34m.\u001b[0m\u001b[0mshape\u001b[0m\u001b[0;34m[\u001b[0m\u001b[0;36m2\u001b[0m\u001b[0;34m]\u001b[0m\u001b[0;34m,\u001b[0m \u001b[0mx_train_\u001b[0m\u001b[0;34m.\u001b[0m\u001b[0mshape\u001b[0m\u001b[0;34m[\u001b[0m\u001b[0;36m3\u001b[0m\u001b[0;34m]\u001b[0m\u001b[0;34m,\u001b[0m \u001b[0;36m1\u001b[0m\u001b[0;34m)\u001b[0m\u001b[0;34m)\u001b[0m\u001b[0;34m\u001b[0m\u001b[0;34m\u001b[0m\u001b[0m\n\u001b[0m\u001b[1;32m      3\u001b[0m \u001b[0;34m\u001b[0m\u001b[0m\n\u001b[1;32m      4\u001b[0m     \u001b[0mconvLSTM\u001b[0m \u001b[0;34m=\u001b[0m \u001b[0mConvLSTM2D\u001b[0m\u001b[0;34m(\u001b[0m\u001b[0mfilters\u001b[0m\u001b[0;34m=\u001b[0m\u001b[0;36m64\u001b[0m\u001b[0;34m,\u001b[0m \u001b[0mkernel_size\u001b[0m\u001b[0;34m=\u001b[0m\u001b[0;36m3\u001b[0m\u001b[0;34m,\u001b[0m \u001b[0mpadding\u001b[0m\u001b[0;34m=\u001b[0m\u001b[0;34m'same'\u001b[0m\u001b[0;34m,\u001b[0m \u001b[0mreturn_sequences\u001b[0m\u001b[0;34m=\u001b[0m\u001b[0;32mTrue\u001b[0m\u001b[0;34m)\u001b[0m\u001b[0;34m(\u001b[0m\u001b[0minputs\u001b[0m\u001b[0;34m)\u001b[0m\u001b[0;34m\u001b[0m\u001b[0;34m\u001b[0m\u001b[0m\n\u001b[1;32m      5\u001b[0m     \u001b[0mconvLSTM\u001b[0m \u001b[0;34m=\u001b[0m \u001b[0mBatchNormalization\u001b[0m\u001b[0;34m(\u001b[0m\u001b[0;34m)\u001b[0m\u001b[0;34m(\u001b[0m\u001b[0mconvLSTM\u001b[0m\u001b[0;34m)\u001b[0m\u001b[0;34m\u001b[0m\u001b[0;34m\u001b[0m\u001b[0m\n",
            "\u001b[0;31mNameError\u001b[0m: name 'x_train_' is not defined"
          ]
        }
      ]
    },
    {
      "cell_type": "markdown",
      "metadata": {
        "id": "1BEc7gP7mzPV"
      },
      "source": [
        "데이터"
      ]
    },
    {
      "cell_type": "code",
      "metadata": {
        "colab": {
          "base_uri": "https://localhost:8080/"
        },
        "id": "iEPwdy3WqkYT",
        "outputId": "65752811-b0ba-4dd9-abf4-ca54c3eafb79"
      },
      "source": [
        "# 구글드라이브 연결\r\n",
        "from google.colab import drive\r\n",
        "drive.mount('/content/drive')"
      ],
      "execution_count": null,
      "outputs": [
        {
          "output_type": "stream",
          "text": [
            "Drive already mounted at /content/drive; to attempt to forcibly remount, call drive.mount(\"/content/drive\", force_remount=True).\n"
          ],
          "name": "stdout"
        }
      ]
    },
    {
      "cell_type": "code",
      "metadata": {
        "colab": {
          "base_uri": "https://localhost:8080/",
          "height": 204
        },
        "id": "HyeJc_ymqkYU",
        "outputId": "3e939755-7a08-41cd-ac76-14de0a2cf536"
      },
      "source": [
        "fn = pd.read_csv('/content/drive/MyDrive/Colab Notebooks/DACON 1등이 목표/data/train.csv')\r\n",
        "fn.tail()"
      ],
      "execution_count": null,
      "outputs": [
        {
          "output_type": "execute_result",
          "data": {
            "text/html": [
              "<div>\n",
              "<style scoped>\n",
              "    .dataframe tbody tr th:only-of-type {\n",
              "        vertical-align: middle;\n",
              "    }\n",
              "\n",
              "    .dataframe tbody tr th {\n",
              "        vertical-align: top;\n",
              "    }\n",
              "\n",
              "    .dataframe thead th {\n",
              "        text-align: right;\n",
              "    }\n",
              "</style>\n",
              "<table border=\"1\" class=\"dataframe\">\n",
              "  <thead>\n",
              "    <tr style=\"text-align: right;\">\n",
              "      <th></th>\n",
              "      <th>month</th>\n",
              "      <th>file_nm</th>\n",
              "    </tr>\n",
              "  </thead>\n",
              "  <tbody>\n",
              "    <tr>\n",
              "      <th>477</th>\n",
              "      <td>2018-08</td>\n",
              "      <td>201808.npy</td>\n",
              "    </tr>\n",
              "    <tr>\n",
              "      <th>478</th>\n",
              "      <td>2018-09</td>\n",
              "      <td>201809.npy</td>\n",
              "    </tr>\n",
              "    <tr>\n",
              "      <th>479</th>\n",
              "      <td>2018-10</td>\n",
              "      <td>201810.npy</td>\n",
              "    </tr>\n",
              "    <tr>\n",
              "      <th>480</th>\n",
              "      <td>2018-11</td>\n",
              "      <td>201811.npy</td>\n",
              "    </tr>\n",
              "    <tr>\n",
              "      <th>481</th>\n",
              "      <td>2018-12</td>\n",
              "      <td>201812.npy</td>\n",
              "    </tr>\n",
              "  </tbody>\n",
              "</table>\n",
              "</div>"
            ],
            "text/plain": [
              "       month     file_nm\n",
              "477  2018-08  201808.npy\n",
              "478  2018-09  201809.npy\n",
              "479  2018-10  201810.npy\n",
              "480  2018-11  201811.npy\n",
              "481  2018-12  201812.npy"
            ]
          },
          "metadata": {
            "tags": []
          },
          "execution_count": 3
        }
      ]
    },
    {
      "cell_type": "code",
      "metadata": {
        "colab": {
          "base_uri": "https://localhost:8080/"
        },
        "id": "-o1qG0tZqkYX",
        "outputId": "b4d59c86-47f6-413a-91b4-4547d573febc"
      },
      "source": [
        "# 이거는 데이터명만\r\n",
        "# 첫 번째 파일은 제하고\r\n",
        "dm = fn.iloc[423:,1]\r\n",
        "dm.shape"
      ],
      "execution_count": null,
      "outputs": [
        {
          "output_type": "execute_result",
          "data": {
            "text/plain": [
              "(59,)"
            ]
          },
          "metadata": {
            "tags": []
          },
          "execution_count": 4
        }
      ]
    },
    {
      "cell_type": "code",
      "metadata": {
        "colab": {
          "base_uri": "https://localhost:8080/"
        },
        "id": "lOsTWme7qkYb",
        "outputId": "10faab47-f9ae-4be0-8b2d-3c9aac25846e"
      },
      "source": [
        "# 데이터 생성\r\n",
        "data = np.load('/content/drive/MyDrive/Colab Notebooks/DACON 1등이 목표/data/train/201401.npy')\r\n",
        "data = data.reshape(1,448,304,5)\r\n",
        "\r\n",
        "for i in tqdm(dm):\r\n",
        "    a = np.load('/content/drive/MyDrive/Colab Notebooks/DACON 1등이 목표/data/train/'+i)\r\n",
        "    a = a.reshape(1,448,304,5)\r\n",
        "\r\n",
        "    data = np.concatenate((data,a), axis=0)\r\n",
        "data = np.array(data)\r\n",
        "data = data[:,:,:,0]\r\n",
        "\r\n",
        "data.shape\r\n"
      ],
      "execution_count": null,
      "outputs": [
        {
          "output_type": "stream",
          "text": [
            "100%|██████████| 59/59 [00:00<00:00, 116.98it/s]\n"
          ],
          "name": "stderr"
        },
        {
          "output_type": "execute_result",
          "data": {
            "text/plain": [
              "(60, 448, 304)"
            ]
          },
          "metadata": {
            "tags": []
          },
          "execution_count": 5
        }
      ]
    },
    {
      "cell_type": "code",
      "metadata": {
        "colab": {
          "base_uri": "https://localhost:8080/",
          "height": 281
        },
        "id": "VuuZt-LeqkYe",
        "outputId": "74d64eab-6c09-47ec-823c-0b93206b4dc9"
      },
      "source": [
        "# 그래프 그려보기\r\n",
        "import matplotlib.pyplot\r\n",
        "matplotlib.pyplot.imshow(data[0], interpolation = 'None')\r\n",
        "matplotlib.pyplot.title('map1')\r\n",
        "matplotlib.pyplot.show()"
      ],
      "execution_count": null,
      "outputs": [
        {
          "output_type": "display_data",
          "data": {
            "image/png": "[encoded data removed]",
            "text/plain": [
              "<Figure size 432x288 with 1 Axes>"
            ]
          },
          "metadata": {
            "tags": [],
            "needs_background": "light"
          }
        }
      ]
    },
    {
      "cell_type": "markdown",
      "metadata": {
        "id": "YuxntUihpMDA"
      },
      "source": [
        "> pytorch \r\n",
        "* https://teddylee777.github.io/pytorch/conv2d-output-size-%EA%B3%84%EC%82%B0%EB%B2%95"
      ]
    },
    {
      "cell_type": "code",
      "metadata": {
        "id": "zpT4ffS7pQYc"
      },
      "source": [
        ""
      ],
      "execution_count": null,
      "outputs": []
    },
    {
      "cell_type": "code",
      "metadata": {
        "id": "V9g3SPoZnkgX"
      },
      "source": [
        ""
      ],
      "execution_count": null,
      "outputs": []
    },
    {
      "cell_type": "code",
      "metadata": {
        "colab": {
          "base_uri": "https://localhost:8080/"
        },
        "id": "0KrPIfYhnta9",
        "outputId": "59496040-5f94-4d87-f880-967c9dd99bb3"
      },
      "source": [
        "data.shape"
      ],
      "execution_count": null,
      "outputs": [
        {
          "output_type": "execute_result",
          "data": {
            "text/plain": [
              "(60, 448, 304)"
            ]
          },
          "metadata": {
            "tags": []
          },
          "execution_count": 9
        }
      ]
    },
    {
      "cell_type": "code",
      "metadata": {
        "colab": {
          "base_uri": "https://localhost:8080/"
        },
        "id": "Awc-Lsx9oBga",
        "outputId": "a177f63a-aac6-47bf-c573-7c0a7fbb5500"
      },
      "source": [
        "# 데이터 셋 만들기\r\n",
        "\r\n",
        "# 데이터 셋 형태 변환\r\n",
        "data = data.reshape(60,1,448,304)\r\n",
        "\r\n",
        "# 월별로 데이터 셋 생성\r\n",
        "for i in tqdm(range(12)):\r\n",
        "  globals()['train{}'.format(i)] = np.array(np.concatenate((data[0+i], data[12+i], data[24+i], data[36+i], data[48+i]), axis=0)).reshape(5,448,304,1)\r\n",
        "\r\n",
        "  print(\"\\n\",globals()['train{}'.format(i)].shape)  # globals()는 그 변수를 의미 - 없으면 그냥 문자열"
      ],
      "execution_count": null,
      "outputs": [
        {
          "output_type": "stream",
          "text": [
            "100%|██████████| 12/12 [00:00<00:00, 804.46it/s]"
          ],
          "name": "stderr"
        },
        {
          "output_type": "stream",
          "text": [
            "\n",
            " (5, 448, 304, 1)\n",
            "\n",
            " (5, 448, 304, 1)\n",
            "\n",
            " (5, 448, 304, 1)\n",
            "\n",
            " (5, 448, 304, 1)\n",
            "\n",
            " (5, 448, 304, 1)\n",
            "\n",
            " (5, 448, 304, 1)\n",
            "\n",
            " (5, 448, 304, 1)\n",
            "\n",
            " (5, 448, 304, 1)\n",
            "\n",
            " (5, 448, 304, 1)\n",
            "\n",
            " (5, 448, 304, 1)\n",
            "\n",
            " (5, 448, 304, 1)\n",
            "\n",
            " (5, 448, 304, 1)\n"
          ],
          "name": "stdout"
        },
        {
          "output_type": "stream",
          "text": [
            "\n"
          ],
          "name": "stderr"
        }
      ]
    },
    {
      "cell_type": "markdown",
      "metadata": {
        "id": "pCOeiNBFpl02"
      },
      "source": [
        "* 첫번째 parameter 인 3은 input_channel_size가 되겠습니다. 여기서 input_channel_size는 Input Image의 RGB depth 인 3이 되겠습니다. (즉, 32*32 Image 3장이 들어간다고 보면 되겠습니다.)\r\n",
        "\r\n",
        "* 두번째 parameter 인 32는 output_volume_size입니다. 즉, conv1 layer를 거쳐 몇장의 필터를 만들어 내고 싶은가? 입니다. 32장의 필터를 만들어 내고 싶으므로, 32가 되겠습니다.\r\n",
        "\r\n",
        "* 세번째 parameter는 kernel_size입니다. Filter_size라고도 불리기도 하는데, 말 그대로 filter의 사이즈를 정의하는 것입니다. 3*3 filter를 사용하고 싶기 때문에 3을 기입했습니다."
      ]
    },
    {
      "cell_type": "code",
      "metadata": {
        "id": "lHG-Q082oBXy"
      },
      "source": [
        "import torch.nn as nn\r\n",
        "import torch.nn.functional as F\r\n",
        "\r\n",
        "class Net(nn.Module):\r\n",
        "    def __init__(self):\r\n",
        "        super(Net, self).__init__()\r\n",
        "        self.conv1 = nn.Conv2d(1, 3, 1, padding=0)\r\n",
        "        self.conv2 = nn.Conv2d(3, 1, 1, padding=0)\r\n",
        "\r\n",
        "        # self.fc1 = nn.LSTM(3, 3)\r\n",
        "\r\n",
        "        # self.conv3 = nn.Conv2d(3, 3, 1, padding=0)\r\n",
        "        # self.conv4 = nn.Conv2d(3, 1, 1, padding=0)\r\n",
        "\r\n",
        "        # self.fc1 = nn.Linear(304, 304)\r\n",
        "\r\n",
        "        # self.conv4 = nn.Conv2d(1,1,1, padding=0)\r\n",
        "\r\n",
        "    def forward(self, x):\r\n",
        "        # add sequence of convolutional and max pooling layers\r\n",
        "        x = F.relu(self.conv1(x))\r\n",
        "        x = F.relu(self.conv2(x)[-1:,:,:])\r\n",
        "        # x = self.fc1(x)\r\n",
        "        # x = F.relu(self.conv3(x))\r\n",
        "        # x = F.relu(self.conv4(x[-1:,:,:]))\r\n",
        "\r\n",
        "        # x = self.fc1(x[-1:,:,:])\r\n",
        "        # x = F.relu(self.fc2(x[-1:,:,:]))\r\n",
        "\r\n",
        "        # x = F.relu(self.conv4(x[-1:,:,:]))\r\n",
        "        \r\n",
        "        return x.view(1,448,304)\r\n",
        "\r\n",
        "model_cnn = Net().to(device)  # to(device)를 통해 GPU로"
      ],
      "execution_count": null,
      "outputs": []
    },
    {
      "cell_type": "code",
      "metadata": {
        "colab": {
          "base_uri": "https://localhost:8080/"
        },
        "id": "xAEvq5qXqW2c",
        "outputId": "7311dcd3-4d8d-472d-e8fc-62ee9cac018f"
      },
      "source": [
        "model_cnn = Net().to(device)  # to(device)를 통해 GPU로\r\n",
        "model_cnn"
      ],
      "execution_count": null,
      "outputs": [
        {
          "output_type": "execute_result",
          "data": {
            "text/plain": [
              "Net(\n",
              "  (conv1): Conv2d(1, 3, kernel_size=(1, 1), stride=(1, 1))\n",
              "  (conv2): Conv2d(3, 1, kernel_size=(1, 1), stride=(1, 1))\n",
              "  (fc1): LSTM(1, 1)\n",
              ")"
            ]
          },
          "metadata": {
            "tags": []
          },
          "execution_count": 221
        }
      ]
    },
    {
      "cell_type": "code",
      "metadata": {
        "id": "aCzeTYCyvXYw"
      },
      "source": [
        "# 데이터 셋\r\n",
        "window_x = torch.tensor(train0[:4]).float().to(device)  # 데이터를 GPU로\r\n",
        "window_y = torch.tensor(train0[4]).float().to(device)"
      ],
      "execution_count": null,
      "outputs": []
    },
    {
      "cell_type": "code",
      "metadata": {
        "colab": {
          "base_uri": "https://localhost:8080/"
        },
        "id": "s8ZzaOYFvwEg",
        "outputId": "977bdecf-dd88-4487-b268-b29bddec72ae"
      },
      "source": [
        "window_x.shape"
      ],
      "execution_count": null,
      "outputs": [
        {
          "output_type": "execute_result",
          "data": {
            "text/plain": [
              "torch.Size([4, 1, 448, 304])"
            ]
          },
          "metadata": {
            "tags": []
          },
          "execution_count": 188
        }
      ]
    },
    {
      "cell_type": "code",
      "metadata": {
        "colab": {
          "base_uri": "https://localhost:8080/"
        },
        "id": "WbF5PFGjvqOq",
        "outputId": "578c3de5-e08c-479b-84fa-39ffdd03aa7d"
      },
      "source": [
        "model_cnn(window_x).shape"
      ],
      "execution_count": null,
      "outputs": [
        {
          "output_type": "execute_result",
          "data": {
            "text/plain": [
              "torch.Size([1, 448, 304])"
            ]
          },
          "metadata": {
            "tags": []
          },
          "execution_count": 227
        }
      ]
    },
    {
      "cell_type": "code",
      "metadata": {
        "colab": {
          "base_uri": "https://localhost:8080/"
        },
        "id": "u-2Nt2SYXxP3",
        "outputId": "842f9be8-b7ee-4efb-ba5d-260934081f7d"
      },
      "source": [
        "window_y.shape"
      ],
      "execution_count": null,
      "outputs": [
        {
          "output_type": "execute_result",
          "data": {
            "text/plain": [
              "torch.Size([1, 448, 304])"
            ]
          },
          "metadata": {
            "tags": []
          },
          "execution_count": 152
        }
      ]
    },
    {
      "cell_type": "code",
      "metadata": {
        "colab": {
          "base_uri": "https://localhost:8080/",
          "height": 281
        },
        "id": "hberPPmNqWus",
        "outputId": "8fb46264-1b80-46a4-fc62-c968ee73d5e9"
      },
      "source": [
        "# 그래프 그려보기\r\n",
        "import matplotlib.pyplot\r\n",
        "matplotlib.pyplot.imshow(model_cnn(window_x)[0].cpu().detach(), interpolation = 'None')\r\n",
        "matplotlib.pyplot.title('map1')\r\n",
        "matplotlib.pyplot.show()"
      ],
      "execution_count": null,
      "outputs": [
        {
          "output_type": "display_data",
          "data": {
            "image/png": "[encoded data removed]",
            "text/plain": [
              "<Figure size 432x288 with 1 Axes>"
            ]
          },
          "metadata": {
            "tags": [],
            "needs_background": "light"
          }
        }
      ]
    },
    {
      "cell_type": "code",
      "metadata": {
        "colab": {
          "base_uri": "https://localhost:8080/",
          "height": 281
        },
        "id": "UOPB7lMO0MFq",
        "outputId": "9690ec74-03bc-4587-ea3d-b84a1e182bb7"
      },
      "source": [
        "# 그래프 그려보기\r\n",
        "import matplotlib.pyplot\r\n",
        "matplotlib.pyplot.imshow(window_x[3][0].cpu().detach(), interpolation = 'None')\r\n",
        "matplotlib.pyplot.title('map1')\r\n",
        "matplotlib.pyplot.show()"
      ],
      "execution_count": null,
      "outputs": [
        {
          "output_type": "display_data",
          "data": {
            "image/png": "[encoded data removed]",
            "text/plain": [
              "<Figure size 432x288 with 1 Axes>"
            ]
          },
          "metadata": {
            "tags": [],
            "needs_background": "light"
          }
        }
      ]
    },
    {
      "cell_type": "code",
      "metadata": {
        "colab": {
          "base_uri": "https://localhost:8080/",
          "height": 281
        },
        "id": "Wt2R6-Wz1DWh",
        "outputId": "b7c82790-8846-4259-f81c-ac66823129c1"
      },
      "source": [
        "# 그래프 그려보기\r\n",
        "import matplotlib.pyplot\r\n",
        "matplotlib.pyplot.imshow(window_y[0].cpu().detach(), interpolation = 'None')\r\n",
        "matplotlib.pyplot.title('map1')\r\n",
        "matplotlib.pyplot.show()"
      ],
      "execution_count": null,
      "outputs": [
        {
          "output_type": "display_data",
          "data": {
            "image/png": "[encoded data removed]",
            "text/plain": [
              "<Figure size 432x288 with 1 Axes>"
            ]
          },
          "metadata": {
            "tags": [],
            "needs_background": "light"
          }
        }
      ]
    },
    {
      "cell_type": "code",
      "metadata": {
        "colab": {
          "base_uri": "https://localhost:8080/",
          "height": 281
        },
        "id": "I57Fs15F1nSv",
        "outputId": "d0019913-4687-4d72-d691-e2861756b3bc"
      },
      "source": [
        "# 그래프 그려보기\r\n",
        "import matplotlib.pyplot\r\n",
        "matplotlib.pyplot.imshow(model_cnn(window_x)[0].cpu().detach(), interpolation = 'None')\r\n",
        "matplotlib.pyplot.title('map1')\r\n",
        "matplotlib.pyplot.show()"
      ],
      "execution_count": null,
      "outputs": [
        {
          "output_type": "display_data",
          "data": {
            "image/png": "[encoded data removed]",
            "text/plain": [
              "<Figure size 432x288 with 1 Axes>"
            ]
          },
          "metadata": {
            "tags": [],
            "needs_background": "light"
          }
        }
      ]
    },
    {
      "cell_type": "code",
      "metadata": {
        "colab": {
          "base_uri": "https://localhost:8080/",
          "height": 628
        },
        "id": "hDzBKpmw1TZA",
        "outputId": "1c050668-cf40-4b56-e2cc-0bfd7d9362d9"
      },
      "source": [
        "# 가장 완벽한 러닝 레이트를 찾아\r\n",
        "from random import *\r\n",
        "a = [0.005, 0.001, 0.0005]\r\n",
        "hsize1 = [350]\r\n",
        "\r\n",
        "for j in range(len(a)):\r\n",
        "  model_cnn = Net().to(device)  # to(device)를 통해 GPU로\r\n",
        "  lr = a[j]\r\n",
        "  for i in range(len(hsize1)):\r\n",
        "    hsi = hsize1[i]\r\n",
        "\r\n",
        "    print(\"\\n\",a[j])\r\n",
        "    print(\"히든1 노드: %s\" % hsi)\r\n",
        "  \r\n",
        "    optimizer = torch.optim.Adam(model_cnn.parameters(), lr = lr)  \r\n",
        "    criterion = nn.MSELoss()\r\n",
        "    num_epochs  = 3000\r\n",
        "    train_error = []\r\n",
        "\r\n",
        "    for t in range(num_epochs):\r\n",
        "      train_pred = model_cnn(window_x)\r\n",
        "      loss = criterion(train_pred, window_y)\r\n",
        "      train_error.append(loss)\r\n",
        "    \r\n",
        "      optimizer.zero_grad()\r\n",
        "      loss.backward()\r\n",
        "      optimizer.step()\r\n",
        "\r\n",
        "      if (t +1) % 500 == 0:\r\n",
        "        print((t +1), \"Epochs train MSE: \", loss.item())"
      ],
      "execution_count": null,
      "outputs": [
        {
          "output_type": "stream",
          "text": [
            "\n",
            " 0.005\n",
            "히든1 노드: 350\n",
            "500 Epochs train MSE:  7935.76513671875\n",
            "1000 Epochs train MSE:  7935.76513671875\n",
            "1500 Epochs train MSE:  7935.76513671875\n",
            "2000 Epochs train MSE:  7935.76513671875\n",
            "2500 Epochs train MSE:  7935.76513671875\n",
            "3000 Epochs train MSE:  7935.76513671875\n",
            "\n",
            " 0.001\n",
            "히든1 노드: 350\n",
            "500 Epochs train MSE:  811.8372802734375\n"
          ],
          "name": "stdout"
        },
        {
          "output_type": "error",
          "ename": "KeyboardInterrupt",
          "evalue": "ignored",
          "traceback": [
            "\u001b[0;31m---------------------------------------------------------------------------\u001b[0m",
            "\u001b[0;31mKeyboardInterrupt\u001b[0m                         Traceback (most recent call last)",
            "\u001b[0;32m<ipython-input-180-808a760ac088>\u001b[0m in \u001b[0;36m<module>\u001b[0;34m()\u001b[0m\n\u001b[1;32m     25\u001b[0m       \u001b[0moptimizer\u001b[0m\u001b[0;34m.\u001b[0m\u001b[0mzero_grad\u001b[0m\u001b[0;34m(\u001b[0m\u001b[0;34m)\u001b[0m\u001b[0;34m\u001b[0m\u001b[0;34m\u001b[0m\u001b[0m\n\u001b[1;32m     26\u001b[0m       \u001b[0mloss\u001b[0m\u001b[0;34m.\u001b[0m\u001b[0mbackward\u001b[0m\u001b[0;34m(\u001b[0m\u001b[0;34m)\u001b[0m\u001b[0;34m\u001b[0m\u001b[0;34m\u001b[0m\u001b[0m\n\u001b[0;32m---> 27\u001b[0;31m       \u001b[0moptimizer\u001b[0m\u001b[0;34m.\u001b[0m\u001b[0mstep\u001b[0m\u001b[0;34m(\u001b[0m\u001b[0;34m)\u001b[0m\u001b[0;34m\u001b[0m\u001b[0;34m\u001b[0m\u001b[0m\n\u001b[0m\u001b[1;32m     28\u001b[0m \u001b[0;34m\u001b[0m\u001b[0m\n\u001b[1;32m     29\u001b[0m       \u001b[0;32mif\u001b[0m \u001b[0;34m(\u001b[0m\u001b[0mt\u001b[0m \u001b[0;34m+\u001b[0m\u001b[0;36m1\u001b[0m\u001b[0;34m)\u001b[0m \u001b[0;34m%\u001b[0m \u001b[0;36m500\u001b[0m \u001b[0;34m==\u001b[0m \u001b[0;36m0\u001b[0m\u001b[0;34m:\u001b[0m\u001b[0;34m\u001b[0m\u001b[0;34m\u001b[0m\u001b[0m\n",
            "\u001b[0;32m/usr/local/lib/python3.7/dist-packages/torch/autograd/grad_mode.py\u001b[0m in \u001b[0;36mdecorate_context\u001b[0;34m(*args, **kwargs)\u001b[0m\n\u001b[1;32m     24\u001b[0m         \u001b[0;32mdef\u001b[0m \u001b[0mdecorate_context\u001b[0m\u001b[0;34m(\u001b[0m\u001b[0;34m*\u001b[0m\u001b[0margs\u001b[0m\u001b[0;34m,\u001b[0m \u001b[0;34m**\u001b[0m\u001b[0mkwargs\u001b[0m\u001b[0;34m)\u001b[0m\u001b[0;34m:\u001b[0m\u001b[0;34m\u001b[0m\u001b[0;34m\u001b[0m\u001b[0m\n\u001b[1;32m     25\u001b[0m             \u001b[0;32mwith\u001b[0m \u001b[0mself\u001b[0m\u001b[0;34m.\u001b[0m\u001b[0m__class__\u001b[0m\u001b[0;34m(\u001b[0m\u001b[0;34m)\u001b[0m\u001b[0;34m:\u001b[0m\u001b[0;34m\u001b[0m\u001b[0;34m\u001b[0m\u001b[0m\n\u001b[0;32m---> 26\u001b[0;31m                 \u001b[0;32mreturn\u001b[0m \u001b[0mfunc\u001b[0m\u001b[0;34m(\u001b[0m\u001b[0;34m*\u001b[0m\u001b[0margs\u001b[0m\u001b[0;34m,\u001b[0m \u001b[0;34m**\u001b[0m\u001b[0mkwargs\u001b[0m\u001b[0;34m)\u001b[0m\u001b[0;34m\u001b[0m\u001b[0;34m\u001b[0m\u001b[0m\n\u001b[0m\u001b[1;32m     27\u001b[0m         \u001b[0;32mreturn\u001b[0m \u001b[0mcast\u001b[0m\u001b[0;34m(\u001b[0m\u001b[0mF\u001b[0m\u001b[0;34m,\u001b[0m \u001b[0mdecorate_context\u001b[0m\u001b[0;34m)\u001b[0m\u001b[0;34m\u001b[0m\u001b[0;34m\u001b[0m\u001b[0m\n\u001b[1;32m     28\u001b[0m \u001b[0;34m\u001b[0m\u001b[0m\n",
            "\u001b[0;32m/usr/local/lib/python3.7/dist-packages/torch/optim/adam.py\u001b[0m in \u001b[0;36mstep\u001b[0;34m(self, closure)\u001b[0m\n\u001b[1;32m     76\u001b[0m \u001b[0;34m\u001b[0m\u001b[0m\n\u001b[1;32m     77\u001b[0m             \u001b[0;32mfor\u001b[0m \u001b[0mp\u001b[0m \u001b[0;32min\u001b[0m \u001b[0mgroup\u001b[0m\u001b[0;34m[\u001b[0m\u001b[0;34m'params'\u001b[0m\u001b[0;34m]\u001b[0m\u001b[0;34m:\u001b[0m\u001b[0;34m\u001b[0m\u001b[0;34m\u001b[0m\u001b[0m\n\u001b[0;32m---> 78\u001b[0;31m                 \u001b[0;32mif\u001b[0m \u001b[0mp\u001b[0m\u001b[0;34m.\u001b[0m\u001b[0mgrad\u001b[0m \u001b[0;32mis\u001b[0m \u001b[0;32mnot\u001b[0m \u001b[0;32mNone\u001b[0m\u001b[0;34m:\u001b[0m\u001b[0;34m\u001b[0m\u001b[0;34m\u001b[0m\u001b[0m\n\u001b[0m\u001b[1;32m     79\u001b[0m                     \u001b[0mparams_with_grad\u001b[0m\u001b[0;34m.\u001b[0m\u001b[0mappend\u001b[0m\u001b[0;34m(\u001b[0m\u001b[0mp\u001b[0m\u001b[0;34m)\u001b[0m\u001b[0;34m\u001b[0m\u001b[0;34m\u001b[0m\u001b[0m\n\u001b[1;32m     80\u001b[0m                     \u001b[0;32mif\u001b[0m \u001b[0mp\u001b[0m\u001b[0;34m.\u001b[0m\u001b[0mgrad\u001b[0m\u001b[0;34m.\u001b[0m\u001b[0mis_sparse\u001b[0m\u001b[0;34m:\u001b[0m\u001b[0;34m\u001b[0m\u001b[0;34m\u001b[0m\u001b[0m\n",
            "\u001b[0;32m/usr/local/lib/python3.7/dist-packages/torch/tensor.py\u001b[0m in \u001b[0;36mgrad\u001b[0;34m(self)\u001b[0m\n\u001b[1;32m    945\u001b[0m             \u001b[0;32mreturn\u001b[0m \u001b[0mhandle_torch_function\u001b[0m\u001b[0;34m(\u001b[0m\u001b[0mTensor\u001b[0m\u001b[0;34m.\u001b[0m\u001b[0mgrad\u001b[0m\u001b[0;34m.\u001b[0m\u001b[0m__get__\u001b[0m\u001b[0;34m,\u001b[0m \u001b[0mrelevant_args\u001b[0m\u001b[0;34m,\u001b[0m \u001b[0mself\u001b[0m\u001b[0;34m)\u001b[0m  \u001b[0;31m# type: ignore[attr-defined]\u001b[0m\u001b[0;34m\u001b[0m\u001b[0;34m\u001b[0m\u001b[0m\n\u001b[1;32m    946\u001b[0m \u001b[0;34m\u001b[0m\u001b[0m\n\u001b[0;32m--> 947\u001b[0;31m         \u001b[0;32mif\u001b[0m \u001b[0mself\u001b[0m\u001b[0;34m.\u001b[0m\u001b[0mrequires_grad\u001b[0m \u001b[0;32mand\u001b[0m \u001b[0;32mnot\u001b[0m \u001b[0mhasattr\u001b[0m\u001b[0;34m(\u001b[0m\u001b[0mself\u001b[0m\u001b[0;34m,\u001b[0m \u001b[0;34m\"retains_grad\"\u001b[0m\u001b[0;34m)\u001b[0m \u001b[0;32mand\u001b[0m \u001b[0;32mnot\u001b[0m \u001b[0mself\u001b[0m\u001b[0;34m.\u001b[0m\u001b[0mis_leaf\u001b[0m \u001b[0;32mand\u001b[0m \u001b[0mself\u001b[0m\u001b[0;34m.\u001b[0m\u001b[0m_grad\u001b[0m \u001b[0;32mis\u001b[0m \u001b[0;32mNone\u001b[0m\u001b[0;34m:\u001b[0m\u001b[0;34m\u001b[0m\u001b[0;34m\u001b[0m\u001b[0m\n\u001b[0m\u001b[1;32m    948\u001b[0m             warnings.warn(\"The .grad attribute of a Tensor that is not a leaf Tensor is being accessed. Its .grad \"\n\u001b[1;32m    949\u001b[0m                           \u001b[0;34m\"attribute won't be populated during autograd.backward(). If you indeed want the gradient \"\u001b[0m\u001b[0;34m\u001b[0m\u001b[0;34m\u001b[0m\u001b[0m\n",
            "\u001b[0;31mKeyboardInterrupt\u001b[0m: "
          ]
        }
      ]
    },
    {
      "cell_type": "code",
      "metadata": {
        "id": "AlzB4lYZ1DTl"
      },
      "source": [
        ""
      ],
      "execution_count": null,
      "outputs": []
    },
    {
      "cell_type": "code",
      "metadata": {
        "colab": {
          "base_uri": "https://localhost:8080/"
        },
        "id": "-iqf0ZJr1DQd",
        "outputId": "2d72a886-ff4a-4f8b-f635-03e93aba1174"
      },
      "source": [
        "a = []\r\n",
        "\r\n",
        "a.append(train0[:2])\r\n",
        "a.append(train1[:2])\r\n",
        "\r\n",
        "a = np.array(a)\r\n",
        "\r\n",
        "a.shape"
      ],
      "execution_count": null,
      "outputs": [
        {
          "output_type": "execute_result",
          "data": {
            "text/plain": [
              "(2, 2, 448, 304, 1)"
            ]
          },
          "metadata": {
            "tags": []
          },
          "execution_count": 46
        }
      ]
    },
    {
      "cell_type": "code",
      "metadata": {
        "colab": {
          "base_uri": "https://localhost:8080/"
        },
        "id": "3Ywymi9mj1aT",
        "outputId": "acfaed67-de64-46d5-8d00-f2044411193e"
      },
      "source": [
        "b = []\r\n",
        "\r\n",
        "b.append(train0[3:])\r\n",
        "b.append(train1[3:])\r\n",
        "\r\n",
        "b = np.array(b)\r\n",
        "b.reshape(2,2,448,304,1)\r\n",
        "\r\n",
        "b.shape"
      ],
      "execution_count": null,
      "outputs": [
        {
          "output_type": "execute_result",
          "data": {
            "text/plain": [
              "(2, 2, 448, 304, 1)"
            ]
          },
          "metadata": {
            "tags": []
          },
          "execution_count": 47
        }
      ]
    },
    {
      "cell_type": "code",
      "metadata": {
        "colab": {
          "base_uri": "https://localhost:8080/"
        },
        "id": "Fg9fMgJkdzxw",
        "outputId": "01d9134f-5f02-42b6-a066-ead4a290cdc2"
      },
      "source": [
        "train0[:4].shape"
      ],
      "execution_count": null,
      "outputs": [
        {
          "output_type": "execute_result",
          "data": {
            "text/plain": [
              "(4, 448, 304, 1)"
            ]
          },
          "metadata": {
            "tags": []
          },
          "execution_count": 41
        }
      ]
    },
    {
      "cell_type": "markdown",
      "metadata": {
        "id": "0VbNupiiioZw"
      },
      "source": [
        "> Keras\r\n",
        "* https://deep-deep-deep.tistory.com/32\r\n",
        "* https://www.kaggle.com/kcostya/convlstm-convolutional-lstm-network-tutorial"
      ]
    },
    {
      "cell_type": "markdown",
      "metadata": {
        "id": "5aQ0GbEzlvCo"
      },
      "source": [
        "> 데이터 셋\r\n",
        "* (batch_size, time_steps, height, width, filters (layers)"
      ]
    },
    {
      "cell_type": "code",
      "metadata": {
        "id": "wvHti8Q2b08l"
      },
      "source": [
        "from tensorflow import keras \r\n",
        "from tensorflow.keras import layers \r\n",
        "import numpy as np \r\n",
        "import pylab as plt\r\n",
        "\r\n",
        "seq = keras.Sequential(\r\n",
        "    [\r\n",
        "     keras.Input( shape=(None, 448, 304, 1)),      # (time, rows, cols, channels) \r\n",
        "                                               # 이 중, time을 지정하지 가변으로 두고, (None, 40,40,1) shape의 프레임을 입력받습니다. \r\n",
        "                                             # 40x40에 1채널을 가지는 프레임입니다.\r\n",
        "     layers.ConvLSTM2D( filters=40, kernel_size=(1, 1), padding=\"same\", return_sequences=True ),\r\n",
        "     layers.BatchNormalization(), \r\n",
        "     layers.ConvLSTM2D( filters=40, kernel_size=(1, 1), padding=\"same\", return_sequences=True ),\r\n",
        "     layers.BatchNormalization(), \r\n",
        "     layers.ConvLSTM2D( filters=40, kernel_size=(1, 1), padding=\"same\", return_sequences=True ),\r\n",
        "     layers.BatchNormalization(), \r\n",
        "     layers.Conv3D( filters=1, kernel_size=(1, 1, 1), activation=\"sigmoid\", padding=\"same\" ),\r\n",
        "    ]\r\n",
        "     )\r\n",
        "\r\n",
        "seq.compile(loss=\"binary_crossentropy\", optimizer=\"adadelta\")"
      ],
      "execution_count": null,
      "outputs": []
    },
    {
      "cell_type": "code",
      "metadata": {
        "colab": {
          "base_uri": "https://localhost:8080/"
        },
        "id": "KWCLuM-Vh-fi",
        "outputId": "b6f5fa4d-7d45-4c4f-e290-e82bcb88607e"
      },
      "source": [
        "seq"
      ],
      "execution_count": null,
      "outputs": [
        {
          "output_type": "execute_result",
          "data": {
            "text/plain": [
              "<tensorflow.python.keras.engine.sequential.Sequential at 0x7fa3e49c7e50>"
            ]
          },
          "metadata": {
            "tags": []
          },
          "execution_count": 55
        }
      ]
    },
    {
      "cell_type": "code",
      "metadata": {
        "colab": {
          "base_uri": "https://localhost:8080/"
        },
        "id": "O60x4jupiDQS",
        "outputId": "73b6d905-da75-45d5-aa7d-8a7b3b47efc3"
      },
      "source": [
        "epochs = 10 # 예제이기 때문에 에폭을 1로 지정했습니다. # 실제로 모델의 정확도를 높이려면 수백번 이상으로 설정하세요!  \r\n",
        "\r\n",
        "seq.fit( a,  b, batch_size=10, epochs=epochs, verbose=2, validation_split=0.1)\r\n"
      ],
      "execution_count": null,
      "outputs": [
        {
          "output_type": "stream",
          "text": [
            "Epoch 1/10\n",
            "1/1 - 7s - loss: -1.1227e+02 - val_loss: -6.7759e-01\n",
            "Epoch 2/10\n",
            "1/1 - 0s - loss: -1.1236e+02 - val_loss: -7.0805e-01\n",
            "Epoch 3/10\n",
            "1/1 - 0s - loss: -1.1246e+02 - val_loss: -7.3878e-01\n",
            "Epoch 4/10\n",
            "1/1 - 0s - loss: -1.1255e+02 - val_loss: -7.6977e-01\n",
            "Epoch 5/10\n",
            "1/1 - 0s - loss: -1.1265e+02 - val_loss: -8.0103e-01\n",
            "Epoch 6/10\n",
            "1/1 - 0s - loss: -1.1275e+02 - val_loss: -8.3256e-01\n",
            "Epoch 7/10\n",
            "1/1 - 0s - loss: -1.1284e+02 - val_loss: -8.6436e-01\n",
            "Epoch 8/10\n",
            "1/1 - 0s - loss: -1.1294e+02 - val_loss: -8.9645e-01\n",
            "Epoch 9/10\n",
            "1/1 - 0s - loss: -1.1304e+02 - val_loss: -9.2881e-01\n",
            "Epoch 10/10\n",
            "1/1 - 0s - loss: -1.1313e+02 - val_loss: -9.6146e-01\n"
          ],
          "name": "stdout"
        },
        {
          "output_type": "execute_result",
          "data": {
            "text/plain": [
              "<tensorflow.python.keras.callbacks.History at 0x7fa3e49254d0>"
            ]
          },
          "metadata": {
            "tags": []
          },
          "execution_count": 56
        }
      ]
    },
    {
      "cell_type": "code",
      "metadata": {
        "colab": {
          "base_uri": "https://localhost:8080/"
        },
        "id": "9KdRFITxia0y",
        "outputId": "69df106a-0eb7-406f-d5a1-7444639c9181"
      },
      "source": [
        "seq.predict(a).shape"
      ],
      "execution_count": null,
      "outputs": [
        {
          "output_type": "execute_result",
          "data": {
            "text/plain": [
              "(2, 2, 448, 304, 1)"
            ]
          },
          "metadata": {
            "tags": []
          },
          "execution_count": 57
        }
      ]
    },
    {
      "cell_type": "code",
      "metadata": {
        "id": "HV6rGANJjDPO"
      },
      "source": [
        ""
      ],
      "execution_count": null,
      "outputs": []
    },
    {
      "cell_type": "code",
      "metadata": {
        "colab": {
          "base_uri": "https://localhost:8080/",
          "height": 281
        },
        "id": "DbAS-dkVigOR",
        "outputId": "db08fa72-ffeb-4536-b3ca-a9c8589cbf82"
      },
      "source": [
        "# 그래프 그려보기\r\n",
        "import matplotlib.pyplot\r\n",
        "matplotlib.pyplot.imshow(b[0][0][:,:,0], interpolation = 'None')\r\n",
        "matplotlib.pyplot.title('map1')\r\n",
        "matplotlib.pyplot.show()"
      ],
      "execution_count": null,
      "outputs": [
        {
          "output_type": "display_data",
          "data": {
            "image/png": "[encoded data removed]",
            "text/plain": [
              "<Figure size 432x288 with 1 Axes>"
            ]
          },
          "metadata": {
            "tags": [],
            "needs_background": "light"
          }
        }
      ]
    },
    {
      "cell_type": "code",
      "metadata": {
        "colab": {
          "base_uri": "https://localhost:8080/",
          "height": 281
        },
        "id": "ADbuv7FwigI6",
        "outputId": "ae21a8bd-7ab0-4362-ae16-632159b0e9a9"
      },
      "source": [
        "# 그래프 그려보기\r\n",
        "import matplotlib.pyplot\r\n",
        "matplotlib.pyplot.imshow(seq.predict(b)[0][0][:,:,0], interpolation = 'None')\r\n",
        "matplotlib.pyplot.title('map1')\r\n",
        "matplotlib.pyplot.show()"
      ],
      "execution_count": null,
      "outputs": [
        {
          "output_type": "display_data",
          "data": {
            "image/png": "[encoded data removed]",
            "text/plain": [
              "<Figure size 432x288 with 1 Axes>"
            ]
          },
          "metadata": {
            "tags": [],
            "needs_background": "light"
          }
        }
      ]
    },
    {
      "cell_type": "code",
      "metadata": {
        "id": "8leN0VoQpkT4"
      },
      "source": [
        ""
      ],
      "execution_count": null,
      "outputs": []
    },
    {
      "cell_type": "code",
      "metadata": {
        "id": "xahh6RXRpkPb"
      },
      "source": [
        ""
      ],
      "execution_count": null,
      "outputs": []
    },
    {
      "cell_type": "code",
      "metadata": {
        "colab": {
          "base_uri": "https://localhost:8080/",
          "height": 790
        },
        "id": "CWymKLl1b05z",
        "outputId": "10000e31-147b-4807-a34c-74006a4ad873"
      },
      "source": [
        "model.fit(a, epochs=20)"
      ],
      "execution_count": null,
      "outputs": [
        {
          "output_type": "stream",
          "text": [
            "Epoch 1/20\n"
          ],
          "name": "stdout"
        },
        {
          "output_type": "error",
          "ename": "ValueError",
          "evalue": "ignored",
          "traceback": [
            "\u001b[0;31m---------------------------------------------------------------------------\u001b[0m",
            "\u001b[0;31mValueError\u001b[0m                                Traceback (most recent call last)",
            "\u001b[0;32m<ipython-input-15-8be40f660044>\u001b[0m in \u001b[0;36m<module>\u001b[0;34m()\u001b[0m\n\u001b[0;32m----> 1\u001b[0;31m \u001b[0mmodel\u001b[0m\u001b[0;34m.\u001b[0m\u001b[0mfit\u001b[0m\u001b[0;34m(\u001b[0m\u001b[0ma\u001b[0m\u001b[0;34m,\u001b[0m \u001b[0mepochs\u001b[0m\u001b[0;34m=\u001b[0m\u001b[0;36m20\u001b[0m\u001b[0;34m)\u001b[0m\u001b[0;34m\u001b[0m\u001b[0;34m\u001b[0m\u001b[0m\n\u001b[0m",
            "\u001b[0;32m/usr/local/lib/python3.7/dist-packages/tensorflow/python/keras/engine/training.py\u001b[0m in \u001b[0;36mfit\u001b[0;34m(self, x, y, batch_size, epochs, verbose, callbacks, validation_split, validation_data, shuffle, class_weight, sample_weight, initial_epoch, steps_per_epoch, validation_steps, validation_batch_size, validation_freq, max_queue_size, workers, use_multiprocessing)\u001b[0m\n\u001b[1;32m   1098\u001b[0m                 _r=1):\n\u001b[1;32m   1099\u001b[0m               \u001b[0mcallbacks\u001b[0m\u001b[0;34m.\u001b[0m\u001b[0mon_train_batch_begin\u001b[0m\u001b[0;34m(\u001b[0m\u001b[0mstep\u001b[0m\u001b[0;34m)\u001b[0m\u001b[0;34m\u001b[0m\u001b[0;34m\u001b[0m\u001b[0m\n\u001b[0;32m-> 1100\u001b[0;31m               \u001b[0mtmp_logs\u001b[0m \u001b[0;34m=\u001b[0m \u001b[0mself\u001b[0m\u001b[0;34m.\u001b[0m\u001b[0mtrain_function\u001b[0m\u001b[0;34m(\u001b[0m\u001b[0miterator\u001b[0m\u001b[0;34m)\u001b[0m\u001b[0;34m\u001b[0m\u001b[0;34m\u001b[0m\u001b[0m\n\u001b[0m\u001b[1;32m   1101\u001b[0m               \u001b[0;32mif\u001b[0m \u001b[0mdata_handler\u001b[0m\u001b[0;34m.\u001b[0m\u001b[0mshould_sync\u001b[0m\u001b[0;34m:\u001b[0m\u001b[0;34m\u001b[0m\u001b[0;34m\u001b[0m\u001b[0m\n\u001b[1;32m   1102\u001b[0m                 \u001b[0mcontext\u001b[0m\u001b[0;34m.\u001b[0m\u001b[0masync_wait\u001b[0m\u001b[0;34m(\u001b[0m\u001b[0;34m)\u001b[0m\u001b[0;34m\u001b[0m\u001b[0;34m\u001b[0m\u001b[0m\n",
            "\u001b[0;32m/usr/local/lib/python3.7/dist-packages/tensorflow/python/eager/def_function.py\u001b[0m in \u001b[0;36m__call__\u001b[0;34m(self, *args, **kwds)\u001b[0m\n\u001b[1;32m    826\u001b[0m     \u001b[0mtracing_count\u001b[0m \u001b[0;34m=\u001b[0m \u001b[0mself\u001b[0m\u001b[0;34m.\u001b[0m\u001b[0mexperimental_get_tracing_count\u001b[0m\u001b[0;34m(\u001b[0m\u001b[0;34m)\u001b[0m\u001b[0;34m\u001b[0m\u001b[0;34m\u001b[0m\u001b[0m\n\u001b[1;32m    827\u001b[0m     \u001b[0;32mwith\u001b[0m \u001b[0mtrace\u001b[0m\u001b[0;34m.\u001b[0m\u001b[0mTrace\u001b[0m\u001b[0;34m(\u001b[0m\u001b[0mself\u001b[0m\u001b[0;34m.\u001b[0m\u001b[0m_name\u001b[0m\u001b[0;34m)\u001b[0m \u001b[0;32mas\u001b[0m \u001b[0mtm\u001b[0m\u001b[0;34m:\u001b[0m\u001b[0;34m\u001b[0m\u001b[0;34m\u001b[0m\u001b[0m\n\u001b[0;32m--> 828\u001b[0;31m       \u001b[0mresult\u001b[0m \u001b[0;34m=\u001b[0m \u001b[0mself\u001b[0m\u001b[0;34m.\u001b[0m\u001b[0m_call\u001b[0m\u001b[0;34m(\u001b[0m\u001b[0;34m*\u001b[0m\u001b[0margs\u001b[0m\u001b[0;34m,\u001b[0m \u001b[0;34m**\u001b[0m\u001b[0mkwds\u001b[0m\u001b[0;34m)\u001b[0m\u001b[0;34m\u001b[0m\u001b[0;34m\u001b[0m\u001b[0m\n\u001b[0m\u001b[1;32m    829\u001b[0m       \u001b[0mcompiler\u001b[0m \u001b[0;34m=\u001b[0m \u001b[0;34m\"xla\"\u001b[0m \u001b[0;32mif\u001b[0m \u001b[0mself\u001b[0m\u001b[0;34m.\u001b[0m\u001b[0m_experimental_compile\u001b[0m \u001b[0;32melse\u001b[0m \u001b[0;34m\"nonXla\"\u001b[0m\u001b[0;34m\u001b[0m\u001b[0;34m\u001b[0m\u001b[0m\n\u001b[1;32m    830\u001b[0m       \u001b[0mnew_tracing_count\u001b[0m \u001b[0;34m=\u001b[0m \u001b[0mself\u001b[0m\u001b[0;34m.\u001b[0m\u001b[0mexperimental_get_tracing_count\u001b[0m\u001b[0;34m(\u001b[0m\u001b[0;34m)\u001b[0m\u001b[0;34m\u001b[0m\u001b[0;34m\u001b[0m\u001b[0m\n",
            "\u001b[0;32m/usr/local/lib/python3.7/dist-packages/tensorflow/python/eager/def_function.py\u001b[0m in \u001b[0;36m_call\u001b[0;34m(self, *args, **kwds)\u001b[0m\n\u001b[1;32m    869\u001b[0m       \u001b[0;31m# This is the first call of __call__, so we have to initialize.\u001b[0m\u001b[0;34m\u001b[0m\u001b[0;34m\u001b[0m\u001b[0;34m\u001b[0m\u001b[0m\n\u001b[1;32m    870\u001b[0m       \u001b[0minitializers\u001b[0m \u001b[0;34m=\u001b[0m \u001b[0;34m[\u001b[0m\u001b[0;34m]\u001b[0m\u001b[0;34m\u001b[0m\u001b[0;34m\u001b[0m\u001b[0m\n\u001b[0;32m--> 871\u001b[0;31m       \u001b[0mself\u001b[0m\u001b[0;34m.\u001b[0m\u001b[0m_initialize\u001b[0m\u001b[0;34m(\u001b[0m\u001b[0margs\u001b[0m\u001b[0;34m,\u001b[0m \u001b[0mkwds\u001b[0m\u001b[0;34m,\u001b[0m \u001b[0madd_initializers_to\u001b[0m\u001b[0;34m=\u001b[0m\u001b[0minitializers\u001b[0m\u001b[0;34m)\u001b[0m\u001b[0;34m\u001b[0m\u001b[0;34m\u001b[0m\u001b[0m\n\u001b[0m\u001b[1;32m    872\u001b[0m     \u001b[0;32mfinally\u001b[0m\u001b[0;34m:\u001b[0m\u001b[0;34m\u001b[0m\u001b[0;34m\u001b[0m\u001b[0m\n\u001b[1;32m    873\u001b[0m       \u001b[0;31m# At this point we know that the initialization is complete (or less\u001b[0m\u001b[0;34m\u001b[0m\u001b[0;34m\u001b[0m\u001b[0;34m\u001b[0m\u001b[0m\n",
            "\u001b[0;32m/usr/local/lib/python3.7/dist-packages/tensorflow/python/eager/def_function.py\u001b[0m in \u001b[0;36m_initialize\u001b[0;34m(self, args, kwds, add_initializers_to)\u001b[0m\n\u001b[1;32m    724\u001b[0m     self._concrete_stateful_fn = (\n\u001b[1;32m    725\u001b[0m         self._stateful_fn._get_concrete_function_internal_garbage_collected(  # pylint: disable=protected-access\n\u001b[0;32m--> 726\u001b[0;31m             *args, **kwds))\n\u001b[0m\u001b[1;32m    727\u001b[0m \u001b[0;34m\u001b[0m\u001b[0m\n\u001b[1;32m    728\u001b[0m     \u001b[0;32mdef\u001b[0m \u001b[0minvalid_creator_scope\u001b[0m\u001b[0;34m(\u001b[0m\u001b[0;34m*\u001b[0m\u001b[0munused_args\u001b[0m\u001b[0;34m,\u001b[0m \u001b[0;34m**\u001b[0m\u001b[0munused_kwds\u001b[0m\u001b[0;34m)\u001b[0m\u001b[0;34m:\u001b[0m\u001b[0;34m\u001b[0m\u001b[0;34m\u001b[0m\u001b[0m\n",
            "\u001b[0;32m/usr/local/lib/python3.7/dist-packages/tensorflow/python/eager/function.py\u001b[0m in \u001b[0;36m_get_concrete_function_internal_garbage_collected\u001b[0;34m(self, *args, **kwargs)\u001b[0m\n\u001b[1;32m   2967\u001b[0m       \u001b[0margs\u001b[0m\u001b[0;34m,\u001b[0m \u001b[0mkwargs\u001b[0m \u001b[0;34m=\u001b[0m \u001b[0;32mNone\u001b[0m\u001b[0;34m,\u001b[0m \u001b[0;32mNone\u001b[0m\u001b[0;34m\u001b[0m\u001b[0;34m\u001b[0m\u001b[0m\n\u001b[1;32m   2968\u001b[0m     \u001b[0;32mwith\u001b[0m \u001b[0mself\u001b[0m\u001b[0;34m.\u001b[0m\u001b[0m_lock\u001b[0m\u001b[0;34m:\u001b[0m\u001b[0;34m\u001b[0m\u001b[0;34m\u001b[0m\u001b[0m\n\u001b[0;32m-> 2969\u001b[0;31m       \u001b[0mgraph_function\u001b[0m\u001b[0;34m,\u001b[0m \u001b[0m_\u001b[0m \u001b[0;34m=\u001b[0m \u001b[0mself\u001b[0m\u001b[0;34m.\u001b[0m\u001b[0m_maybe_define_function\u001b[0m\u001b[0;34m(\u001b[0m\u001b[0margs\u001b[0m\u001b[0;34m,\u001b[0m \u001b[0mkwargs\u001b[0m\u001b[0;34m)\u001b[0m\u001b[0;34m\u001b[0m\u001b[0;34m\u001b[0m\u001b[0m\n\u001b[0m\u001b[1;32m   2970\u001b[0m     \u001b[0;32mreturn\u001b[0m \u001b[0mgraph_function\u001b[0m\u001b[0;34m\u001b[0m\u001b[0;34m\u001b[0m\u001b[0m\n\u001b[1;32m   2971\u001b[0m \u001b[0;34m\u001b[0m\u001b[0m\n",
            "\u001b[0;32m/usr/local/lib/python3.7/dist-packages/tensorflow/python/eager/function.py\u001b[0m in \u001b[0;36m_maybe_define_function\u001b[0;34m(self, args, kwargs)\u001b[0m\n\u001b[1;32m   3359\u001b[0m \u001b[0;34m\u001b[0m\u001b[0m\n\u001b[1;32m   3360\u001b[0m           \u001b[0mself\u001b[0m\u001b[0;34m.\u001b[0m\u001b[0m_function_cache\u001b[0m\u001b[0;34m.\u001b[0m\u001b[0mmissed\u001b[0m\u001b[0;34m.\u001b[0m\u001b[0madd\u001b[0m\u001b[0;34m(\u001b[0m\u001b[0mcall_context_key\u001b[0m\u001b[0;34m)\u001b[0m\u001b[0;34m\u001b[0m\u001b[0;34m\u001b[0m\u001b[0m\n\u001b[0;32m-> 3361\u001b[0;31m           \u001b[0mgraph_function\u001b[0m \u001b[0;34m=\u001b[0m \u001b[0mself\u001b[0m\u001b[0;34m.\u001b[0m\u001b[0m_create_graph_function\u001b[0m\u001b[0;34m(\u001b[0m\u001b[0margs\u001b[0m\u001b[0;34m,\u001b[0m \u001b[0mkwargs\u001b[0m\u001b[0;34m)\u001b[0m\u001b[0;34m\u001b[0m\u001b[0;34m\u001b[0m\u001b[0m\n\u001b[0m\u001b[1;32m   3362\u001b[0m           \u001b[0mself\u001b[0m\u001b[0;34m.\u001b[0m\u001b[0m_function_cache\u001b[0m\u001b[0;34m.\u001b[0m\u001b[0mprimary\u001b[0m\u001b[0;34m[\u001b[0m\u001b[0mcache_key\u001b[0m\u001b[0;34m]\u001b[0m \u001b[0;34m=\u001b[0m \u001b[0mgraph_function\u001b[0m\u001b[0;34m\u001b[0m\u001b[0;34m\u001b[0m\u001b[0m\n\u001b[1;32m   3363\u001b[0m \u001b[0;34m\u001b[0m\u001b[0m\n",
            "\u001b[0;32m/usr/local/lib/python3.7/dist-packages/tensorflow/python/eager/function.py\u001b[0m in \u001b[0;36m_create_graph_function\u001b[0;34m(self, args, kwargs, override_flat_arg_shapes)\u001b[0m\n\u001b[1;32m   3204\u001b[0m             \u001b[0marg_names\u001b[0m\u001b[0;34m=\u001b[0m\u001b[0marg_names\u001b[0m\u001b[0;34m,\u001b[0m\u001b[0;34m\u001b[0m\u001b[0;34m\u001b[0m\u001b[0m\n\u001b[1;32m   3205\u001b[0m             \u001b[0moverride_flat_arg_shapes\u001b[0m\u001b[0;34m=\u001b[0m\u001b[0moverride_flat_arg_shapes\u001b[0m\u001b[0;34m,\u001b[0m\u001b[0;34m\u001b[0m\u001b[0;34m\u001b[0m\u001b[0m\n\u001b[0;32m-> 3206\u001b[0;31m             capture_by_value=self._capture_by_value),\n\u001b[0m\u001b[1;32m   3207\u001b[0m         \u001b[0mself\u001b[0m\u001b[0;34m.\u001b[0m\u001b[0m_function_attributes\u001b[0m\u001b[0;34m,\u001b[0m\u001b[0;34m\u001b[0m\u001b[0;34m\u001b[0m\u001b[0m\n\u001b[1;32m   3208\u001b[0m         \u001b[0mfunction_spec\u001b[0m\u001b[0;34m=\u001b[0m\u001b[0mself\u001b[0m\u001b[0;34m.\u001b[0m\u001b[0mfunction_spec\u001b[0m\u001b[0;34m,\u001b[0m\u001b[0;34m\u001b[0m\u001b[0;34m\u001b[0m\u001b[0m\n",
            "\u001b[0;32m/usr/local/lib/python3.7/dist-packages/tensorflow/python/framework/func_graph.py\u001b[0m in \u001b[0;36mfunc_graph_from_py_func\u001b[0;34m(name, python_func, args, kwargs, signature, func_graph, autograph, autograph_options, add_control_dependencies, arg_names, op_return_value, collections, capture_by_value, override_flat_arg_shapes)\u001b[0m\n\u001b[1;32m    988\u001b[0m         \u001b[0m_\u001b[0m\u001b[0;34m,\u001b[0m \u001b[0moriginal_func\u001b[0m \u001b[0;34m=\u001b[0m \u001b[0mtf_decorator\u001b[0m\u001b[0;34m.\u001b[0m\u001b[0munwrap\u001b[0m\u001b[0;34m(\u001b[0m\u001b[0mpython_func\u001b[0m\u001b[0;34m)\u001b[0m\u001b[0;34m\u001b[0m\u001b[0;34m\u001b[0m\u001b[0m\n\u001b[1;32m    989\u001b[0m \u001b[0;34m\u001b[0m\u001b[0m\n\u001b[0;32m--> 990\u001b[0;31m       \u001b[0mfunc_outputs\u001b[0m \u001b[0;34m=\u001b[0m \u001b[0mpython_func\u001b[0m\u001b[0;34m(\u001b[0m\u001b[0;34m*\u001b[0m\u001b[0mfunc_args\u001b[0m\u001b[0;34m,\u001b[0m \u001b[0;34m**\u001b[0m\u001b[0mfunc_kwargs\u001b[0m\u001b[0;34m)\u001b[0m\u001b[0;34m\u001b[0m\u001b[0;34m\u001b[0m\u001b[0m\n\u001b[0m\u001b[1;32m    991\u001b[0m \u001b[0;34m\u001b[0m\u001b[0m\n\u001b[1;32m    992\u001b[0m       \u001b[0;31m# invariant: `func_outputs` contains only Tensors, CompositeTensors,\u001b[0m\u001b[0;34m\u001b[0m\u001b[0;34m\u001b[0m\u001b[0;34m\u001b[0m\u001b[0m\n",
            "\u001b[0;32m/usr/local/lib/python3.7/dist-packages/tensorflow/python/eager/def_function.py\u001b[0m in \u001b[0;36mwrapped_fn\u001b[0;34m(*args, **kwds)\u001b[0m\n\u001b[1;32m    632\u001b[0m             \u001b[0mxla_context\u001b[0m\u001b[0;34m.\u001b[0m\u001b[0mExit\u001b[0m\u001b[0;34m(\u001b[0m\u001b[0;34m)\u001b[0m\u001b[0;34m\u001b[0m\u001b[0;34m\u001b[0m\u001b[0m\n\u001b[1;32m    633\u001b[0m         \u001b[0;32melse\u001b[0m\u001b[0;34m:\u001b[0m\u001b[0;34m\u001b[0m\u001b[0;34m\u001b[0m\u001b[0m\n\u001b[0;32m--> 634\u001b[0;31m           \u001b[0mout\u001b[0m \u001b[0;34m=\u001b[0m \u001b[0mweak_wrapped_fn\u001b[0m\u001b[0;34m(\u001b[0m\u001b[0;34m)\u001b[0m\u001b[0;34m.\u001b[0m\u001b[0m__wrapped__\u001b[0m\u001b[0;34m(\u001b[0m\u001b[0;34m*\u001b[0m\u001b[0margs\u001b[0m\u001b[0;34m,\u001b[0m \u001b[0;34m**\u001b[0m\u001b[0mkwds\u001b[0m\u001b[0;34m)\u001b[0m\u001b[0;34m\u001b[0m\u001b[0;34m\u001b[0m\u001b[0m\n\u001b[0m\u001b[1;32m    635\u001b[0m         \u001b[0;32mreturn\u001b[0m \u001b[0mout\u001b[0m\u001b[0;34m\u001b[0m\u001b[0;34m\u001b[0m\u001b[0m\n\u001b[1;32m    636\u001b[0m \u001b[0;34m\u001b[0m\u001b[0m\n",
            "\u001b[0;32m/usr/local/lib/python3.7/dist-packages/tensorflow/python/framework/func_graph.py\u001b[0m in \u001b[0;36mwrapper\u001b[0;34m(*args, **kwargs)\u001b[0m\n\u001b[1;32m    975\u001b[0m           \u001b[0;32mexcept\u001b[0m \u001b[0mException\u001b[0m \u001b[0;32mas\u001b[0m \u001b[0me\u001b[0m\u001b[0;34m:\u001b[0m  \u001b[0;31m# pylint:disable=broad-except\u001b[0m\u001b[0;34m\u001b[0m\u001b[0;34m\u001b[0m\u001b[0m\n\u001b[1;32m    976\u001b[0m             \u001b[0;32mif\u001b[0m \u001b[0mhasattr\u001b[0m\u001b[0;34m(\u001b[0m\u001b[0me\u001b[0m\u001b[0;34m,\u001b[0m \u001b[0;34m\"ag_error_metadata\"\u001b[0m\u001b[0;34m)\u001b[0m\u001b[0;34m:\u001b[0m\u001b[0;34m\u001b[0m\u001b[0;34m\u001b[0m\u001b[0m\n\u001b[0;32m--> 977\u001b[0;31m               \u001b[0;32mraise\u001b[0m \u001b[0me\u001b[0m\u001b[0;34m.\u001b[0m\u001b[0mag_error_metadata\u001b[0m\u001b[0;34m.\u001b[0m\u001b[0mto_exception\u001b[0m\u001b[0;34m(\u001b[0m\u001b[0me\u001b[0m\u001b[0;34m)\u001b[0m\u001b[0;34m\u001b[0m\u001b[0;34m\u001b[0m\u001b[0m\n\u001b[0m\u001b[1;32m    978\u001b[0m             \u001b[0;32melse\u001b[0m\u001b[0;34m:\u001b[0m\u001b[0;34m\u001b[0m\u001b[0;34m\u001b[0m\u001b[0m\n\u001b[1;32m    979\u001b[0m               \u001b[0;32mraise\u001b[0m\u001b[0;34m\u001b[0m\u001b[0;34m\u001b[0m\u001b[0m\n",
            "\u001b[0;31mValueError\u001b[0m: in user code:\n\n    /usr/local/lib/python3.7/dist-packages/tensorflow/python/keras/engine/training.py:805 train_function  *\n        return step_function(self, iterator)\n    /usr/local/lib/python3.7/dist-packages/tensorflow/python/keras/engine/training.py:795 step_function  **\n        outputs = model.distribute_strategy.run(run_step, args=(data,))\n    /usr/local/lib/python3.7/dist-packages/tensorflow/python/distribute/distribute_lib.py:1259 run\n        return self._extended.call_for_each_replica(fn, args=args, kwargs=kwargs)\n    /usr/local/lib/python3.7/dist-packages/tensorflow/python/distribute/distribute_lib.py:2730 call_for_each_replica\n        return self._call_for_each_replica(fn, args, kwargs)\n    /usr/local/lib/python3.7/dist-packages/tensorflow/python/distribute/distribute_lib.py:3417 _call_for_each_replica\n        return fn(*args, **kwargs)\n    /usr/local/lib/python3.7/dist-packages/tensorflow/python/keras/engine/training.py:788 run_step  **\n        outputs = model.train_step(data)\n    /usr/local/lib/python3.7/dist-packages/tensorflow/python/keras/engine/training.py:757 train_step\n        self.optimizer.minimize(loss, self.trainable_variables, tape=tape)\n    /usr/local/lib/python3.7/dist-packages/tensorflow/python/keras/optimizer_v2/optimizer_v2.py:498 minimize\n        return self.apply_gradients(grads_and_vars, name=name)\n    /usr/local/lib/python3.7/dist-packages/tensorflow/python/keras/optimizer_v2/optimizer_v2.py:598 apply_gradients\n        grads_and_vars = optimizer_utils.filter_empty_gradients(grads_and_vars)\n    /usr/local/lib/python3.7/dist-packages/tensorflow/python/keras/optimizer_v2/utils.py:79 filter_empty_gradients\n        ([v.name for _, v in grads_and_vars],))\n\n    ValueError: No gradients provided for any variable: ['conv_lst_m2d_5/kernel:0', 'conv_lst_m2d_5/recurrent_kernel:0', 'conv_lst_m2d_5/bias:0', 'batch_normalization/gamma:0', 'batch_normalization/beta:0', 'conv_lst_m2d_6/kernel:0', 'conv_lst_m2d_6/recurrent_kernel:0', 'conv_lst_m2d_6/bias:0', 'batch_normalization_1/gamma:0', 'batch_normalization_1/beta:0', 'conv_lst_m2d_7/kernel:0', 'conv_lst_m2d_7/recurrent_kernel:0', 'conv_lst_m2d_7/bias:0', 'batch_normalization_2/gamma:0', 'batch_normalization_2/beta:0', 'conv3d_2/kernel:0', 'conv3d_2/bias:0'].\n"
          ]
        }
      ]
    },
    {
      "cell_type": "code",
      "metadata": {
        "id": "Nu8fZoyjb04t"
      },
      "source": [
        ""
      ],
      "execution_count": null,
      "outputs": []
    },
    {
      "cell_type": "code",
      "metadata": {
        "colab": {
          "base_uri": "https://localhost:8080/"
        },
        "id": "QQ8AtyHcqWrY",
        "outputId": "c4476c6f-9fdd-4aef-9c77-da50c60bbb2b"
      },
      "source": [
        "window_x[0][0].shape"
      ],
      "execution_count": null,
      "outputs": [
        {
          "output_type": "execute_result",
          "data": {
            "text/plain": [
              "torch.Size([448, 304])"
            ]
          },
          "metadata": {
            "tags": []
          },
          "execution_count": 85
        }
      ]
    },
    {
      "cell_type": "code",
      "metadata": {
        "id": "yvqSqv3hoBPD"
      },
      "source": [
        "# 모형 학습\r\n",
        "\r\n",
        "# 최적화 담당\r\n",
        "optimizer = optim.Adam(model_cnn.parameters(), lr = 0.0001)  # Adam 경사하강법을 사용\r\n",
        "# Learning Rate는 큰 사이즈일 경우 매우 작게 조정?!\r\n",
        "\r\n",
        "criterion = nn.MSELoss()\r\n",
        "\r\n",
        "for epoch in range(2000):\r\n",
        "  total_loss = 0\r\n",
        "  optimizer.zero_grad()  # 경사초기화\r\n",
        "  output = model_cnn(train_x)  # 순전파 계산\r\n",
        "  loss = criterion(output, train_y)  # 오차 계산\r\n",
        "\r\n",
        "  \r\n",
        "  loss.backward()  # 역전파 계산\r\n",
        "  optimizer.step()  #가중치 업데이트\r\n",
        "\r\n",
        "  total_loss += loss.data  # 누적오차 계산\r\n",
        "  \r\n",
        "  # 50회 반복마다 누적 오차 계산\r\n",
        "  if (epoch+1) % 100 == 0:\r\n",
        "    print(epoch+1, float(total_loss))"
      ],
      "execution_count": null,
      "outputs": []
    },
    {
      "cell_type": "code",
      "metadata": {
        "id": "qbS7rbXtnkaH"
      },
      "source": [
        ""
      ],
      "execution_count": null,
      "outputs": []
    },
    {
      "cell_type": "markdown",
      "metadata": {
        "id": "wEly4dtAnxQi"
      },
      "source": [
        "# 오케이 다시 해보겠음\r\n",
        "> 회귀를 사요요용\r\n",
        "* https://dacon.io/competitions/official/235706/codeshare/2434?dtype=recent"
      ]
    },
    {
      "cell_type": "code",
      "metadata": {
        "id": "MD3Mwef_gwR4",
        "colab": {
          "base_uri": "https://localhost:8080/"
        },
        "outputId": "1a6251bb-0c43-4813-c582-b178fbf634c8"
      },
      "source": [
        "# 파이토치 라이브러리 임포트\r\n",
        "import pandas as pd\r\n",
        "import numpy as np\r\n",
        "import warnings\r\n",
        "warnings.filterwarnings(action='ignore')\r\n",
        "import torch\r\n",
        "import torch.nn as nn\r\n",
        "import torch.nn.functional as F\r\n",
        "\r\n",
        "import torchvision\r\n",
        "import torchvision.transforms as transforms\r\n",
        "from torch.utils.data import Dataset,DataLoader, TensorDataset\r\n",
        "from torch.autograd import Variable  # 자동미분기능 제공\r\n",
        "import torch.optim as optim\r\n",
        "import matplotlib.pyplot as plt\r\n",
        "\r\n",
        "from tqdm import tqdm  # 진행표시바\r\n",
        "\r\n",
        "# np.random.seed(777)\r\n",
        "# torch.manual_seed(777)\r\n",
        "\r\n",
        "device = torch.device(\"cuda:0\" if torch.cuda.is_available() else \"cpu\")  # GPU, CPU 선택\r\n",
        "print('CPU? GPU? : ', device)"
      ],
      "execution_count": 1,
      "outputs": [
        {
          "output_type": "stream",
          "text": [
            "CPU? GPU? :  cuda:0\n"
          ],
          "name": "stdout"
        }
      ]
    },
    {
      "cell_type": "code",
      "metadata": {
        "id": "Y1I2N9zMhbA-",
        "colab": {
          "base_uri": "https://localhost:8080/"
        },
        "outputId": "3cf1b5c6-d9f4-436b-a32c-52ebf2d81307"
      },
      "source": [
        "# 구글드라이브 연결\r\n",
        "from google.colab import drive\r\n",
        "drive.mount('/content/drive')"
      ],
      "execution_count": 2,
      "outputs": [
        {
          "output_type": "stream",
          "text": [
            "Drive already mounted at /content/drive; to attempt to forcibly remount, call drive.mount(\"/content/drive\", force_remount=True).\n"
          ],
          "name": "stdout"
        }
      ]
    },
    {
      "cell_type": "code",
      "metadata": {
        "id": "H6C_NnwwhbA-",
        "colab": {
          "base_uri": "https://localhost:8080/",
          "height": 204
        },
        "outputId": "5ad6edcd-1fe7-4acb-e5a0-064090d815cb"
      },
      "source": [
        "fn = pd.read_csv('/content/drive/MyDrive/Colab Notebooks/DACON 1등이 목표/data/train.csv')\r\n",
        "fn.tail()"
      ],
      "execution_count": 3,
      "outputs": [
        {
          "output_type": "execute_result",
          "data": {
            "text/html": [
              "<div>\n",
              "<style scoped>\n",
              "    .dataframe tbody tr th:only-of-type {\n",
              "        vertical-align: middle;\n",
              "    }\n",
              "\n",
              "    .dataframe tbody tr th {\n",
              "        vertical-align: top;\n",
              "    }\n",
              "\n",
              "    .dataframe thead th {\n",
              "        text-align: right;\n",
              "    }\n",
              "</style>\n",
              "<table border=\"1\" class=\"dataframe\">\n",
              "  <thead>\n",
              "    <tr style=\"text-align: right;\">\n",
              "      <th></th>\n",
              "      <th>month</th>\n",
              "      <th>file_nm</th>\n",
              "    </tr>\n",
              "  </thead>\n",
              "  <tbody>\n",
              "    <tr>\n",
              "      <th>477</th>\n",
              "      <td>2018-08</td>\n",
              "      <td>201808.npy</td>\n",
              "    </tr>\n",
              "    <tr>\n",
              "      <th>478</th>\n",
              "      <td>2018-09</td>\n",
              "      <td>201809.npy</td>\n",
              "    </tr>\n",
              "    <tr>\n",
              "      <th>479</th>\n",
              "      <td>2018-10</td>\n",
              "      <td>201810.npy</td>\n",
              "    </tr>\n",
              "    <tr>\n",
              "      <th>480</th>\n",
              "      <td>2018-11</td>\n",
              "      <td>201811.npy</td>\n",
              "    </tr>\n",
              "    <tr>\n",
              "      <th>481</th>\n",
              "      <td>2018-12</td>\n",
              "      <td>201812.npy</td>\n",
              "    </tr>\n",
              "  </tbody>\n",
              "</table>\n",
              "</div>"
            ],
            "text/plain": [
              "       month     file_nm\n",
              "477  2018-08  201808.npy\n",
              "478  2018-09  201809.npy\n",
              "479  2018-10  201810.npy\n",
              "480  2018-11  201811.npy\n",
              "481  2018-12  201812.npy"
            ]
          },
          "metadata": {
            "tags": []
          },
          "execution_count": 3
        }
      ]
    },
    {
      "cell_type": "code",
      "metadata": {
        "id": "AzAMxyxxgwUY",
        "colab": {
          "base_uri": "https://localhost:8080/"
        },
        "outputId": "e7b6c3bb-a169-4ae5-df8a-40b8d5facef1"
      },
      "source": [
        "# 이거는 데이터명만\r\n",
        "# 첫 번째 파일은 제하고\r\n",
        "dm = fn.iloc[423:,1]\r\n",
        "dm.shape"
      ],
      "execution_count": 4,
      "outputs": [
        {
          "output_type": "execute_result",
          "data": {
            "text/plain": [
              "(59,)"
            ]
          },
          "metadata": {
            "tags": []
          },
          "execution_count": 4
        }
      ]
    },
    {
      "cell_type": "markdown",
      "metadata": {
        "id": "k624uZfyoSqC"
      },
      "source": [
        "> 데이터는 torch.Size([12, 1, 6, 448, 304]) 이 형태\r\n",
        "* [batch_size, channel(Filter layer), frames, height, width]"
      ]
    },
    {
      "cell_type": "code",
      "metadata": {
        "id": "FikD-GSlgwW1",
        "colab": {
          "base_uri": "https://localhost:8080/"
        },
        "outputId": "0fa8e036-57cb-403c-cf18-6974262a0575"
      },
      "source": [
        "# 데이터 생성\r\n",
        "data = np.load('/content/drive/MyDrive/Colab Notebooks/DACON 1등이 목표/data/train/201401.npy')\r\n",
        "data = data.reshape(1,448,304,5)\r\n",
        "\r\n",
        "for i in tqdm(dm):\r\n",
        "    a = np.load('/content/drive/MyDrive/Colab Notebooks/DACON 1등이 목표/data/train/'+i)\r\n",
        "    a = a.reshape(1,448,304,5)\r\n",
        "\r\n",
        "    data = np.concatenate((data,a), axis=0)\r\n",
        "data = np.array(data)\r\n",
        "data = data[:,:,:,0]\r\n",
        "\r\n",
        "data.shape"
      ],
      "execution_count": 5,
      "outputs": [
        {
          "output_type": "stream",
          "text": [
            "100%|██████████| 59/59 [00:01<00:00, 51.95it/s]\n"
          ],
          "name": "stderr"
        },
        {
          "output_type": "execute_result",
          "data": {
            "text/plain": [
              "(60, 448, 304)"
            ]
          },
          "metadata": {
            "tags": []
          },
          "execution_count": 5
        }
      ]
    },
    {
      "cell_type": "code",
      "metadata": {
        "id": "dcHP5WEVgwZI",
        "colab": {
          "base_uri": "https://localhost:8080/"
        },
        "outputId": "405b092c-223a-4464-fff7-1efa9566154a"
      },
      "source": [
        "# 데이터 셋 만들기\r\n",
        "\r\n",
        "# 데이터 셋 형태 변환\r\n",
        "data = data.reshape(60,1, 448,304)\r\n",
        "\r\n",
        "# 월별로 데이터 셋 생성\r\n",
        "for i in tqdm(range(12)):\r\n",
        "  globals()['train{}'.format(i)] = np.array(np.concatenate((data[0+i], data[12+i], data[24+i], data[36+i], data[48+i]), axis=0))\r\n",
        "\r\n",
        "  print(\"\\n\",globals()['train{}'.format(i)].shape)  # globals()는 그 변수를 의미 - 없으면 그냥 문자열"
      ],
      "execution_count": 6,
      "outputs": [
        {
          "output_type": "stream",
          "text": [
            "100%|██████████| 12/12 [00:00<00:00, 454.47it/s]"
          ],
          "name": "stderr"
        },
        {
          "output_type": "stream",
          "text": [
            "\n",
            " (5, 448, 304)\n",
            "\n",
            " (5, 448, 304)\n",
            "\n",
            " (5, 448, 304)\n",
            "\n",
            " (5, 448, 304)\n",
            "\n",
            " (5, 448, 304)\n",
            "\n",
            " (5, 448, 304)\n",
            "\n",
            " (5, 448, 304)\n",
            "\n",
            " (5, 448, 304)\n",
            "\n",
            " (5, 448, 304)\n",
            "\n",
            " (5, 448, 304)\n",
            "\n",
            " (5, 448, 304)\n",
            "\n",
            " (5, 448, 304)\n"
          ],
          "name": "stdout"
        },
        {
          "output_type": "stream",
          "text": [
            "\n"
          ],
          "name": "stderr"
        }
      ]
    },
    {
      "cell_type": "code",
      "metadata": {
        "id": "aaaUH4k7WgjE"
      },
      "source": [
        "# 이거 잠시만 \r\n",
        "vec = train0"
      ],
      "execution_count": 122,
      "outputs": []
    },
    {
      "cell_type": "code",
      "metadata": {
        "id": "92xDYarYWmh1"
      },
      "source": [
        ""
      ],
      "execution_count": null,
      "outputs": []
    },
    {
      "cell_type": "code",
      "metadata": {
        "id": "gknMIcZyyvAl"
      },
      "source": [
        "# 데이터 회귀 사용\r\n",
        "# 함수 사용\r\n",
        "\r\n",
        "for i in range(12):\r\n",
        "  vec = globals()['train{}'.format(i)]\r\n",
        "  a = vec.reshape(5,136192)\r\n",
        "  lda = pd.DataFrame(a.T)\r\n",
        "  \r\n",
        "  # 훈련, 테스트 데이터 생성\r\n",
        "  x_tr = lda[[0,1,2]]\r\n",
        "  y_tr = lda[[3]]\r\n",
        "  x_test = lda[[1,2,3]]\r\n",
        "\r\n",
        "  # 모델\r\n",
        "  from sklearn.linear_model import LinearRegression\r\n",
        "\r\n",
        "  mod = LinearRegression()\r\n",
        "  mod.fit(x_tr, y_tr) \r\n",
        "\r\n",
        "  p1 = mod.predict(x_test)\r\n",
        "  pred = p1.T.reshape(1,448,304)  #예측\r\n",
        "\r\n",
        "  globals()['pred_{}'.format(i)] = pred\r\n"
      ],
      "execution_count": 7,
      "outputs": []
    },
    {
      "cell_type": "code",
      "metadata": {
        "colab": {
          "base_uri": "https://localhost:8080/"
        },
        "id": "rm1HPARs0U-t",
        "outputId": "eec00aaf-2eaa-4473-a513-e8d91d1f60e7"
      },
      "source": [
        "for i in range(12):\r\n",
        "  print(globals()['pred_{}'.format(i)].shape)"
      ],
      "execution_count": 8,
      "outputs": [
        {
          "output_type": "stream",
          "text": [
            "(1, 448, 304)\n",
            "(1, 448, 304)\n",
            "(1, 448, 304)\n",
            "(1, 448, 304)\n",
            "(1, 448, 304)\n",
            "(1, 448, 304)\n",
            "(1, 448, 304)\n",
            "(1, 448, 304)\n",
            "(1, 448, 304)\n",
            "(1, 448, 304)\n",
            "(1, 448, 304)\n",
            "(1, 448, 304)\n"
          ],
          "name": "stdout"
        }
      ]
    },
    {
      "cell_type": "code",
      "metadata": {
        "colab": {
          "base_uri": "https://localhost:8080/",
          "height": 281
        },
        "id": "puxt7Jfp0k56",
        "outputId": "e3f31b23-f35b-4178-9cc4-67d5dc3aa2a9"
      },
      "source": [
        "# 그래프 그려보기\r\n",
        "import matplotlib.pyplot\r\n",
        "matplotlib.pyplot.imshow(pred_7[0], interpolation = 'None')\r\n",
        "matplotlib.pyplot.title('웅 예측')\r\n",
        "matplotlib.pyplot.show()"
      ],
      "execution_count": 9,
      "outputs": [
        {
          "output_type": "display_data",
          "data": {
            "image/png": "[encoded data removed]",
            "text/plain": [
              "<Figure size 432x288 with 1 Axes>"
            ]
          },
          "metadata": {
            "tags": [],
            "needs_background": "light"
          }
        }
      ]
    },
    {
      "cell_type": "code",
      "metadata": {
        "colab": {
          "base_uri": "https://localhost:8080/"
        },
        "id": "s6ICNj520qz-",
        "outputId": "7d4e6761-92b6-44ab-f0fe-70314f1d3acc"
      },
      "source": [
        "# 제출 형태로 변환\r\n",
        "\r\n",
        "# 데이터 생성\r\n",
        "sh1 = pd.DataFrame(pred_0.reshape(1,-1))\r\n",
        "\r\n",
        "for i in range(11):\r\n",
        "  globals()['pred_{}'.format(i+1)] = globals()['pred_{}'.format(i+1)].reshape(1,-1)\r\n",
        "\r\n",
        "  sh = globals()['pred_{}'.format(i+1)]\r\n",
        "  sh = pd.DataFrame(sh)\r\n",
        "\r\n",
        "  sh1 = pd.concat((sh1, sh), axis=0)\r\n",
        "  print(sh1.shape)"
      ],
      "execution_count": 11,
      "outputs": [
        {
          "output_type": "stream",
          "text": [
            "(2, 136192)\n",
            "(3, 136192)\n",
            "(4, 136192)\n",
            "(5, 136192)\n",
            "(6, 136192)\n",
            "(7, 136192)\n",
            "(8, 136192)\n",
            "(9, 136192)\n",
            "(10, 136192)\n",
            "(11, 136192)\n",
            "(12, 136192)\n"
          ],
          "name": "stdout"
        }
      ]
    },
    {
      "cell_type": "code",
      "metadata": {
        "colab": {
          "base_uri": "https://localhost:8080/",
          "height": 338
        },
        "id": "k27h4UI51_Vj",
        "outputId": "f6291d1f-3f7b-4610-95fe-62890bac896d"
      },
      "source": [
        "# sh1의 인덱스 수정\r\n",
        "\r\n",
        "# 12개월, 24개월 투투\r\n",
        "result = pd.concat([sh1,sh1], axis=0)\r\n",
        "result = result.reset_index(drop=True)\r\n",
        "\r\n",
        "# 파일 제출\r\n",
        "submission = pd.read_csv(\"/content/drive/MyDrive/Colab Notebooks/DACON 1등이 목표/data/sample_submission.csv\")\r\n",
        "sub = pd.concat([submission.loc[:,'month'],result], axis=1)\r\n",
        "sub.columns = submission.columns.values  # 제출파일에서 컬럼명을 \r\n",
        "sub.tail()"
      ],
      "execution_count": 17,
      "outputs": [
        {
          "output_type": "execute_result",
          "data": {
            "text/html": [
              "<div>\n",
              "<style scoped>\n",
              "    .dataframe tbody tr th:only-of-type {\n",
              "        vertical-align: middle;\n",
              "    }\n",
              "\n",
              "    .dataframe tbody tr th {\n",
              "        vertical-align: top;\n",
              "    }\n",
              "\n",
              "    .dataframe thead th {\n",
              "        text-align: right;\n",
              "    }\n",
              "</style>\n",
              "<table border=\"1\" class=\"dataframe\">\n",
              "  <thead>\n",
              "    <tr style=\"text-align: right;\">\n",
              "      <th></th>\n",
              "      <th>month</th>\n",
              "      <th>0</th>\n",
              "      <th>1</th>\n",
              "      <th>2</th>\n",
              "      <th>3</th>\n",
              "      <th>4</th>\n",
              "      <th>5</th>\n",
              "      <th>6</th>\n",
              "      <th>7</th>\n",
              "      <th>8</th>\n",
              "      <th>9</th>\n",
              "      <th>10</th>\n",
              "      <th>11</th>\n",
              "      <th>12</th>\n",
              "      <th>13</th>\n",
              "      <th>14</th>\n",
              "      <th>15</th>\n",
              "      <th>16</th>\n",
              "      <th>17</th>\n",
              "      <th>18</th>\n",
              "      <th>19</th>\n",
              "      <th>20</th>\n",
              "      <th>21</th>\n",
              "      <th>22</th>\n",
              "      <th>23</th>\n",
              "      <th>24</th>\n",
              "      <th>25</th>\n",
              "      <th>26</th>\n",
              "      <th>27</th>\n",
              "      <th>28</th>\n",
              "      <th>29</th>\n",
              "      <th>30</th>\n",
              "      <th>31</th>\n",
              "      <th>32</th>\n",
              "      <th>33</th>\n",
              "      <th>34</th>\n",
              "      <th>35</th>\n",
              "      <th>36</th>\n",
              "      <th>37</th>\n",
              "      <th>38</th>\n",
              "      <th>...</th>\n",
              "      <th>136152</th>\n",
              "      <th>136153</th>\n",
              "      <th>136154</th>\n",
              "      <th>136155</th>\n",
              "      <th>136156</th>\n",
              "      <th>136157</th>\n",
              "      <th>136158</th>\n",
              "      <th>136159</th>\n",
              "      <th>136160</th>\n",
              "      <th>136161</th>\n",
              "      <th>136162</th>\n",
              "      <th>136163</th>\n",
              "      <th>136164</th>\n",
              "      <th>136165</th>\n",
              "      <th>136166</th>\n",
              "      <th>136167</th>\n",
              "      <th>136168</th>\n",
              "      <th>136169</th>\n",
              "      <th>136170</th>\n",
              "      <th>136171</th>\n",
              "      <th>136172</th>\n",
              "      <th>136173</th>\n",
              "      <th>136174</th>\n",
              "      <th>136175</th>\n",
              "      <th>136176</th>\n",
              "      <th>136177</th>\n",
              "      <th>136178</th>\n",
              "      <th>136179</th>\n",
              "      <th>136180</th>\n",
              "      <th>136181</th>\n",
              "      <th>136182</th>\n",
              "      <th>136183</th>\n",
              "      <th>136184</th>\n",
              "      <th>136185</th>\n",
              "      <th>136186</th>\n",
              "      <th>136187</th>\n",
              "      <th>136188</th>\n",
              "      <th>136189</th>\n",
              "      <th>136190</th>\n",
              "      <th>136191</th>\n",
              "    </tr>\n",
              "  </thead>\n",
              "  <tbody>\n",
              "    <tr>\n",
              "      <th>19</th>\n",
              "      <td>2020-08</td>\n",
              "      <td>-0.044094</td>\n",
              "      <td>-0.044094</td>\n",
              "      <td>-0.044094</td>\n",
              "      <td>-0.044094</td>\n",
              "      <td>-0.044094</td>\n",
              "      <td>-0.044094</td>\n",
              "      <td>-0.044094</td>\n",
              "      <td>-0.044094</td>\n",
              "      <td>-0.044094</td>\n",
              "      <td>-0.044094</td>\n",
              "      <td>-0.044094</td>\n",
              "      <td>-0.044094</td>\n",
              "      <td>-0.044094</td>\n",
              "      <td>-0.044094</td>\n",
              "      <td>-0.044094</td>\n",
              "      <td>-0.044094</td>\n",
              "      <td>-0.044094</td>\n",
              "      <td>-0.044094</td>\n",
              "      <td>-0.044094</td>\n",
              "      <td>-0.044094</td>\n",
              "      <td>-0.044094</td>\n",
              "      <td>-0.044094</td>\n",
              "      <td>-0.044094</td>\n",
              "      <td>-0.044094</td>\n",
              "      <td>-0.044094</td>\n",
              "      <td>-0.044094</td>\n",
              "      <td>-0.044094</td>\n",
              "      <td>-0.044094</td>\n",
              "      <td>-0.044094</td>\n",
              "      <td>-0.044094</td>\n",
              "      <td>-0.044094</td>\n",
              "      <td>-0.044094</td>\n",
              "      <td>-0.044094</td>\n",
              "      <td>-0.044094</td>\n",
              "      <td>-0.044094</td>\n",
              "      <td>-0.044094</td>\n",
              "      <td>-0.044094</td>\n",
              "      <td>-0.044094</td>\n",
              "      <td>-0.044094</td>\n",
              "      <td>...</td>\n",
              "      <td>-0.044094</td>\n",
              "      <td>-0.044094</td>\n",
              "      <td>-0.044094</td>\n",
              "      <td>-0.044094</td>\n",
              "      <td>-0.044094</td>\n",
              "      <td>-0.044094</td>\n",
              "      <td>-0.044094</td>\n",
              "      <td>-0.044094</td>\n",
              "      <td>-0.044094</td>\n",
              "      <td>-0.044094</td>\n",
              "      <td>-0.044094</td>\n",
              "      <td>-0.044094</td>\n",
              "      <td>-0.044094</td>\n",
              "      <td>-0.044094</td>\n",
              "      <td>-0.044094</td>\n",
              "      <td>-0.044094</td>\n",
              "      <td>-0.044094</td>\n",
              "      <td>-0.044094</td>\n",
              "      <td>-0.044094</td>\n",
              "      <td>-0.044094</td>\n",
              "      <td>-0.044094</td>\n",
              "      <td>-0.044094</td>\n",
              "      <td>-0.044094</td>\n",
              "      <td>-0.044094</td>\n",
              "      <td>-0.044094</td>\n",
              "      <td>-0.044094</td>\n",
              "      <td>-0.044094</td>\n",
              "      <td>-0.044094</td>\n",
              "      <td>-0.044094</td>\n",
              "      <td>-0.044094</td>\n",
              "      <td>-0.044094</td>\n",
              "      <td>-0.044094</td>\n",
              "      <td>-0.044094</td>\n",
              "      <td>-0.044094</td>\n",
              "      <td>-0.044094</td>\n",
              "      <td>-0.044094</td>\n",
              "      <td>-0.044094</td>\n",
              "      <td>-0.044094</td>\n",
              "      <td>-0.044094</td>\n",
              "      <td>-0.044094</td>\n",
              "    </tr>\n",
              "    <tr>\n",
              "      <th>20</th>\n",
              "      <td>2020-09</td>\n",
              "      <td>0.251689</td>\n",
              "      <td>0.251689</td>\n",
              "      <td>0.251689</td>\n",
              "      <td>0.251689</td>\n",
              "      <td>0.251689</td>\n",
              "      <td>0.251689</td>\n",
              "      <td>0.251689</td>\n",
              "      <td>0.251689</td>\n",
              "      <td>0.251689</td>\n",
              "      <td>0.251689</td>\n",
              "      <td>0.251689</td>\n",
              "      <td>0.251689</td>\n",
              "      <td>0.251689</td>\n",
              "      <td>0.251689</td>\n",
              "      <td>0.251689</td>\n",
              "      <td>0.251689</td>\n",
              "      <td>0.251689</td>\n",
              "      <td>0.251689</td>\n",
              "      <td>0.251689</td>\n",
              "      <td>0.251689</td>\n",
              "      <td>0.251689</td>\n",
              "      <td>0.251689</td>\n",
              "      <td>0.251689</td>\n",
              "      <td>0.251689</td>\n",
              "      <td>0.251689</td>\n",
              "      <td>0.251689</td>\n",
              "      <td>0.251689</td>\n",
              "      <td>0.251689</td>\n",
              "      <td>0.251689</td>\n",
              "      <td>0.251689</td>\n",
              "      <td>0.251689</td>\n",
              "      <td>0.251689</td>\n",
              "      <td>0.251689</td>\n",
              "      <td>0.251689</td>\n",
              "      <td>0.251689</td>\n",
              "      <td>0.251689</td>\n",
              "      <td>0.251689</td>\n",
              "      <td>0.251689</td>\n",
              "      <td>0.251689</td>\n",
              "      <td>...</td>\n",
              "      <td>0.251689</td>\n",
              "      <td>0.251689</td>\n",
              "      <td>0.251689</td>\n",
              "      <td>0.251689</td>\n",
              "      <td>0.251689</td>\n",
              "      <td>0.251689</td>\n",
              "      <td>0.251689</td>\n",
              "      <td>0.251689</td>\n",
              "      <td>0.251689</td>\n",
              "      <td>0.251689</td>\n",
              "      <td>0.251689</td>\n",
              "      <td>0.251689</td>\n",
              "      <td>0.251689</td>\n",
              "      <td>0.251689</td>\n",
              "      <td>0.251689</td>\n",
              "      <td>0.251689</td>\n",
              "      <td>0.251689</td>\n",
              "      <td>0.251689</td>\n",
              "      <td>0.251689</td>\n",
              "      <td>0.251689</td>\n",
              "      <td>0.251689</td>\n",
              "      <td>0.251689</td>\n",
              "      <td>0.251689</td>\n",
              "      <td>0.251689</td>\n",
              "      <td>0.251689</td>\n",
              "      <td>0.251689</td>\n",
              "      <td>0.251689</td>\n",
              "      <td>0.251689</td>\n",
              "      <td>0.251689</td>\n",
              "      <td>0.251689</td>\n",
              "      <td>0.251689</td>\n",
              "      <td>0.251689</td>\n",
              "      <td>0.251689</td>\n",
              "      <td>0.251689</td>\n",
              "      <td>0.251689</td>\n",
              "      <td>0.251689</td>\n",
              "      <td>0.251689</td>\n",
              "      <td>0.251689</td>\n",
              "      <td>0.251689</td>\n",
              "      <td>0.251689</td>\n",
              "    </tr>\n",
              "    <tr>\n",
              "      <th>21</th>\n",
              "      <td>2020-10</td>\n",
              "      <td>0.393156</td>\n",
              "      <td>0.393156</td>\n",
              "      <td>0.393156</td>\n",
              "      <td>0.393156</td>\n",
              "      <td>0.393156</td>\n",
              "      <td>0.393156</td>\n",
              "      <td>0.393156</td>\n",
              "      <td>0.393156</td>\n",
              "      <td>0.393156</td>\n",
              "      <td>0.393156</td>\n",
              "      <td>0.393156</td>\n",
              "      <td>0.393156</td>\n",
              "      <td>0.393156</td>\n",
              "      <td>0.393156</td>\n",
              "      <td>0.393156</td>\n",
              "      <td>0.393156</td>\n",
              "      <td>0.393156</td>\n",
              "      <td>0.393156</td>\n",
              "      <td>0.393156</td>\n",
              "      <td>0.393156</td>\n",
              "      <td>0.393156</td>\n",
              "      <td>0.393156</td>\n",
              "      <td>0.393156</td>\n",
              "      <td>0.393156</td>\n",
              "      <td>0.393156</td>\n",
              "      <td>0.393156</td>\n",
              "      <td>0.393156</td>\n",
              "      <td>0.393156</td>\n",
              "      <td>0.393156</td>\n",
              "      <td>0.393156</td>\n",
              "      <td>0.393156</td>\n",
              "      <td>0.393156</td>\n",
              "      <td>0.393156</td>\n",
              "      <td>0.393156</td>\n",
              "      <td>0.393156</td>\n",
              "      <td>0.393156</td>\n",
              "      <td>0.393156</td>\n",
              "      <td>0.393156</td>\n",
              "      <td>0.393156</td>\n",
              "      <td>...</td>\n",
              "      <td>0.393156</td>\n",
              "      <td>0.393156</td>\n",
              "      <td>0.393156</td>\n",
              "      <td>0.393156</td>\n",
              "      <td>0.393156</td>\n",
              "      <td>0.393156</td>\n",
              "      <td>0.393156</td>\n",
              "      <td>0.393156</td>\n",
              "      <td>0.393156</td>\n",
              "      <td>0.393156</td>\n",
              "      <td>0.393156</td>\n",
              "      <td>0.393156</td>\n",
              "      <td>0.393156</td>\n",
              "      <td>0.393156</td>\n",
              "      <td>0.393156</td>\n",
              "      <td>0.393156</td>\n",
              "      <td>0.393156</td>\n",
              "      <td>0.393156</td>\n",
              "      <td>0.393156</td>\n",
              "      <td>0.393156</td>\n",
              "      <td>0.393156</td>\n",
              "      <td>0.393156</td>\n",
              "      <td>0.393156</td>\n",
              "      <td>0.393156</td>\n",
              "      <td>0.393156</td>\n",
              "      <td>0.393156</td>\n",
              "      <td>0.393156</td>\n",
              "      <td>0.393156</td>\n",
              "      <td>0.393156</td>\n",
              "      <td>0.393156</td>\n",
              "      <td>0.393156</td>\n",
              "      <td>0.393156</td>\n",
              "      <td>0.393156</td>\n",
              "      <td>0.393156</td>\n",
              "      <td>0.393156</td>\n",
              "      <td>0.393156</td>\n",
              "      <td>0.393156</td>\n",
              "      <td>0.393156</td>\n",
              "      <td>0.393156</td>\n",
              "      <td>0.393156</td>\n",
              "    </tr>\n",
              "    <tr>\n",
              "      <th>22</th>\n",
              "      <td>2020-11</td>\n",
              "      <td>-0.058551</td>\n",
              "      <td>-0.058551</td>\n",
              "      <td>-0.058551</td>\n",
              "      <td>-0.058551</td>\n",
              "      <td>-0.058551</td>\n",
              "      <td>-0.058551</td>\n",
              "      <td>-0.058551</td>\n",
              "      <td>-0.058551</td>\n",
              "      <td>-0.058551</td>\n",
              "      <td>-0.058551</td>\n",
              "      <td>-0.058551</td>\n",
              "      <td>-0.058551</td>\n",
              "      <td>-0.058551</td>\n",
              "      <td>-0.058551</td>\n",
              "      <td>-0.058551</td>\n",
              "      <td>-0.058551</td>\n",
              "      <td>-0.058551</td>\n",
              "      <td>-0.058551</td>\n",
              "      <td>-0.058551</td>\n",
              "      <td>-0.058551</td>\n",
              "      <td>-0.058551</td>\n",
              "      <td>-0.058551</td>\n",
              "      <td>-0.058551</td>\n",
              "      <td>-0.058551</td>\n",
              "      <td>-0.058551</td>\n",
              "      <td>-0.058551</td>\n",
              "      <td>-0.058551</td>\n",
              "      <td>-0.058551</td>\n",
              "      <td>-0.058551</td>\n",
              "      <td>-0.058551</td>\n",
              "      <td>-0.058551</td>\n",
              "      <td>-0.058551</td>\n",
              "      <td>-0.058551</td>\n",
              "      <td>-0.058551</td>\n",
              "      <td>-0.058551</td>\n",
              "      <td>-0.058551</td>\n",
              "      <td>-0.058551</td>\n",
              "      <td>-0.058551</td>\n",
              "      <td>-0.058551</td>\n",
              "      <td>...</td>\n",
              "      <td>-0.058551</td>\n",
              "      <td>-0.058551</td>\n",
              "      <td>-0.058551</td>\n",
              "      <td>-0.058551</td>\n",
              "      <td>-0.058551</td>\n",
              "      <td>-0.058551</td>\n",
              "      <td>-0.058551</td>\n",
              "      <td>-0.058551</td>\n",
              "      <td>-0.058551</td>\n",
              "      <td>-0.058551</td>\n",
              "      <td>-0.058551</td>\n",
              "      <td>-0.058551</td>\n",
              "      <td>-0.058551</td>\n",
              "      <td>-0.058551</td>\n",
              "      <td>-0.058551</td>\n",
              "      <td>-0.058551</td>\n",
              "      <td>-0.058551</td>\n",
              "      <td>-0.058551</td>\n",
              "      <td>-0.058551</td>\n",
              "      <td>-0.058551</td>\n",
              "      <td>-0.058551</td>\n",
              "      <td>-0.058551</td>\n",
              "      <td>-0.058551</td>\n",
              "      <td>-0.058551</td>\n",
              "      <td>-0.058551</td>\n",
              "      <td>-0.058551</td>\n",
              "      <td>-0.058551</td>\n",
              "      <td>-0.058551</td>\n",
              "      <td>-0.058551</td>\n",
              "      <td>-0.058551</td>\n",
              "      <td>-0.058551</td>\n",
              "      <td>-0.058551</td>\n",
              "      <td>-0.058551</td>\n",
              "      <td>-0.058551</td>\n",
              "      <td>-0.058551</td>\n",
              "      <td>-0.058551</td>\n",
              "      <td>-0.058551</td>\n",
              "      <td>-0.058551</td>\n",
              "      <td>-0.058551</td>\n",
              "      <td>-0.058551</td>\n",
              "    </tr>\n",
              "    <tr>\n",
              "      <th>23</th>\n",
              "      <td>2020-12</td>\n",
              "      <td>-0.341045</td>\n",
              "      <td>-0.341045</td>\n",
              "      <td>-0.341045</td>\n",
              "      <td>-0.341045</td>\n",
              "      <td>-0.341045</td>\n",
              "      <td>-0.341045</td>\n",
              "      <td>-0.341045</td>\n",
              "      <td>-0.341045</td>\n",
              "      <td>-0.341045</td>\n",
              "      <td>-0.341045</td>\n",
              "      <td>-0.341045</td>\n",
              "      <td>-0.341045</td>\n",
              "      <td>-0.341045</td>\n",
              "      <td>-0.341045</td>\n",
              "      <td>-0.341045</td>\n",
              "      <td>-0.341045</td>\n",
              "      <td>-0.341045</td>\n",
              "      <td>-0.341045</td>\n",
              "      <td>-0.341045</td>\n",
              "      <td>-0.341045</td>\n",
              "      <td>-0.341045</td>\n",
              "      <td>-0.341045</td>\n",
              "      <td>-0.341045</td>\n",
              "      <td>-0.341045</td>\n",
              "      <td>-0.341045</td>\n",
              "      <td>-0.341045</td>\n",
              "      <td>-0.341045</td>\n",
              "      <td>-0.341045</td>\n",
              "      <td>-0.341045</td>\n",
              "      <td>-0.341045</td>\n",
              "      <td>-0.341045</td>\n",
              "      <td>-0.341045</td>\n",
              "      <td>-0.341045</td>\n",
              "      <td>-0.341045</td>\n",
              "      <td>-0.341045</td>\n",
              "      <td>-0.341045</td>\n",
              "      <td>-0.341045</td>\n",
              "      <td>-0.341045</td>\n",
              "      <td>-0.341045</td>\n",
              "      <td>...</td>\n",
              "      <td>-0.341045</td>\n",
              "      <td>-0.341045</td>\n",
              "      <td>-0.341045</td>\n",
              "      <td>-0.341045</td>\n",
              "      <td>-0.341045</td>\n",
              "      <td>-0.341045</td>\n",
              "      <td>-0.341045</td>\n",
              "      <td>-0.341045</td>\n",
              "      <td>-0.341045</td>\n",
              "      <td>-0.341045</td>\n",
              "      <td>-0.341045</td>\n",
              "      <td>-0.341045</td>\n",
              "      <td>-0.341045</td>\n",
              "      <td>-0.341045</td>\n",
              "      <td>-0.341045</td>\n",
              "      <td>-0.341045</td>\n",
              "      <td>-0.341045</td>\n",
              "      <td>-0.341045</td>\n",
              "      <td>-0.341045</td>\n",
              "      <td>-0.341045</td>\n",
              "      <td>-0.341045</td>\n",
              "      <td>-0.341045</td>\n",
              "      <td>-0.341045</td>\n",
              "      <td>-0.341045</td>\n",
              "      <td>-0.341045</td>\n",
              "      <td>-0.341045</td>\n",
              "      <td>-0.341045</td>\n",
              "      <td>-0.341045</td>\n",
              "      <td>-0.341045</td>\n",
              "      <td>-0.341045</td>\n",
              "      <td>-0.341045</td>\n",
              "      <td>-0.341045</td>\n",
              "      <td>-0.341045</td>\n",
              "      <td>-0.341045</td>\n",
              "      <td>-0.341045</td>\n",
              "      <td>-0.341045</td>\n",
              "      <td>-0.341045</td>\n",
              "      <td>-0.341045</td>\n",
              "      <td>-0.341045</td>\n",
              "      <td>-0.341045</td>\n",
              "    </tr>\n",
              "  </tbody>\n",
              "</table>\n",
              "<p>5 rows × 136193 columns</p>\n",
              "</div>"
            ],
            "text/plain": [
              "      month         0         1  ...    136189    136190    136191\n",
              "19  2020-08 -0.044094 -0.044094  ... -0.044094 -0.044094 -0.044094\n",
              "20  2020-09  0.251689  0.251689  ...  0.251689  0.251689  0.251689\n",
              "21  2020-10  0.393156  0.393156  ...  0.393156  0.393156  0.393156\n",
              "22  2020-11 -0.058551 -0.058551  ... -0.058551 -0.058551 -0.058551\n",
              "23  2020-12 -0.341045 -0.341045  ... -0.341045 -0.341045 -0.341045\n",
              "\n",
              "[5 rows x 136193 columns]"
            ]
          },
          "metadata": {
            "tags": []
          },
          "execution_count": 17
        }
      ]
    },
    {
      "cell_type": "code",
      "metadata": {
        "id": "3Iy6F9100qxY"
      },
      "source": [
        "# 제출\r\n",
        "sub.to_csv('/content/drive/MyDrive/Colab Notebooks/DACON 1등이 목표/result/sub_0310.csv', index = False)"
      ],
      "execution_count": 18,
      "outputs": []
    },
    {
      "cell_type": "markdown",
      "metadata": {
        "id": "-vvkpSIh32hA"
      },
      "source": [
        "> 활성화 함수(ReLU)를 통과\r\n",
        "* https://3months.tistory.com/64"
      ]
    },
    {
      "cell_type": "code",
      "metadata": {
        "id": "LzHrahoB3448"
      },
      "source": [
        "# ReLU함수\r\n",
        "def relu(x) : \r\n",
        "    return np.maximum(0, x)"
      ],
      "execution_count": 19,
      "outputs": []
    },
    {
      "cell_type": "code",
      "metadata": {
        "colab": {
          "base_uri": "https://localhost:8080/",
          "height": 253
        },
        "id": "sopgUWZg4Vlz",
        "outputId": "f107aac2-07cc-4712-fcef-e5f68fab3799"
      },
      "source": [
        "sub1 = relu(sub.iloc[:,1:])\r\n",
        "sub1.tail()"
      ],
      "execution_count": 26,
      "outputs": [
        {
          "output_type": "execute_result",
          "data": {
            "text/html": [
              "<div>\n",
              "<style scoped>\n",
              "    .dataframe tbody tr th:only-of-type {\n",
              "        vertical-align: middle;\n",
              "    }\n",
              "\n",
              "    .dataframe tbody tr th {\n",
              "        vertical-align: top;\n",
              "    }\n",
              "\n",
              "    .dataframe thead th {\n",
              "        text-align: right;\n",
              "    }\n",
              "</style>\n",
              "<table border=\"1\" class=\"dataframe\">\n",
              "  <thead>\n",
              "    <tr style=\"text-align: right;\">\n",
              "      <th></th>\n",
              "      <th>0</th>\n",
              "      <th>1</th>\n",
              "      <th>2</th>\n",
              "      <th>3</th>\n",
              "      <th>4</th>\n",
              "      <th>5</th>\n",
              "      <th>6</th>\n",
              "      <th>7</th>\n",
              "      <th>8</th>\n",
              "      <th>9</th>\n",
              "      <th>10</th>\n",
              "      <th>11</th>\n",
              "      <th>12</th>\n",
              "      <th>13</th>\n",
              "      <th>14</th>\n",
              "      <th>15</th>\n",
              "      <th>16</th>\n",
              "      <th>17</th>\n",
              "      <th>18</th>\n",
              "      <th>19</th>\n",
              "      <th>20</th>\n",
              "      <th>21</th>\n",
              "      <th>22</th>\n",
              "      <th>23</th>\n",
              "      <th>24</th>\n",
              "      <th>25</th>\n",
              "      <th>26</th>\n",
              "      <th>27</th>\n",
              "      <th>28</th>\n",
              "      <th>29</th>\n",
              "      <th>30</th>\n",
              "      <th>31</th>\n",
              "      <th>32</th>\n",
              "      <th>33</th>\n",
              "      <th>34</th>\n",
              "      <th>35</th>\n",
              "      <th>36</th>\n",
              "      <th>37</th>\n",
              "      <th>38</th>\n",
              "      <th>39</th>\n",
              "      <th>...</th>\n",
              "      <th>136152</th>\n",
              "      <th>136153</th>\n",
              "      <th>136154</th>\n",
              "      <th>136155</th>\n",
              "      <th>136156</th>\n",
              "      <th>136157</th>\n",
              "      <th>136158</th>\n",
              "      <th>136159</th>\n",
              "      <th>136160</th>\n",
              "      <th>136161</th>\n",
              "      <th>136162</th>\n",
              "      <th>136163</th>\n",
              "      <th>136164</th>\n",
              "      <th>136165</th>\n",
              "      <th>136166</th>\n",
              "      <th>136167</th>\n",
              "      <th>136168</th>\n",
              "      <th>136169</th>\n",
              "      <th>136170</th>\n",
              "      <th>136171</th>\n",
              "      <th>136172</th>\n",
              "      <th>136173</th>\n",
              "      <th>136174</th>\n",
              "      <th>136175</th>\n",
              "      <th>136176</th>\n",
              "      <th>136177</th>\n",
              "      <th>136178</th>\n",
              "      <th>136179</th>\n",
              "      <th>136180</th>\n",
              "      <th>136181</th>\n",
              "      <th>136182</th>\n",
              "      <th>136183</th>\n",
              "      <th>136184</th>\n",
              "      <th>136185</th>\n",
              "      <th>136186</th>\n",
              "      <th>136187</th>\n",
              "      <th>136188</th>\n",
              "      <th>136189</th>\n",
              "      <th>136190</th>\n",
              "      <th>136191</th>\n",
              "    </tr>\n",
              "  </thead>\n",
              "  <tbody>\n",
              "    <tr>\n",
              "      <th>19</th>\n",
              "      <td>0.000000</td>\n",
              "      <td>0.000000</td>\n",
              "      <td>0.000000</td>\n",
              "      <td>0.000000</td>\n",
              "      <td>0.000000</td>\n",
              "      <td>0.000000</td>\n",
              "      <td>0.000000</td>\n",
              "      <td>0.000000</td>\n",
              "      <td>0.000000</td>\n",
              "      <td>0.000000</td>\n",
              "      <td>0.000000</td>\n",
              "      <td>0.000000</td>\n",
              "      <td>0.000000</td>\n",
              "      <td>0.000000</td>\n",
              "      <td>0.000000</td>\n",
              "      <td>0.000000</td>\n",
              "      <td>0.000000</td>\n",
              "      <td>0.000000</td>\n",
              "      <td>0.000000</td>\n",
              "      <td>0.000000</td>\n",
              "      <td>0.000000</td>\n",
              "      <td>0.000000</td>\n",
              "      <td>0.000000</td>\n",
              "      <td>0.000000</td>\n",
              "      <td>0.000000</td>\n",
              "      <td>0.000000</td>\n",
              "      <td>0.000000</td>\n",
              "      <td>0.000000</td>\n",
              "      <td>0.000000</td>\n",
              "      <td>0.000000</td>\n",
              "      <td>0.000000</td>\n",
              "      <td>0.000000</td>\n",
              "      <td>0.000000</td>\n",
              "      <td>0.000000</td>\n",
              "      <td>0.000000</td>\n",
              "      <td>0.000000</td>\n",
              "      <td>0.000000</td>\n",
              "      <td>0.000000</td>\n",
              "      <td>0.000000</td>\n",
              "      <td>0.000000</td>\n",
              "      <td>...</td>\n",
              "      <td>0.000000</td>\n",
              "      <td>0.000000</td>\n",
              "      <td>0.000000</td>\n",
              "      <td>0.000000</td>\n",
              "      <td>0.000000</td>\n",
              "      <td>0.000000</td>\n",
              "      <td>0.000000</td>\n",
              "      <td>0.000000</td>\n",
              "      <td>0.000000</td>\n",
              "      <td>0.000000</td>\n",
              "      <td>0.000000</td>\n",
              "      <td>0.000000</td>\n",
              "      <td>0.000000</td>\n",
              "      <td>0.000000</td>\n",
              "      <td>0.000000</td>\n",
              "      <td>0.000000</td>\n",
              "      <td>0.000000</td>\n",
              "      <td>0.000000</td>\n",
              "      <td>0.000000</td>\n",
              "      <td>0.000000</td>\n",
              "      <td>0.000000</td>\n",
              "      <td>0.000000</td>\n",
              "      <td>0.000000</td>\n",
              "      <td>0.000000</td>\n",
              "      <td>0.000000</td>\n",
              "      <td>0.000000</td>\n",
              "      <td>0.000000</td>\n",
              "      <td>0.000000</td>\n",
              "      <td>0.000000</td>\n",
              "      <td>0.000000</td>\n",
              "      <td>0.000000</td>\n",
              "      <td>0.000000</td>\n",
              "      <td>0.000000</td>\n",
              "      <td>0.000000</td>\n",
              "      <td>0.000000</td>\n",
              "      <td>0.000000</td>\n",
              "      <td>0.000000</td>\n",
              "      <td>0.000000</td>\n",
              "      <td>0.000000</td>\n",
              "      <td>0.000000</td>\n",
              "    </tr>\n",
              "    <tr>\n",
              "      <th>20</th>\n",
              "      <td>0.251689</td>\n",
              "      <td>0.251689</td>\n",
              "      <td>0.251689</td>\n",
              "      <td>0.251689</td>\n",
              "      <td>0.251689</td>\n",
              "      <td>0.251689</td>\n",
              "      <td>0.251689</td>\n",
              "      <td>0.251689</td>\n",
              "      <td>0.251689</td>\n",
              "      <td>0.251689</td>\n",
              "      <td>0.251689</td>\n",
              "      <td>0.251689</td>\n",
              "      <td>0.251689</td>\n",
              "      <td>0.251689</td>\n",
              "      <td>0.251689</td>\n",
              "      <td>0.251689</td>\n",
              "      <td>0.251689</td>\n",
              "      <td>0.251689</td>\n",
              "      <td>0.251689</td>\n",
              "      <td>0.251689</td>\n",
              "      <td>0.251689</td>\n",
              "      <td>0.251689</td>\n",
              "      <td>0.251689</td>\n",
              "      <td>0.251689</td>\n",
              "      <td>0.251689</td>\n",
              "      <td>0.251689</td>\n",
              "      <td>0.251689</td>\n",
              "      <td>0.251689</td>\n",
              "      <td>0.251689</td>\n",
              "      <td>0.251689</td>\n",
              "      <td>0.251689</td>\n",
              "      <td>0.251689</td>\n",
              "      <td>0.251689</td>\n",
              "      <td>0.251689</td>\n",
              "      <td>0.251689</td>\n",
              "      <td>0.251689</td>\n",
              "      <td>0.251689</td>\n",
              "      <td>0.251689</td>\n",
              "      <td>0.251689</td>\n",
              "      <td>0.251689</td>\n",
              "      <td>...</td>\n",
              "      <td>0.251689</td>\n",
              "      <td>0.251689</td>\n",
              "      <td>0.251689</td>\n",
              "      <td>0.251689</td>\n",
              "      <td>0.251689</td>\n",
              "      <td>0.251689</td>\n",
              "      <td>0.251689</td>\n",
              "      <td>0.251689</td>\n",
              "      <td>0.251689</td>\n",
              "      <td>0.251689</td>\n",
              "      <td>0.251689</td>\n",
              "      <td>0.251689</td>\n",
              "      <td>0.251689</td>\n",
              "      <td>0.251689</td>\n",
              "      <td>0.251689</td>\n",
              "      <td>0.251689</td>\n",
              "      <td>0.251689</td>\n",
              "      <td>0.251689</td>\n",
              "      <td>0.251689</td>\n",
              "      <td>0.251689</td>\n",
              "      <td>0.251689</td>\n",
              "      <td>0.251689</td>\n",
              "      <td>0.251689</td>\n",
              "      <td>0.251689</td>\n",
              "      <td>0.251689</td>\n",
              "      <td>0.251689</td>\n",
              "      <td>0.251689</td>\n",
              "      <td>0.251689</td>\n",
              "      <td>0.251689</td>\n",
              "      <td>0.251689</td>\n",
              "      <td>0.251689</td>\n",
              "      <td>0.251689</td>\n",
              "      <td>0.251689</td>\n",
              "      <td>0.251689</td>\n",
              "      <td>0.251689</td>\n",
              "      <td>0.251689</td>\n",
              "      <td>0.251689</td>\n",
              "      <td>0.251689</td>\n",
              "      <td>0.251689</td>\n",
              "      <td>0.251689</td>\n",
              "    </tr>\n",
              "    <tr>\n",
              "      <th>21</th>\n",
              "      <td>0.393156</td>\n",
              "      <td>0.393156</td>\n",
              "      <td>0.393156</td>\n",
              "      <td>0.393156</td>\n",
              "      <td>0.393156</td>\n",
              "      <td>0.393156</td>\n",
              "      <td>0.393156</td>\n",
              "      <td>0.393156</td>\n",
              "      <td>0.393156</td>\n",
              "      <td>0.393156</td>\n",
              "      <td>0.393156</td>\n",
              "      <td>0.393156</td>\n",
              "      <td>0.393156</td>\n",
              "      <td>0.393156</td>\n",
              "      <td>0.393156</td>\n",
              "      <td>0.393156</td>\n",
              "      <td>0.393156</td>\n",
              "      <td>0.393156</td>\n",
              "      <td>0.393156</td>\n",
              "      <td>0.393156</td>\n",
              "      <td>0.393156</td>\n",
              "      <td>0.393156</td>\n",
              "      <td>0.393156</td>\n",
              "      <td>0.393156</td>\n",
              "      <td>0.393156</td>\n",
              "      <td>0.393156</td>\n",
              "      <td>0.393156</td>\n",
              "      <td>0.393156</td>\n",
              "      <td>0.393156</td>\n",
              "      <td>0.393156</td>\n",
              "      <td>0.393156</td>\n",
              "      <td>0.393156</td>\n",
              "      <td>0.393156</td>\n",
              "      <td>0.393156</td>\n",
              "      <td>0.393156</td>\n",
              "      <td>0.393156</td>\n",
              "      <td>0.393156</td>\n",
              "      <td>0.393156</td>\n",
              "      <td>0.393156</td>\n",
              "      <td>0.393156</td>\n",
              "      <td>...</td>\n",
              "      <td>0.393156</td>\n",
              "      <td>0.393156</td>\n",
              "      <td>0.393156</td>\n",
              "      <td>0.393156</td>\n",
              "      <td>0.393156</td>\n",
              "      <td>0.393156</td>\n",
              "      <td>0.393156</td>\n",
              "      <td>0.393156</td>\n",
              "      <td>0.393156</td>\n",
              "      <td>0.393156</td>\n",
              "      <td>0.393156</td>\n",
              "      <td>0.393156</td>\n",
              "      <td>0.393156</td>\n",
              "      <td>0.393156</td>\n",
              "      <td>0.393156</td>\n",
              "      <td>0.393156</td>\n",
              "      <td>0.393156</td>\n",
              "      <td>0.393156</td>\n",
              "      <td>0.393156</td>\n",
              "      <td>0.393156</td>\n",
              "      <td>0.393156</td>\n",
              "      <td>0.393156</td>\n",
              "      <td>0.393156</td>\n",
              "      <td>0.393156</td>\n",
              "      <td>0.393156</td>\n",
              "      <td>0.393156</td>\n",
              "      <td>0.393156</td>\n",
              "      <td>0.393156</td>\n",
              "      <td>0.393156</td>\n",
              "      <td>0.393156</td>\n",
              "      <td>0.393156</td>\n",
              "      <td>0.393156</td>\n",
              "      <td>0.393156</td>\n",
              "      <td>0.393156</td>\n",
              "      <td>0.393156</td>\n",
              "      <td>0.393156</td>\n",
              "      <td>0.393156</td>\n",
              "      <td>0.393156</td>\n",
              "      <td>0.393156</td>\n",
              "      <td>0.393156</td>\n",
              "    </tr>\n",
              "    <tr>\n",
              "      <th>22</th>\n",
              "      <td>0.000000</td>\n",
              "      <td>0.000000</td>\n",
              "      <td>0.000000</td>\n",
              "      <td>0.000000</td>\n",
              "      <td>0.000000</td>\n",
              "      <td>0.000000</td>\n",
              "      <td>0.000000</td>\n",
              "      <td>0.000000</td>\n",
              "      <td>0.000000</td>\n",
              "      <td>0.000000</td>\n",
              "      <td>0.000000</td>\n",
              "      <td>0.000000</td>\n",
              "      <td>0.000000</td>\n",
              "      <td>0.000000</td>\n",
              "      <td>0.000000</td>\n",
              "      <td>0.000000</td>\n",
              "      <td>0.000000</td>\n",
              "      <td>0.000000</td>\n",
              "      <td>0.000000</td>\n",
              "      <td>0.000000</td>\n",
              "      <td>0.000000</td>\n",
              "      <td>0.000000</td>\n",
              "      <td>0.000000</td>\n",
              "      <td>0.000000</td>\n",
              "      <td>0.000000</td>\n",
              "      <td>0.000000</td>\n",
              "      <td>0.000000</td>\n",
              "      <td>0.000000</td>\n",
              "      <td>0.000000</td>\n",
              "      <td>0.000000</td>\n",
              "      <td>0.000000</td>\n",
              "      <td>0.000000</td>\n",
              "      <td>0.000000</td>\n",
              "      <td>0.000000</td>\n",
              "      <td>0.000000</td>\n",
              "      <td>0.000000</td>\n",
              "      <td>0.000000</td>\n",
              "      <td>0.000000</td>\n",
              "      <td>0.000000</td>\n",
              "      <td>0.000000</td>\n",
              "      <td>...</td>\n",
              "      <td>0.000000</td>\n",
              "      <td>0.000000</td>\n",
              "      <td>0.000000</td>\n",
              "      <td>0.000000</td>\n",
              "      <td>0.000000</td>\n",
              "      <td>0.000000</td>\n",
              "      <td>0.000000</td>\n",
              "      <td>0.000000</td>\n",
              "      <td>0.000000</td>\n",
              "      <td>0.000000</td>\n",
              "      <td>0.000000</td>\n",
              "      <td>0.000000</td>\n",
              "      <td>0.000000</td>\n",
              "      <td>0.000000</td>\n",
              "      <td>0.000000</td>\n",
              "      <td>0.000000</td>\n",
              "      <td>0.000000</td>\n",
              "      <td>0.000000</td>\n",
              "      <td>0.000000</td>\n",
              "      <td>0.000000</td>\n",
              "      <td>0.000000</td>\n",
              "      <td>0.000000</td>\n",
              "      <td>0.000000</td>\n",
              "      <td>0.000000</td>\n",
              "      <td>0.000000</td>\n",
              "      <td>0.000000</td>\n",
              "      <td>0.000000</td>\n",
              "      <td>0.000000</td>\n",
              "      <td>0.000000</td>\n",
              "      <td>0.000000</td>\n",
              "      <td>0.000000</td>\n",
              "      <td>0.000000</td>\n",
              "      <td>0.000000</td>\n",
              "      <td>0.000000</td>\n",
              "      <td>0.000000</td>\n",
              "      <td>0.000000</td>\n",
              "      <td>0.000000</td>\n",
              "      <td>0.000000</td>\n",
              "      <td>0.000000</td>\n",
              "      <td>0.000000</td>\n",
              "    </tr>\n",
              "    <tr>\n",
              "      <th>23</th>\n",
              "      <td>0.000000</td>\n",
              "      <td>0.000000</td>\n",
              "      <td>0.000000</td>\n",
              "      <td>0.000000</td>\n",
              "      <td>0.000000</td>\n",
              "      <td>0.000000</td>\n",
              "      <td>0.000000</td>\n",
              "      <td>0.000000</td>\n",
              "      <td>0.000000</td>\n",
              "      <td>0.000000</td>\n",
              "      <td>0.000000</td>\n",
              "      <td>0.000000</td>\n",
              "      <td>0.000000</td>\n",
              "      <td>0.000000</td>\n",
              "      <td>0.000000</td>\n",
              "      <td>0.000000</td>\n",
              "      <td>0.000000</td>\n",
              "      <td>0.000000</td>\n",
              "      <td>0.000000</td>\n",
              "      <td>0.000000</td>\n",
              "      <td>0.000000</td>\n",
              "      <td>0.000000</td>\n",
              "      <td>0.000000</td>\n",
              "      <td>0.000000</td>\n",
              "      <td>0.000000</td>\n",
              "      <td>0.000000</td>\n",
              "      <td>0.000000</td>\n",
              "      <td>0.000000</td>\n",
              "      <td>0.000000</td>\n",
              "      <td>0.000000</td>\n",
              "      <td>0.000000</td>\n",
              "      <td>0.000000</td>\n",
              "      <td>0.000000</td>\n",
              "      <td>0.000000</td>\n",
              "      <td>0.000000</td>\n",
              "      <td>0.000000</td>\n",
              "      <td>0.000000</td>\n",
              "      <td>0.000000</td>\n",
              "      <td>0.000000</td>\n",
              "      <td>0.000000</td>\n",
              "      <td>...</td>\n",
              "      <td>0.000000</td>\n",
              "      <td>0.000000</td>\n",
              "      <td>0.000000</td>\n",
              "      <td>0.000000</td>\n",
              "      <td>0.000000</td>\n",
              "      <td>0.000000</td>\n",
              "      <td>0.000000</td>\n",
              "      <td>0.000000</td>\n",
              "      <td>0.000000</td>\n",
              "      <td>0.000000</td>\n",
              "      <td>0.000000</td>\n",
              "      <td>0.000000</td>\n",
              "      <td>0.000000</td>\n",
              "      <td>0.000000</td>\n",
              "      <td>0.000000</td>\n",
              "      <td>0.000000</td>\n",
              "      <td>0.000000</td>\n",
              "      <td>0.000000</td>\n",
              "      <td>0.000000</td>\n",
              "      <td>0.000000</td>\n",
              "      <td>0.000000</td>\n",
              "      <td>0.000000</td>\n",
              "      <td>0.000000</td>\n",
              "      <td>0.000000</td>\n",
              "      <td>0.000000</td>\n",
              "      <td>0.000000</td>\n",
              "      <td>0.000000</td>\n",
              "      <td>0.000000</td>\n",
              "      <td>0.000000</td>\n",
              "      <td>0.000000</td>\n",
              "      <td>0.000000</td>\n",
              "      <td>0.000000</td>\n",
              "      <td>0.000000</td>\n",
              "      <td>0.000000</td>\n",
              "      <td>0.000000</td>\n",
              "      <td>0.000000</td>\n",
              "      <td>0.000000</td>\n",
              "      <td>0.000000</td>\n",
              "      <td>0.000000</td>\n",
              "      <td>0.000000</td>\n",
              "    </tr>\n",
              "  </tbody>\n",
              "</table>\n",
              "<p>5 rows × 136192 columns</p>\n",
              "</div>"
            ],
            "text/plain": [
              "           0         1         2  ...    136189    136190    136191\n",
              "19  0.000000  0.000000  0.000000  ...  0.000000  0.000000  0.000000\n",
              "20  0.251689  0.251689  0.251689  ...  0.251689  0.251689  0.251689\n",
              "21  0.393156  0.393156  0.393156  ...  0.393156  0.393156  0.393156\n",
              "22  0.000000  0.000000  0.000000  ...  0.000000  0.000000  0.000000\n",
              "23  0.000000  0.000000  0.000000  ...  0.000000  0.000000  0.000000\n",
              "\n",
              "[5 rows x 136192 columns]"
            ]
          },
          "metadata": {
            "tags": []
          },
          "execution_count": 26
        }
      ]
    },
    {
      "cell_type": "code",
      "metadata": {
        "colab": {
          "base_uri": "https://localhost:8080/",
          "height": 338
        },
        "id": "7fdYXIx64zr8",
        "outputId": "32e3afd2-2ce3-40a7-84ec-129f0895eb27"
      },
      "source": [
        "# 파일 제출\r\n",
        "submission = pd.read_csv(\"/content/drive/MyDrive/Colab Notebooks/DACON 1등이 목표/data/sample_submission.csv\")\r\n",
        "sub = pd.concat([submission.loc[:,'month'],sub1], axis=1)\r\n",
        "sub.columns = submission.columns.values  # 제출파일에서 컬럼명을 \r\n",
        "sub.tail()"
      ],
      "execution_count": 29,
      "outputs": [
        {
          "output_type": "execute_result",
          "data": {
            "text/html": [
              "<div>\n",
              "<style scoped>\n",
              "    .dataframe tbody tr th:only-of-type {\n",
              "        vertical-align: middle;\n",
              "    }\n",
              "\n",
              "    .dataframe tbody tr th {\n",
              "        vertical-align: top;\n",
              "    }\n",
              "\n",
              "    .dataframe thead th {\n",
              "        text-align: right;\n",
              "    }\n",
              "</style>\n",
              "<table border=\"1\" class=\"dataframe\">\n",
              "  <thead>\n",
              "    <tr style=\"text-align: right;\">\n",
              "      <th></th>\n",
              "      <th>month</th>\n",
              "      <th>0</th>\n",
              "      <th>1</th>\n",
              "      <th>2</th>\n",
              "      <th>3</th>\n",
              "      <th>4</th>\n",
              "      <th>5</th>\n",
              "      <th>6</th>\n",
              "      <th>7</th>\n",
              "      <th>8</th>\n",
              "      <th>9</th>\n",
              "      <th>10</th>\n",
              "      <th>11</th>\n",
              "      <th>12</th>\n",
              "      <th>13</th>\n",
              "      <th>14</th>\n",
              "      <th>15</th>\n",
              "      <th>16</th>\n",
              "      <th>17</th>\n",
              "      <th>18</th>\n",
              "      <th>19</th>\n",
              "      <th>20</th>\n",
              "      <th>21</th>\n",
              "      <th>22</th>\n",
              "      <th>23</th>\n",
              "      <th>24</th>\n",
              "      <th>25</th>\n",
              "      <th>26</th>\n",
              "      <th>27</th>\n",
              "      <th>28</th>\n",
              "      <th>29</th>\n",
              "      <th>30</th>\n",
              "      <th>31</th>\n",
              "      <th>32</th>\n",
              "      <th>33</th>\n",
              "      <th>34</th>\n",
              "      <th>35</th>\n",
              "      <th>36</th>\n",
              "      <th>37</th>\n",
              "      <th>38</th>\n",
              "      <th>...</th>\n",
              "      <th>136152</th>\n",
              "      <th>136153</th>\n",
              "      <th>136154</th>\n",
              "      <th>136155</th>\n",
              "      <th>136156</th>\n",
              "      <th>136157</th>\n",
              "      <th>136158</th>\n",
              "      <th>136159</th>\n",
              "      <th>136160</th>\n",
              "      <th>136161</th>\n",
              "      <th>136162</th>\n",
              "      <th>136163</th>\n",
              "      <th>136164</th>\n",
              "      <th>136165</th>\n",
              "      <th>136166</th>\n",
              "      <th>136167</th>\n",
              "      <th>136168</th>\n",
              "      <th>136169</th>\n",
              "      <th>136170</th>\n",
              "      <th>136171</th>\n",
              "      <th>136172</th>\n",
              "      <th>136173</th>\n",
              "      <th>136174</th>\n",
              "      <th>136175</th>\n",
              "      <th>136176</th>\n",
              "      <th>136177</th>\n",
              "      <th>136178</th>\n",
              "      <th>136179</th>\n",
              "      <th>136180</th>\n",
              "      <th>136181</th>\n",
              "      <th>136182</th>\n",
              "      <th>136183</th>\n",
              "      <th>136184</th>\n",
              "      <th>136185</th>\n",
              "      <th>136186</th>\n",
              "      <th>136187</th>\n",
              "      <th>136188</th>\n",
              "      <th>136189</th>\n",
              "      <th>136190</th>\n",
              "      <th>136191</th>\n",
              "    </tr>\n",
              "  </thead>\n",
              "  <tbody>\n",
              "    <tr>\n",
              "      <th>19</th>\n",
              "      <td>2020-08</td>\n",
              "      <td>0.000000</td>\n",
              "      <td>0.000000</td>\n",
              "      <td>0.000000</td>\n",
              "      <td>0.000000</td>\n",
              "      <td>0.000000</td>\n",
              "      <td>0.000000</td>\n",
              "      <td>0.000000</td>\n",
              "      <td>0.000000</td>\n",
              "      <td>0.000000</td>\n",
              "      <td>0.000000</td>\n",
              "      <td>0.000000</td>\n",
              "      <td>0.000000</td>\n",
              "      <td>0.000000</td>\n",
              "      <td>0.000000</td>\n",
              "      <td>0.000000</td>\n",
              "      <td>0.000000</td>\n",
              "      <td>0.000000</td>\n",
              "      <td>0.000000</td>\n",
              "      <td>0.000000</td>\n",
              "      <td>0.000000</td>\n",
              "      <td>0.000000</td>\n",
              "      <td>0.000000</td>\n",
              "      <td>0.000000</td>\n",
              "      <td>0.000000</td>\n",
              "      <td>0.000000</td>\n",
              "      <td>0.000000</td>\n",
              "      <td>0.000000</td>\n",
              "      <td>0.000000</td>\n",
              "      <td>0.000000</td>\n",
              "      <td>0.000000</td>\n",
              "      <td>0.000000</td>\n",
              "      <td>0.000000</td>\n",
              "      <td>0.000000</td>\n",
              "      <td>0.000000</td>\n",
              "      <td>0.000000</td>\n",
              "      <td>0.000000</td>\n",
              "      <td>0.000000</td>\n",
              "      <td>0.000000</td>\n",
              "      <td>0.000000</td>\n",
              "      <td>...</td>\n",
              "      <td>0.000000</td>\n",
              "      <td>0.000000</td>\n",
              "      <td>0.000000</td>\n",
              "      <td>0.000000</td>\n",
              "      <td>0.000000</td>\n",
              "      <td>0.000000</td>\n",
              "      <td>0.000000</td>\n",
              "      <td>0.000000</td>\n",
              "      <td>0.000000</td>\n",
              "      <td>0.000000</td>\n",
              "      <td>0.000000</td>\n",
              "      <td>0.000000</td>\n",
              "      <td>0.000000</td>\n",
              "      <td>0.000000</td>\n",
              "      <td>0.000000</td>\n",
              "      <td>0.000000</td>\n",
              "      <td>0.000000</td>\n",
              "      <td>0.000000</td>\n",
              "      <td>0.000000</td>\n",
              "      <td>0.000000</td>\n",
              "      <td>0.000000</td>\n",
              "      <td>0.000000</td>\n",
              "      <td>0.000000</td>\n",
              "      <td>0.000000</td>\n",
              "      <td>0.000000</td>\n",
              "      <td>0.000000</td>\n",
              "      <td>0.000000</td>\n",
              "      <td>0.000000</td>\n",
              "      <td>0.000000</td>\n",
              "      <td>0.000000</td>\n",
              "      <td>0.000000</td>\n",
              "      <td>0.000000</td>\n",
              "      <td>0.000000</td>\n",
              "      <td>0.000000</td>\n",
              "      <td>0.000000</td>\n",
              "      <td>0.000000</td>\n",
              "      <td>0.000000</td>\n",
              "      <td>0.000000</td>\n",
              "      <td>0.000000</td>\n",
              "      <td>0.000000</td>\n",
              "    </tr>\n",
              "    <tr>\n",
              "      <th>20</th>\n",
              "      <td>2020-09</td>\n",
              "      <td>0.251689</td>\n",
              "      <td>0.251689</td>\n",
              "      <td>0.251689</td>\n",
              "      <td>0.251689</td>\n",
              "      <td>0.251689</td>\n",
              "      <td>0.251689</td>\n",
              "      <td>0.251689</td>\n",
              "      <td>0.251689</td>\n",
              "      <td>0.251689</td>\n",
              "      <td>0.251689</td>\n",
              "      <td>0.251689</td>\n",
              "      <td>0.251689</td>\n",
              "      <td>0.251689</td>\n",
              "      <td>0.251689</td>\n",
              "      <td>0.251689</td>\n",
              "      <td>0.251689</td>\n",
              "      <td>0.251689</td>\n",
              "      <td>0.251689</td>\n",
              "      <td>0.251689</td>\n",
              "      <td>0.251689</td>\n",
              "      <td>0.251689</td>\n",
              "      <td>0.251689</td>\n",
              "      <td>0.251689</td>\n",
              "      <td>0.251689</td>\n",
              "      <td>0.251689</td>\n",
              "      <td>0.251689</td>\n",
              "      <td>0.251689</td>\n",
              "      <td>0.251689</td>\n",
              "      <td>0.251689</td>\n",
              "      <td>0.251689</td>\n",
              "      <td>0.251689</td>\n",
              "      <td>0.251689</td>\n",
              "      <td>0.251689</td>\n",
              "      <td>0.251689</td>\n",
              "      <td>0.251689</td>\n",
              "      <td>0.251689</td>\n",
              "      <td>0.251689</td>\n",
              "      <td>0.251689</td>\n",
              "      <td>0.251689</td>\n",
              "      <td>...</td>\n",
              "      <td>0.251689</td>\n",
              "      <td>0.251689</td>\n",
              "      <td>0.251689</td>\n",
              "      <td>0.251689</td>\n",
              "      <td>0.251689</td>\n",
              "      <td>0.251689</td>\n",
              "      <td>0.251689</td>\n",
              "      <td>0.251689</td>\n",
              "      <td>0.251689</td>\n",
              "      <td>0.251689</td>\n",
              "      <td>0.251689</td>\n",
              "      <td>0.251689</td>\n",
              "      <td>0.251689</td>\n",
              "      <td>0.251689</td>\n",
              "      <td>0.251689</td>\n",
              "      <td>0.251689</td>\n",
              "      <td>0.251689</td>\n",
              "      <td>0.251689</td>\n",
              "      <td>0.251689</td>\n",
              "      <td>0.251689</td>\n",
              "      <td>0.251689</td>\n",
              "      <td>0.251689</td>\n",
              "      <td>0.251689</td>\n",
              "      <td>0.251689</td>\n",
              "      <td>0.251689</td>\n",
              "      <td>0.251689</td>\n",
              "      <td>0.251689</td>\n",
              "      <td>0.251689</td>\n",
              "      <td>0.251689</td>\n",
              "      <td>0.251689</td>\n",
              "      <td>0.251689</td>\n",
              "      <td>0.251689</td>\n",
              "      <td>0.251689</td>\n",
              "      <td>0.251689</td>\n",
              "      <td>0.251689</td>\n",
              "      <td>0.251689</td>\n",
              "      <td>0.251689</td>\n",
              "      <td>0.251689</td>\n",
              "      <td>0.251689</td>\n",
              "      <td>0.251689</td>\n",
              "    </tr>\n",
              "    <tr>\n",
              "      <th>21</th>\n",
              "      <td>2020-10</td>\n",
              "      <td>0.393156</td>\n",
              "      <td>0.393156</td>\n",
              "      <td>0.393156</td>\n",
              "      <td>0.393156</td>\n",
              "      <td>0.393156</td>\n",
              "      <td>0.393156</td>\n",
              "      <td>0.393156</td>\n",
              "      <td>0.393156</td>\n",
              "      <td>0.393156</td>\n",
              "      <td>0.393156</td>\n",
              "      <td>0.393156</td>\n",
              "      <td>0.393156</td>\n",
              "      <td>0.393156</td>\n",
              "      <td>0.393156</td>\n",
              "      <td>0.393156</td>\n",
              "      <td>0.393156</td>\n",
              "      <td>0.393156</td>\n",
              "      <td>0.393156</td>\n",
              "      <td>0.393156</td>\n",
              "      <td>0.393156</td>\n",
              "      <td>0.393156</td>\n",
              "      <td>0.393156</td>\n",
              "      <td>0.393156</td>\n",
              "      <td>0.393156</td>\n",
              "      <td>0.393156</td>\n",
              "      <td>0.393156</td>\n",
              "      <td>0.393156</td>\n",
              "      <td>0.393156</td>\n",
              "      <td>0.393156</td>\n",
              "      <td>0.393156</td>\n",
              "      <td>0.393156</td>\n",
              "      <td>0.393156</td>\n",
              "      <td>0.393156</td>\n",
              "      <td>0.393156</td>\n",
              "      <td>0.393156</td>\n",
              "      <td>0.393156</td>\n",
              "      <td>0.393156</td>\n",
              "      <td>0.393156</td>\n",
              "      <td>0.393156</td>\n",
              "      <td>...</td>\n",
              "      <td>0.393156</td>\n",
              "      <td>0.393156</td>\n",
              "      <td>0.393156</td>\n",
              "      <td>0.393156</td>\n",
              "      <td>0.393156</td>\n",
              "      <td>0.393156</td>\n",
              "      <td>0.393156</td>\n",
              "      <td>0.393156</td>\n",
              "      <td>0.393156</td>\n",
              "      <td>0.393156</td>\n",
              "      <td>0.393156</td>\n",
              "      <td>0.393156</td>\n",
              "      <td>0.393156</td>\n",
              "      <td>0.393156</td>\n",
              "      <td>0.393156</td>\n",
              "      <td>0.393156</td>\n",
              "      <td>0.393156</td>\n",
              "      <td>0.393156</td>\n",
              "      <td>0.393156</td>\n",
              "      <td>0.393156</td>\n",
              "      <td>0.393156</td>\n",
              "      <td>0.393156</td>\n",
              "      <td>0.393156</td>\n",
              "      <td>0.393156</td>\n",
              "      <td>0.393156</td>\n",
              "      <td>0.393156</td>\n",
              "      <td>0.393156</td>\n",
              "      <td>0.393156</td>\n",
              "      <td>0.393156</td>\n",
              "      <td>0.393156</td>\n",
              "      <td>0.393156</td>\n",
              "      <td>0.393156</td>\n",
              "      <td>0.393156</td>\n",
              "      <td>0.393156</td>\n",
              "      <td>0.393156</td>\n",
              "      <td>0.393156</td>\n",
              "      <td>0.393156</td>\n",
              "      <td>0.393156</td>\n",
              "      <td>0.393156</td>\n",
              "      <td>0.393156</td>\n",
              "    </tr>\n",
              "    <tr>\n",
              "      <th>22</th>\n",
              "      <td>2020-11</td>\n",
              "      <td>0.000000</td>\n",
              "      <td>0.000000</td>\n",
              "      <td>0.000000</td>\n",
              "      <td>0.000000</td>\n",
              "      <td>0.000000</td>\n",
              "      <td>0.000000</td>\n",
              "      <td>0.000000</td>\n",
              "      <td>0.000000</td>\n",
              "      <td>0.000000</td>\n",
              "      <td>0.000000</td>\n",
              "      <td>0.000000</td>\n",
              "      <td>0.000000</td>\n",
              "      <td>0.000000</td>\n",
              "      <td>0.000000</td>\n",
              "      <td>0.000000</td>\n",
              "      <td>0.000000</td>\n",
              "      <td>0.000000</td>\n",
              "      <td>0.000000</td>\n",
              "      <td>0.000000</td>\n",
              "      <td>0.000000</td>\n",
              "      <td>0.000000</td>\n",
              "      <td>0.000000</td>\n",
              "      <td>0.000000</td>\n",
              "      <td>0.000000</td>\n",
              "      <td>0.000000</td>\n",
              "      <td>0.000000</td>\n",
              "      <td>0.000000</td>\n",
              "      <td>0.000000</td>\n",
              "      <td>0.000000</td>\n",
              "      <td>0.000000</td>\n",
              "      <td>0.000000</td>\n",
              "      <td>0.000000</td>\n",
              "      <td>0.000000</td>\n",
              "      <td>0.000000</td>\n",
              "      <td>0.000000</td>\n",
              "      <td>0.000000</td>\n",
              "      <td>0.000000</td>\n",
              "      <td>0.000000</td>\n",
              "      <td>0.000000</td>\n",
              "      <td>...</td>\n",
              "      <td>0.000000</td>\n",
              "      <td>0.000000</td>\n",
              "      <td>0.000000</td>\n",
              "      <td>0.000000</td>\n",
              "      <td>0.000000</td>\n",
              "      <td>0.000000</td>\n",
              "      <td>0.000000</td>\n",
              "      <td>0.000000</td>\n",
              "      <td>0.000000</td>\n",
              "      <td>0.000000</td>\n",
              "      <td>0.000000</td>\n",
              "      <td>0.000000</td>\n",
              "      <td>0.000000</td>\n",
              "      <td>0.000000</td>\n",
              "      <td>0.000000</td>\n",
              "      <td>0.000000</td>\n",
              "      <td>0.000000</td>\n",
              "      <td>0.000000</td>\n",
              "      <td>0.000000</td>\n",
              "      <td>0.000000</td>\n",
              "      <td>0.000000</td>\n",
              "      <td>0.000000</td>\n",
              "      <td>0.000000</td>\n",
              "      <td>0.000000</td>\n",
              "      <td>0.000000</td>\n",
              "      <td>0.000000</td>\n",
              "      <td>0.000000</td>\n",
              "      <td>0.000000</td>\n",
              "      <td>0.000000</td>\n",
              "      <td>0.000000</td>\n",
              "      <td>0.000000</td>\n",
              "      <td>0.000000</td>\n",
              "      <td>0.000000</td>\n",
              "      <td>0.000000</td>\n",
              "      <td>0.000000</td>\n",
              "      <td>0.000000</td>\n",
              "      <td>0.000000</td>\n",
              "      <td>0.000000</td>\n",
              "      <td>0.000000</td>\n",
              "      <td>0.000000</td>\n",
              "    </tr>\n",
              "    <tr>\n",
              "      <th>23</th>\n",
              "      <td>2020-12</td>\n",
              "      <td>0.000000</td>\n",
              "      <td>0.000000</td>\n",
              "      <td>0.000000</td>\n",
              "      <td>0.000000</td>\n",
              "      <td>0.000000</td>\n",
              "      <td>0.000000</td>\n",
              "      <td>0.000000</td>\n",
              "      <td>0.000000</td>\n",
              "      <td>0.000000</td>\n",
              "      <td>0.000000</td>\n",
              "      <td>0.000000</td>\n",
              "      <td>0.000000</td>\n",
              "      <td>0.000000</td>\n",
              "      <td>0.000000</td>\n",
              "      <td>0.000000</td>\n",
              "      <td>0.000000</td>\n",
              "      <td>0.000000</td>\n",
              "      <td>0.000000</td>\n",
              "      <td>0.000000</td>\n",
              "      <td>0.000000</td>\n",
              "      <td>0.000000</td>\n",
              "      <td>0.000000</td>\n",
              "      <td>0.000000</td>\n",
              "      <td>0.000000</td>\n",
              "      <td>0.000000</td>\n",
              "      <td>0.000000</td>\n",
              "      <td>0.000000</td>\n",
              "      <td>0.000000</td>\n",
              "      <td>0.000000</td>\n",
              "      <td>0.000000</td>\n",
              "      <td>0.000000</td>\n",
              "      <td>0.000000</td>\n",
              "      <td>0.000000</td>\n",
              "      <td>0.000000</td>\n",
              "      <td>0.000000</td>\n",
              "      <td>0.000000</td>\n",
              "      <td>0.000000</td>\n",
              "      <td>0.000000</td>\n",
              "      <td>0.000000</td>\n",
              "      <td>...</td>\n",
              "      <td>0.000000</td>\n",
              "      <td>0.000000</td>\n",
              "      <td>0.000000</td>\n",
              "      <td>0.000000</td>\n",
              "      <td>0.000000</td>\n",
              "      <td>0.000000</td>\n",
              "      <td>0.000000</td>\n",
              "      <td>0.000000</td>\n",
              "      <td>0.000000</td>\n",
              "      <td>0.000000</td>\n",
              "      <td>0.000000</td>\n",
              "      <td>0.000000</td>\n",
              "      <td>0.000000</td>\n",
              "      <td>0.000000</td>\n",
              "      <td>0.000000</td>\n",
              "      <td>0.000000</td>\n",
              "      <td>0.000000</td>\n",
              "      <td>0.000000</td>\n",
              "      <td>0.000000</td>\n",
              "      <td>0.000000</td>\n",
              "      <td>0.000000</td>\n",
              "      <td>0.000000</td>\n",
              "      <td>0.000000</td>\n",
              "      <td>0.000000</td>\n",
              "      <td>0.000000</td>\n",
              "      <td>0.000000</td>\n",
              "      <td>0.000000</td>\n",
              "      <td>0.000000</td>\n",
              "      <td>0.000000</td>\n",
              "      <td>0.000000</td>\n",
              "      <td>0.000000</td>\n",
              "      <td>0.000000</td>\n",
              "      <td>0.000000</td>\n",
              "      <td>0.000000</td>\n",
              "      <td>0.000000</td>\n",
              "      <td>0.000000</td>\n",
              "      <td>0.000000</td>\n",
              "      <td>0.000000</td>\n",
              "      <td>0.000000</td>\n",
              "      <td>0.000000</td>\n",
              "    </tr>\n",
              "  </tbody>\n",
              "</table>\n",
              "<p>5 rows × 136193 columns</p>\n",
              "</div>"
            ],
            "text/plain": [
              "      month         0         1  ...    136189    136190    136191\n",
              "19  2020-08  0.000000  0.000000  ...  0.000000  0.000000  0.000000\n",
              "20  2020-09  0.251689  0.251689  ...  0.251689  0.251689  0.251689\n",
              "21  2020-10  0.393156  0.393156  ...  0.393156  0.393156  0.393156\n",
              "22  2020-11  0.000000  0.000000  ...  0.000000  0.000000  0.000000\n",
              "23  2020-12  0.000000  0.000000  ...  0.000000  0.000000  0.000000\n",
              "\n",
              "[5 rows x 136193 columns]"
            ]
          },
          "metadata": {
            "tags": []
          },
          "execution_count": 29
        }
      ]
    },
    {
      "cell_type": "code",
      "metadata": {
        "id": "Nueca9HR3415"
      },
      "source": [
        "# 제출\r\n",
        "sub.to_csv('/content/drive/MyDrive/Colab Notebooks/DACON 1등이 목표/result/sub_0310_1.csv', index = False)"
      ],
      "execution_count": 30,
      "outputs": []
    },
    {
      "cell_type": "markdown",
      "metadata": {
        "id": "sMgYz0An3j18"
      },
      "source": [
        "# 회귀2\r\n",
        "> 나중에 시그모이드 함수를 통과하도록\r\n",
        "* 음수는 없고 양수만 존재하게"
      ]
    },
    {
      "cell_type": "code",
      "metadata": {
        "colab": {
          "base_uri": "https://localhost:8080/"
        },
        "id": "2a7D1pfK5udi",
        "outputId": "1a6251bb-0c43-4813-c582-b178fbf634c8"
      },
      "source": [
        "# 파이토치 라이브러리 임포트\r\n",
        "import pandas as pd\r\n",
        "import numpy as np\r\n",
        "import warnings\r\n",
        "warnings.filterwarnings(action='ignore')\r\n",
        "import torch\r\n",
        "import torch.nn as nn\r\n",
        "import torch.nn.functional as F\r\n",
        "\r\n",
        "import torchvision\r\n",
        "import torchvision.transforms as transforms\r\n",
        "from torch.utils.data import Dataset,DataLoader, TensorDataset\r\n",
        "from torch.autograd import Variable  # 자동미분기능 제공\r\n",
        "import torch.optim as optim\r\n",
        "import matplotlib.pyplot as plt\r\n",
        "\r\n",
        "from tqdm import tqdm  # 진행표시바\r\n",
        "\r\n",
        "# np.random.seed(777)\r\n",
        "# torch.manual_seed(777)\r\n",
        "\r\n",
        "device = torch.device(\"cuda:0\" if torch.cuda.is_available() else \"cpu\")  # GPU, CPU 선택\r\n",
        "print('CPU? GPU? : ', device)"
      ],
      "execution_count": null,
      "outputs": [
        {
          "output_type": "stream",
          "text": [
            "CPU? GPU? :  cuda:0\n"
          ],
          "name": "stdout"
        }
      ]
    },
    {
      "cell_type": "code",
      "metadata": {
        "colab": {
          "base_uri": "https://localhost:8080/"
        },
        "id": "P6gPstjY5uds",
        "outputId": "3cf1b5c6-d9f4-436b-a32c-52ebf2d81307"
      },
      "source": [
        "# 구글드라이브 연결\r\n",
        "from google.colab import drive\r\n",
        "drive.mount('/content/drive')"
      ],
      "execution_count": null,
      "outputs": [
        {
          "output_type": "stream",
          "text": [
            "Drive already mounted at /content/drive; to attempt to forcibly remount, call drive.mount(\"/content/drive\", force_remount=True).\n"
          ],
          "name": "stdout"
        }
      ]
    },
    {
      "cell_type": "code",
      "metadata": {
        "colab": {
          "base_uri": "https://localhost:8080/",
          "height": 204
        },
        "id": "sG8686DQ5udt",
        "outputId": "5ad6edcd-1fe7-4acb-e5a0-064090d815cb"
      },
      "source": [
        "fn = pd.read_csv('/content/drive/MyDrive/Colab Notebooks/DACON 1등이 목표/data/train.csv')\r\n",
        "fn.tail()"
      ],
      "execution_count": null,
      "outputs": [
        {
          "output_type": "execute_result",
          "data": {
            "text/html": [
              "<div>\n",
              "<style scoped>\n",
              "    .dataframe tbody tr th:only-of-type {\n",
              "        vertical-align: middle;\n",
              "    }\n",
              "\n",
              "    .dataframe tbody tr th {\n",
              "        vertical-align: top;\n",
              "    }\n",
              "\n",
              "    .dataframe thead th {\n",
              "        text-align: right;\n",
              "    }\n",
              "</style>\n",
              "<table border=\"1\" class=\"dataframe\">\n",
              "  <thead>\n",
              "    <tr style=\"text-align: right;\">\n",
              "      <th></th>\n",
              "      <th>month</th>\n",
              "      <th>file_nm</th>\n",
              "    </tr>\n",
              "  </thead>\n",
              "  <tbody>\n",
              "    <tr>\n",
              "      <th>477</th>\n",
              "      <td>2018-08</td>\n",
              "      <td>201808.npy</td>\n",
              "    </tr>\n",
              "    <tr>\n",
              "      <th>478</th>\n",
              "      <td>2018-09</td>\n",
              "      <td>201809.npy</td>\n",
              "    </tr>\n",
              "    <tr>\n",
              "      <th>479</th>\n",
              "      <td>2018-10</td>\n",
              "      <td>201810.npy</td>\n",
              "    </tr>\n",
              "    <tr>\n",
              "      <th>480</th>\n",
              "      <td>2018-11</td>\n",
              "      <td>201811.npy</td>\n",
              "    </tr>\n",
              "    <tr>\n",
              "      <th>481</th>\n",
              "      <td>2018-12</td>\n",
              "      <td>201812.npy</td>\n",
              "    </tr>\n",
              "  </tbody>\n",
              "</table>\n",
              "</div>"
            ],
            "text/plain": [
              "       month     file_nm\n",
              "477  2018-08  201808.npy\n",
              "478  2018-09  201809.npy\n",
              "479  2018-10  201810.npy\n",
              "480  2018-11  201811.npy\n",
              "481  2018-12  201812.npy"
            ]
          },
          "metadata": {
            "tags": []
          },
          "execution_count": 3
        }
      ]
    },
    {
      "cell_type": "code",
      "metadata": {
        "colab": {
          "base_uri": "https://localhost:8080/"
        },
        "id": "9J4dyuoo5udt",
        "outputId": "e7b6c3bb-a169-4ae5-df8a-40b8d5facef1"
      },
      "source": [
        "# 이거는 데이터명만\r\n",
        "# 첫 번째 파일은 제하고\r\n",
        "dm = fn.iloc[423:,1]\r\n",
        "dm.shape"
      ],
      "execution_count": null,
      "outputs": [
        {
          "output_type": "execute_result",
          "data": {
            "text/plain": [
              "(59,)"
            ]
          },
          "metadata": {
            "tags": []
          },
          "execution_count": 4
        }
      ]
    },
    {
      "cell_type": "code",
      "metadata": {
        "colab": {
          "base_uri": "https://localhost:8080/"
        },
        "id": "rARDcX9k5udt",
        "outputId": "0fa8e036-57cb-403c-cf18-6974262a0575"
      },
      "source": [
        "# 데이터 생성\r\n",
        "data = np.load('/content/drive/MyDrive/Colab Notebooks/DACON 1등이 목표/data/train/201401.npy')\r\n",
        "data = data.reshape(1,448,304,5)\r\n",
        "\r\n",
        "for i in tqdm(dm):\r\n",
        "    a = np.load('/content/drive/MyDrive/Colab Notebooks/DACON 1등이 목표/data/train/'+i)\r\n",
        "    a = a.reshape(1,448,304,5)\r\n",
        "\r\n",
        "    data = np.concatenate((data,a), axis=0)\r\n",
        "data = np.array(data)\r\n",
        "data = data[:,:,:,0]\r\n",
        "\r\n",
        "data.shape"
      ],
      "execution_count": null,
      "outputs": [
        {
          "output_type": "stream",
          "text": [
            "100%|██████████| 59/59 [00:01<00:00, 51.95it/s]\n"
          ],
          "name": "stderr"
        },
        {
          "output_type": "execute_result",
          "data": {
            "text/plain": [
              "(60, 448, 304)"
            ]
          },
          "metadata": {
            "tags": []
          },
          "execution_count": 5
        }
      ]
    },
    {
      "cell_type": "code",
      "metadata": {
        "colab": {
          "base_uri": "https://localhost:8080/"
        },
        "id": "53ckrVOa5udu",
        "outputId": "405b092c-223a-4464-fff7-1efa9566154a"
      },
      "source": [
        "# 데이터 셋 만들기\r\n",
        "\r\n",
        "# 데이터 셋 형태 변환\r\n",
        "data = data.reshape(60,1, 448,304)\r\n",
        "\r\n",
        "# 월별로 데이터 셋 생성\r\n",
        "for i in tqdm(range(12)):\r\n",
        "  globals()['train{}'.format(i)] = np.array(np.concatenate((data[0+i], data[12+i], data[24+i], data[36+i], data[48+i]), axis=0))\r\n",
        "\r\n",
        "  print(\"\\n\",globals()['train{}'.format(i)].shape)  # globals()는 그 변수를 의미 - 없으면 그냥 문자열"
      ],
      "execution_count": null,
      "outputs": [
        {
          "output_type": "stream",
          "text": [
            "100%|██████████| 12/12 [00:00<00:00, 454.47it/s]"
          ],
          "name": "stderr"
        },
        {
          "output_type": "stream",
          "text": [
            "\n",
            " (5, 448, 304)\n",
            "\n",
            " (5, 448, 304)\n",
            "\n",
            " (5, 448, 304)\n",
            "\n",
            " (5, 448, 304)\n",
            "\n",
            " (5, 448, 304)\n",
            "\n",
            " (5, 448, 304)\n",
            "\n",
            " (5, 448, 304)\n",
            "\n",
            " (5, 448, 304)\n",
            "\n",
            " (5, 448, 304)\n",
            "\n",
            " (5, 448, 304)\n",
            "\n",
            " (5, 448, 304)\n",
            "\n",
            " (5, 448, 304)\n"
          ],
          "name": "stdout"
        },
        {
          "output_type": "stream",
          "text": [
            "\n"
          ],
          "name": "stderr"
        }
      ]
    },
    {
      "cell_type": "code",
      "metadata": {
        "id": "h5GFaiPo5udu"
      },
      "source": [
        "# 데이터 회귀 사용\r\n",
        "# 함수 사용\r\n",
        "\r\n",
        "for i in range(12):\r\n",
        "  vec = globals()['train{}'.format(i)]\r\n",
        "  a = vec.reshape(5,136192)\r\n",
        "  lda = pd.DataFrame(a.T)\r\n",
        "  \r\n",
        "  # 훈련, 테스트 데이터 생성\r\n",
        "  x_tr = lda[[0,1,2]]\r\n",
        "  y_tr = lda[[3]]\r\n",
        "  x_test = lda[[1,2,3]]\r\n",
        "\r\n",
        "  # 모델\r\n",
        "  from sklearn.linear_model import LinearRegression\r\n",
        "\r\n",
        "  mod = LinearRegression()\r\n",
        "  mod.fit(x_tr, y_tr) \r\n",
        "\r\n",
        "  p1 = mod.predict(x_test)\r\n",
        "  pred = p1.T.reshape(1,448,304)  #예측\r\n",
        "\r\n",
        "  globals()['pred_{}'.format(i)] = pred\r\n"
      ],
      "execution_count": null,
      "outputs": []
    },
    {
      "cell_type": "code",
      "metadata": {
        "colab": {
          "base_uri": "https://localhost:8080/"
        },
        "id": "GSvIMJRd5udu",
        "outputId": "eec00aaf-2eaa-4473-a513-e8d91d1f60e7"
      },
      "source": [
        "for i in range(12):\r\n",
        "  print(globals()['pred_{}'.format(i)].shape)"
      ],
      "execution_count": null,
      "outputs": [
        {
          "output_type": "stream",
          "text": [
            "(1, 448, 304)\n",
            "(1, 448, 304)\n",
            "(1, 448, 304)\n",
            "(1, 448, 304)\n",
            "(1, 448, 304)\n",
            "(1, 448, 304)\n",
            "(1, 448, 304)\n",
            "(1, 448, 304)\n",
            "(1, 448, 304)\n",
            "(1, 448, 304)\n",
            "(1, 448, 304)\n",
            "(1, 448, 304)\n"
          ],
          "name": "stdout"
        }
      ]
    },
    {
      "cell_type": "code",
      "metadata": {
        "colab": {
          "base_uri": "https://localhost:8080/",
          "height": 281
        },
        "id": "XklBc8Z05udv",
        "outputId": "e3f31b23-f35b-4178-9cc4-67d5dc3aa2a9"
      },
      "source": [
        "# 그래프 그려보기\r\n",
        "import matplotlib.pyplot\r\n",
        "matplotlib.pyplot.imshow(pred_7[0], interpolation = 'None')\r\n",
        "matplotlib.pyplot.title('웅 예측')\r\n",
        "matplotlib.pyplot.show()"
      ],
      "execution_count": null,
      "outputs": [
        {
          "output_type": "display_data",
          "data": {
            "image/png": "[encoded data removed]",
            "text/plain": [
              "<Figure size 432x288 with 1 Axes>"
            ]
          },
          "metadata": {
            "tags": [],
            "needs_background": "light"
          }
        }
      ]
    },
    {
      "cell_type": "code",
      "metadata": {
        "colab": {
          "base_uri": "https://localhost:8080/"
        },
        "id": "b8SnTJfD5udv",
        "outputId": "7d4e6761-92b6-44ab-f0fe-70314f1d3acc"
      },
      "source": [
        "# 제출 형태로 변환\r\n",
        "\r\n",
        "# 데이터 생성\r\n",
        "sh1 = pd.DataFrame(pred_0.reshape(1,-1))\r\n",
        "\r\n",
        "for i in range(11):\r\n",
        "  globals()['pred_{}'.format(i+1)] = globals()['pred_{}'.format(i+1)].reshape(1,-1)\r\n",
        "\r\n",
        "  sh = globals()['pred_{}'.format(i+1)]\r\n",
        "  sh = pd.DataFrame(sh)\r\n",
        "\r\n",
        "  sh1 = pd.concat((sh1, sh), axis=0)\r\n",
        "  print(sh1.shape)"
      ],
      "execution_count": null,
      "outputs": [
        {
          "output_type": "stream",
          "text": [
            "(2, 136192)\n",
            "(3, 136192)\n",
            "(4, 136192)\n",
            "(5, 136192)\n",
            "(6, 136192)\n",
            "(7, 136192)\n",
            "(8, 136192)\n",
            "(9, 136192)\n",
            "(10, 136192)\n",
            "(11, 136192)\n",
            "(12, 136192)\n"
          ],
          "name": "stdout"
        }
      ]
    },
    {
      "cell_type": "code",
      "metadata": {
        "colab": {
          "base_uri": "https://localhost:8080/",
          "height": 338
        },
        "id": "X7bkS4Wf5udv",
        "outputId": "f6291d1f-3f7b-4610-95fe-62890bac896d"
      },
      "source": [
        "# sh1의 인덱스 수정\r\n",
        "\r\n",
        "# 12개월, 24개월 투투\r\n",
        "result = pd.concat([sh1,sh1], axis=0)\r\n",
        "result = result.reset_index(drop=True)\r\n",
        "\r\n",
        "# 파일 제출\r\n",
        "submission = pd.read_csv(\"/content/drive/MyDrive/Colab Notebooks/DACON 1등이 목표/data/sample_submission.csv\")\r\n",
        "sub = pd.concat([submission.loc[:,'month'],result], axis=1)\r\n",
        "sub.columns = submission.columns.values  # 제출파일에서 컬럼명을 \r\n",
        "sub.tail()"
      ],
      "execution_count": null,
      "outputs": [
        {
          "output_type": "execute_result",
          "data": {
            "text/html": [
              "<div>\n",
              "<style scoped>\n",
              "    .dataframe tbody tr th:only-of-type {\n",
              "        vertical-align: middle;\n",
              "    }\n",
              "\n",
              "    .dataframe tbody tr th {\n",
              "        vertical-align: top;\n",
              "    }\n",
              "\n",
              "    .dataframe thead th {\n",
              "        text-align: right;\n",
              "    }\n",
              "</style>\n",
              "<table border=\"1\" class=\"dataframe\">\n",
              "  <thead>\n",
              "    <tr style=\"text-align: right;\">\n",
              "      <th></th>\n",
              "      <th>month</th>\n",
              "      <th>0</th>\n",
              "      <th>1</th>\n",
              "      <th>2</th>\n",
              "      <th>3</th>\n",
              "      <th>4</th>\n",
              "      <th>5</th>\n",
              "      <th>6</th>\n",
              "      <th>7</th>\n",
              "      <th>8</th>\n",
              "      <th>9</th>\n",
              "      <th>10</th>\n",
              "      <th>11</th>\n",
              "      <th>12</th>\n",
              "      <th>13</th>\n",
              "      <th>14</th>\n",
              "      <th>15</th>\n",
              "      <th>16</th>\n",
              "      <th>17</th>\n",
              "      <th>18</th>\n",
              "      <th>19</th>\n",
              "      <th>20</th>\n",
              "      <th>21</th>\n",
              "      <th>22</th>\n",
              "      <th>23</th>\n",
              "      <th>24</th>\n",
              "      <th>25</th>\n",
              "      <th>26</th>\n",
              "      <th>27</th>\n",
              "      <th>28</th>\n",
              "      <th>29</th>\n",
              "      <th>30</th>\n",
              "      <th>31</th>\n",
              "      <th>32</th>\n",
              "      <th>33</th>\n",
              "      <th>34</th>\n",
              "      <th>35</th>\n",
              "      <th>36</th>\n",
              "      <th>37</th>\n",
              "      <th>38</th>\n",
              "      <th>...</th>\n",
              "      <th>136152</th>\n",
              "      <th>136153</th>\n",
              "      <th>136154</th>\n",
              "      <th>136155</th>\n",
              "      <th>136156</th>\n",
              "      <th>136157</th>\n",
              "      <th>136158</th>\n",
              "      <th>136159</th>\n",
              "      <th>136160</th>\n",
              "      <th>136161</th>\n",
              "      <th>136162</th>\n",
              "      <th>136163</th>\n",
              "      <th>136164</th>\n",
              "      <th>136165</th>\n",
              "      <th>136166</th>\n",
              "      <th>136167</th>\n",
              "      <th>136168</th>\n",
              "      <th>136169</th>\n",
              "      <th>136170</th>\n",
              "      <th>136171</th>\n",
              "      <th>136172</th>\n",
              "      <th>136173</th>\n",
              "      <th>136174</th>\n",
              "      <th>136175</th>\n",
              "      <th>136176</th>\n",
              "      <th>136177</th>\n",
              "      <th>136178</th>\n",
              "      <th>136179</th>\n",
              "      <th>136180</th>\n",
              "      <th>136181</th>\n",
              "      <th>136182</th>\n",
              "      <th>136183</th>\n",
              "      <th>136184</th>\n",
              "      <th>136185</th>\n",
              "      <th>136186</th>\n",
              "      <th>136187</th>\n",
              "      <th>136188</th>\n",
              "      <th>136189</th>\n",
              "      <th>136190</th>\n",
              "      <th>136191</th>\n",
              "    </tr>\n",
              "  </thead>\n",
              "  <tbody>\n",
              "    <tr>\n",
              "      <th>19</th>\n",
              "      <td>2020-08</td>\n",
              "      <td>-0.044094</td>\n",
              "      <td>-0.044094</td>\n",
              "      <td>-0.044094</td>\n",
              "      <td>-0.044094</td>\n",
              "      <td>-0.044094</td>\n",
              "      <td>-0.044094</td>\n",
              "      <td>-0.044094</td>\n",
              "      <td>-0.044094</td>\n",
              "      <td>-0.044094</td>\n",
              "      <td>-0.044094</td>\n",
              "      <td>-0.044094</td>\n",
              "      <td>-0.044094</td>\n",
              "      <td>-0.044094</td>\n",
              "      <td>-0.044094</td>\n",
              "      <td>-0.044094</td>\n",
              "      <td>-0.044094</td>\n",
              "      <td>-0.044094</td>\n",
              "      <td>-0.044094</td>\n",
              "      <td>-0.044094</td>\n",
              "      <td>-0.044094</td>\n",
              "      <td>-0.044094</td>\n",
              "      <td>-0.044094</td>\n",
              "      <td>-0.044094</td>\n",
              "      <td>-0.044094</td>\n",
              "      <td>-0.044094</td>\n",
              "      <td>-0.044094</td>\n",
              "      <td>-0.044094</td>\n",
              "      <td>-0.044094</td>\n",
              "      <td>-0.044094</td>\n",
              "      <td>-0.044094</td>\n",
              "      <td>-0.044094</td>\n",
              "      <td>-0.044094</td>\n",
              "      <td>-0.044094</td>\n",
              "      <td>-0.044094</td>\n",
              "      <td>-0.044094</td>\n",
              "      <td>-0.044094</td>\n",
              "      <td>-0.044094</td>\n",
              "      <td>-0.044094</td>\n",
              "      <td>-0.044094</td>\n",
              "      <td>...</td>\n",
              "      <td>-0.044094</td>\n",
              "      <td>-0.044094</td>\n",
              "      <td>-0.044094</td>\n",
              "      <td>-0.044094</td>\n",
              "      <td>-0.044094</td>\n",
              "      <td>-0.044094</td>\n",
              "      <td>-0.044094</td>\n",
              "      <td>-0.044094</td>\n",
              "      <td>-0.044094</td>\n",
              "      <td>-0.044094</td>\n",
              "      <td>-0.044094</td>\n",
              "      <td>-0.044094</td>\n",
              "      <td>-0.044094</td>\n",
              "      <td>-0.044094</td>\n",
              "      <td>-0.044094</td>\n",
              "      <td>-0.044094</td>\n",
              "      <td>-0.044094</td>\n",
              "      <td>-0.044094</td>\n",
              "      <td>-0.044094</td>\n",
              "      <td>-0.044094</td>\n",
              "      <td>-0.044094</td>\n",
              "      <td>-0.044094</td>\n",
              "      <td>-0.044094</td>\n",
              "      <td>-0.044094</td>\n",
              "      <td>-0.044094</td>\n",
              "      <td>-0.044094</td>\n",
              "      <td>-0.044094</td>\n",
              "      <td>-0.044094</td>\n",
              "      <td>-0.044094</td>\n",
              "      <td>-0.044094</td>\n",
              "      <td>-0.044094</td>\n",
              "      <td>-0.044094</td>\n",
              "      <td>-0.044094</td>\n",
              "      <td>-0.044094</td>\n",
              "      <td>-0.044094</td>\n",
              "      <td>-0.044094</td>\n",
              "      <td>-0.044094</td>\n",
              "      <td>-0.044094</td>\n",
              "      <td>-0.044094</td>\n",
              "      <td>-0.044094</td>\n",
              "    </tr>\n",
              "    <tr>\n",
              "      <th>20</th>\n",
              "      <td>2020-09</td>\n",
              "      <td>0.251689</td>\n",
              "      <td>0.251689</td>\n",
              "      <td>0.251689</td>\n",
              "      <td>0.251689</td>\n",
              "      <td>0.251689</td>\n",
              "      <td>0.251689</td>\n",
              "      <td>0.251689</td>\n",
              "      <td>0.251689</td>\n",
              "      <td>0.251689</td>\n",
              "      <td>0.251689</td>\n",
              "      <td>0.251689</td>\n",
              "      <td>0.251689</td>\n",
              "      <td>0.251689</td>\n",
              "      <td>0.251689</td>\n",
              "      <td>0.251689</td>\n",
              "      <td>0.251689</td>\n",
              "      <td>0.251689</td>\n",
              "      <td>0.251689</td>\n",
              "      <td>0.251689</td>\n",
              "      <td>0.251689</td>\n",
              "      <td>0.251689</td>\n",
              "      <td>0.251689</td>\n",
              "      <td>0.251689</td>\n",
              "      <td>0.251689</td>\n",
              "      <td>0.251689</td>\n",
              "      <td>0.251689</td>\n",
              "      <td>0.251689</td>\n",
              "      <td>0.251689</td>\n",
              "      <td>0.251689</td>\n",
              "      <td>0.251689</td>\n",
              "      <td>0.251689</td>\n",
              "      <td>0.251689</td>\n",
              "      <td>0.251689</td>\n",
              "      <td>0.251689</td>\n",
              "      <td>0.251689</td>\n",
              "      <td>0.251689</td>\n",
              "      <td>0.251689</td>\n",
              "      <td>0.251689</td>\n",
              "      <td>0.251689</td>\n",
              "      <td>...</td>\n",
              "      <td>0.251689</td>\n",
              "      <td>0.251689</td>\n",
              "      <td>0.251689</td>\n",
              "      <td>0.251689</td>\n",
              "      <td>0.251689</td>\n",
              "      <td>0.251689</td>\n",
              "      <td>0.251689</td>\n",
              "      <td>0.251689</td>\n",
              "      <td>0.251689</td>\n",
              "      <td>0.251689</td>\n",
              "      <td>0.251689</td>\n",
              "      <td>0.251689</td>\n",
              "      <td>0.251689</td>\n",
              "      <td>0.251689</td>\n",
              "      <td>0.251689</td>\n",
              "      <td>0.251689</td>\n",
              "      <td>0.251689</td>\n",
              "      <td>0.251689</td>\n",
              "      <td>0.251689</td>\n",
              "      <td>0.251689</td>\n",
              "      <td>0.251689</td>\n",
              "      <td>0.251689</td>\n",
              "      <td>0.251689</td>\n",
              "      <td>0.251689</td>\n",
              "      <td>0.251689</td>\n",
              "      <td>0.251689</td>\n",
              "      <td>0.251689</td>\n",
              "      <td>0.251689</td>\n",
              "      <td>0.251689</td>\n",
              "      <td>0.251689</td>\n",
              "      <td>0.251689</td>\n",
              "      <td>0.251689</td>\n",
              "      <td>0.251689</td>\n",
              "      <td>0.251689</td>\n",
              "      <td>0.251689</td>\n",
              "      <td>0.251689</td>\n",
              "      <td>0.251689</td>\n",
              "      <td>0.251689</td>\n",
              "      <td>0.251689</td>\n",
              "      <td>0.251689</td>\n",
              "    </tr>\n",
              "    <tr>\n",
              "      <th>21</th>\n",
              "      <td>2020-10</td>\n",
              "      <td>0.393156</td>\n",
              "      <td>0.393156</td>\n",
              "      <td>0.393156</td>\n",
              "      <td>0.393156</td>\n",
              "      <td>0.393156</td>\n",
              "      <td>0.393156</td>\n",
              "      <td>0.393156</td>\n",
              "      <td>0.393156</td>\n",
              "      <td>0.393156</td>\n",
              "      <td>0.393156</td>\n",
              "      <td>0.393156</td>\n",
              "      <td>0.393156</td>\n",
              "      <td>0.393156</td>\n",
              "      <td>0.393156</td>\n",
              "      <td>0.393156</td>\n",
              "      <td>0.393156</td>\n",
              "      <td>0.393156</td>\n",
              "      <td>0.393156</td>\n",
              "      <td>0.393156</td>\n",
              "      <td>0.393156</td>\n",
              "      <td>0.393156</td>\n",
              "      <td>0.393156</td>\n",
              "      <td>0.393156</td>\n",
              "      <td>0.393156</td>\n",
              "      <td>0.393156</td>\n",
              "      <td>0.393156</td>\n",
              "      <td>0.393156</td>\n",
              "      <td>0.393156</td>\n",
              "      <td>0.393156</td>\n",
              "      <td>0.393156</td>\n",
              "      <td>0.393156</td>\n",
              "      <td>0.393156</td>\n",
              "      <td>0.393156</td>\n",
              "      <td>0.393156</td>\n",
              "      <td>0.393156</td>\n",
              "      <td>0.393156</td>\n",
              "      <td>0.393156</td>\n",
              "      <td>0.393156</td>\n",
              "      <td>0.393156</td>\n",
              "      <td>...</td>\n",
              "      <td>0.393156</td>\n",
              "      <td>0.393156</td>\n",
              "      <td>0.393156</td>\n",
              "      <td>0.393156</td>\n",
              "      <td>0.393156</td>\n",
              "      <td>0.393156</td>\n",
              "      <td>0.393156</td>\n",
              "      <td>0.393156</td>\n",
              "      <td>0.393156</td>\n",
              "      <td>0.393156</td>\n",
              "      <td>0.393156</td>\n",
              "      <td>0.393156</td>\n",
              "      <td>0.393156</td>\n",
              "      <td>0.393156</td>\n",
              "      <td>0.393156</td>\n",
              "      <td>0.393156</td>\n",
              "      <td>0.393156</td>\n",
              "      <td>0.393156</td>\n",
              "      <td>0.393156</td>\n",
              "      <td>0.393156</td>\n",
              "      <td>0.393156</td>\n",
              "      <td>0.393156</td>\n",
              "      <td>0.393156</td>\n",
              "      <td>0.393156</td>\n",
              "      <td>0.393156</td>\n",
              "      <td>0.393156</td>\n",
              "      <td>0.393156</td>\n",
              "      <td>0.393156</td>\n",
              "      <td>0.393156</td>\n",
              "      <td>0.393156</td>\n",
              "      <td>0.393156</td>\n",
              "      <td>0.393156</td>\n",
              "      <td>0.393156</td>\n",
              "      <td>0.393156</td>\n",
              "      <td>0.393156</td>\n",
              "      <td>0.393156</td>\n",
              "      <td>0.393156</td>\n",
              "      <td>0.393156</td>\n",
              "      <td>0.393156</td>\n",
              "      <td>0.393156</td>\n",
              "    </tr>\n",
              "    <tr>\n",
              "      <th>22</th>\n",
              "      <td>2020-11</td>\n",
              "      <td>-0.058551</td>\n",
              "      <td>-0.058551</td>\n",
              "      <td>-0.058551</td>\n",
              "      <td>-0.058551</td>\n",
              "      <td>-0.058551</td>\n",
              "      <td>-0.058551</td>\n",
              "      <td>-0.058551</td>\n",
              "      <td>-0.058551</td>\n",
              "      <td>-0.058551</td>\n",
              "      <td>-0.058551</td>\n",
              "      <td>-0.058551</td>\n",
              "      <td>-0.058551</td>\n",
              "      <td>-0.058551</td>\n",
              "      <td>-0.058551</td>\n",
              "      <td>-0.058551</td>\n",
              "      <td>-0.058551</td>\n",
              "      <td>-0.058551</td>\n",
              "      <td>-0.058551</td>\n",
              "      <td>-0.058551</td>\n",
              "      <td>-0.058551</td>\n",
              "      <td>-0.058551</td>\n",
              "      <td>-0.058551</td>\n",
              "      <td>-0.058551</td>\n",
              "      <td>-0.058551</td>\n",
              "      <td>-0.058551</td>\n",
              "      <td>-0.058551</td>\n",
              "      <td>-0.058551</td>\n",
              "      <td>-0.058551</td>\n",
              "      <td>-0.058551</td>\n",
              "      <td>-0.058551</td>\n",
              "      <td>-0.058551</td>\n",
              "      <td>-0.058551</td>\n",
              "      <td>-0.058551</td>\n",
              "      <td>-0.058551</td>\n",
              "      <td>-0.058551</td>\n",
              "      <td>-0.058551</td>\n",
              "      <td>-0.058551</td>\n",
              "      <td>-0.058551</td>\n",
              "      <td>-0.058551</td>\n",
              "      <td>...</td>\n",
              "      <td>-0.058551</td>\n",
              "      <td>-0.058551</td>\n",
              "      <td>-0.058551</td>\n",
              "      <td>-0.058551</td>\n",
              "      <td>-0.058551</td>\n",
              "      <td>-0.058551</td>\n",
              "      <td>-0.058551</td>\n",
              "      <td>-0.058551</td>\n",
              "      <td>-0.058551</td>\n",
              "      <td>-0.058551</td>\n",
              "      <td>-0.058551</td>\n",
              "      <td>-0.058551</td>\n",
              "      <td>-0.058551</td>\n",
              "      <td>-0.058551</td>\n",
              "      <td>-0.058551</td>\n",
              "      <td>-0.058551</td>\n",
              "      <td>-0.058551</td>\n",
              "      <td>-0.058551</td>\n",
              "      <td>-0.058551</td>\n",
              "      <td>-0.058551</td>\n",
              "      <td>-0.058551</td>\n",
              "      <td>-0.058551</td>\n",
              "      <td>-0.058551</td>\n",
              "      <td>-0.058551</td>\n",
              "      <td>-0.058551</td>\n",
              "      <td>-0.058551</td>\n",
              "      <td>-0.058551</td>\n",
              "      <td>-0.058551</td>\n",
              "      <td>-0.058551</td>\n",
              "      <td>-0.058551</td>\n",
              "      <td>-0.058551</td>\n",
              "      <td>-0.058551</td>\n",
              "      <td>-0.058551</td>\n",
              "      <td>-0.058551</td>\n",
              "      <td>-0.058551</td>\n",
              "      <td>-0.058551</td>\n",
              "      <td>-0.058551</td>\n",
              "      <td>-0.058551</td>\n",
              "      <td>-0.058551</td>\n",
              "      <td>-0.058551</td>\n",
              "    </tr>\n",
              "    <tr>\n",
              "      <th>23</th>\n",
              "      <td>2020-12</td>\n",
              "      <td>-0.341045</td>\n",
              "      <td>-0.341045</td>\n",
              "      <td>-0.341045</td>\n",
              "      <td>-0.341045</td>\n",
              "      <td>-0.341045</td>\n",
              "      <td>-0.341045</td>\n",
              "      <td>-0.341045</td>\n",
              "      <td>-0.341045</td>\n",
              "      <td>-0.341045</td>\n",
              "      <td>-0.341045</td>\n",
              "      <td>-0.341045</td>\n",
              "      <td>-0.341045</td>\n",
              "      <td>-0.341045</td>\n",
              "      <td>-0.341045</td>\n",
              "      <td>-0.341045</td>\n",
              "      <td>-0.341045</td>\n",
              "      <td>-0.341045</td>\n",
              "      <td>-0.341045</td>\n",
              "      <td>-0.341045</td>\n",
              "      <td>-0.341045</td>\n",
              "      <td>-0.341045</td>\n",
              "      <td>-0.341045</td>\n",
              "      <td>-0.341045</td>\n",
              "      <td>-0.341045</td>\n",
              "      <td>-0.341045</td>\n",
              "      <td>-0.341045</td>\n",
              "      <td>-0.341045</td>\n",
              "      <td>-0.341045</td>\n",
              "      <td>-0.341045</td>\n",
              "      <td>-0.341045</td>\n",
              "      <td>-0.341045</td>\n",
              "      <td>-0.341045</td>\n",
              "      <td>-0.341045</td>\n",
              "      <td>-0.341045</td>\n",
              "      <td>-0.341045</td>\n",
              "      <td>-0.341045</td>\n",
              "      <td>-0.341045</td>\n",
              "      <td>-0.341045</td>\n",
              "      <td>-0.341045</td>\n",
              "      <td>...</td>\n",
              "      <td>-0.341045</td>\n",
              "      <td>-0.341045</td>\n",
              "      <td>-0.341045</td>\n",
              "      <td>-0.341045</td>\n",
              "      <td>-0.341045</td>\n",
              "      <td>-0.341045</td>\n",
              "      <td>-0.341045</td>\n",
              "      <td>-0.341045</td>\n",
              "      <td>-0.341045</td>\n",
              "      <td>-0.341045</td>\n",
              "      <td>-0.341045</td>\n",
              "      <td>-0.341045</td>\n",
              "      <td>-0.341045</td>\n",
              "      <td>-0.341045</td>\n",
              "      <td>-0.341045</td>\n",
              "      <td>-0.341045</td>\n",
              "      <td>-0.341045</td>\n",
              "      <td>-0.341045</td>\n",
              "      <td>-0.341045</td>\n",
              "      <td>-0.341045</td>\n",
              "      <td>-0.341045</td>\n",
              "      <td>-0.341045</td>\n",
              "      <td>-0.341045</td>\n",
              "      <td>-0.341045</td>\n",
              "      <td>-0.341045</td>\n",
              "      <td>-0.341045</td>\n",
              "      <td>-0.341045</td>\n",
              "      <td>-0.341045</td>\n",
              "      <td>-0.341045</td>\n",
              "      <td>-0.341045</td>\n",
              "      <td>-0.341045</td>\n",
              "      <td>-0.341045</td>\n",
              "      <td>-0.341045</td>\n",
              "      <td>-0.341045</td>\n",
              "      <td>-0.341045</td>\n",
              "      <td>-0.341045</td>\n",
              "      <td>-0.341045</td>\n",
              "      <td>-0.341045</td>\n",
              "      <td>-0.341045</td>\n",
              "      <td>-0.341045</td>\n",
              "    </tr>\n",
              "  </tbody>\n",
              "</table>\n",
              "<p>5 rows × 136193 columns</p>\n",
              "</div>"
            ],
            "text/plain": [
              "      month         0         1  ...    136189    136190    136191\n",
              "19  2020-08 -0.044094 -0.044094  ... -0.044094 -0.044094 -0.044094\n",
              "20  2020-09  0.251689  0.251689  ...  0.251689  0.251689  0.251689\n",
              "21  2020-10  0.393156  0.393156  ...  0.393156  0.393156  0.393156\n",
              "22  2020-11 -0.058551 -0.058551  ... -0.058551 -0.058551 -0.058551\n",
              "23  2020-12 -0.341045 -0.341045  ... -0.341045 -0.341045 -0.341045\n",
              "\n",
              "[5 rows x 136193 columns]"
            ]
          },
          "metadata": {
            "tags": []
          },
          "execution_count": 17
        }
      ]
    },
    {
      "cell_type": "code",
      "metadata": {
        "id": "X5WzoJVq5udw"
      },
      "source": [
        "# 제출\r\n",
        "sub.to_csv('/content/drive/MyDrive/Colab Notebooks/DACON 1등이 목표/result/sub_0310.csv', index = False)"
      ],
      "execution_count": null,
      "outputs": []
    },
    {
      "cell_type": "markdown",
      "metadata": {
        "id": "96dg5bEe5udw"
      },
      "source": [
        "> 활성화 함수(ReLU)를 통과\r\n",
        "* https://3months.tistory.com/64"
      ]
    },
    {
      "cell_type": "code",
      "metadata": {
        "id": "M99b25gW5udw"
      },
      "source": [
        "# ReLU함수\r\n",
        "def relu(x) : \r\n",
        "    return np.maximum(0, x)"
      ],
      "execution_count": null,
      "outputs": []
    },
    {
      "cell_type": "code",
      "metadata": {
        "colab": {
          "base_uri": "https://localhost:8080/",
          "height": 253
        },
        "id": "bz4joGnF5udw",
        "outputId": "f107aac2-07cc-4712-fcef-e5f68fab3799"
      },
      "source": [
        "sub1 = relu(sub.iloc[:,1:])\r\n",
        "sub1.tail()"
      ],
      "execution_count": null,
      "outputs": [
        {
          "output_type": "execute_result",
          "data": {
            "text/html": [
              "<div>\n",
              "<style scoped>\n",
              "    .dataframe tbody tr th:only-of-type {\n",
              "        vertical-align: middle;\n",
              "    }\n",
              "\n",
              "    .dataframe tbody tr th {\n",
              "        vertical-align: top;\n",
              "    }\n",
              "\n",
              "    .dataframe thead th {\n",
              "        text-align: right;\n",
              "    }\n",
              "</style>\n",
              "<table border=\"1\" class=\"dataframe\">\n",
              "  <thead>\n",
              "    <tr style=\"text-align: right;\">\n",
              "      <th></th>\n",
              "      <th>0</th>\n",
              "      <th>1</th>\n",
              "      <th>2</th>\n",
              "      <th>3</th>\n",
              "      <th>4</th>\n",
              "      <th>5</th>\n",
              "      <th>6</th>\n",
              "      <th>7</th>\n",
              "      <th>8</th>\n",
              "      <th>9</th>\n",
              "      <th>10</th>\n",
              "      <th>11</th>\n",
              "      <th>12</th>\n",
              "      <th>13</th>\n",
              "      <th>14</th>\n",
              "      <th>15</th>\n",
              "      <th>16</th>\n",
              "      <th>17</th>\n",
              "      <th>18</th>\n",
              "      <th>19</th>\n",
              "      <th>20</th>\n",
              "      <th>21</th>\n",
              "      <th>22</th>\n",
              "      <th>23</th>\n",
              "      <th>24</th>\n",
              "      <th>25</th>\n",
              "      <th>26</th>\n",
              "      <th>27</th>\n",
              "      <th>28</th>\n",
              "      <th>29</th>\n",
              "      <th>30</th>\n",
              "      <th>31</th>\n",
              "      <th>32</th>\n",
              "      <th>33</th>\n",
              "      <th>34</th>\n",
              "      <th>35</th>\n",
              "      <th>36</th>\n",
              "      <th>37</th>\n",
              "      <th>38</th>\n",
              "      <th>39</th>\n",
              "      <th>...</th>\n",
              "      <th>136152</th>\n",
              "      <th>136153</th>\n",
              "      <th>136154</th>\n",
              "      <th>136155</th>\n",
              "      <th>136156</th>\n",
              "      <th>136157</th>\n",
              "      <th>136158</th>\n",
              "      <th>136159</th>\n",
              "      <th>136160</th>\n",
              "      <th>136161</th>\n",
              "      <th>136162</th>\n",
              "      <th>136163</th>\n",
              "      <th>136164</th>\n",
              "      <th>136165</th>\n",
              "      <th>136166</th>\n",
              "      <th>136167</th>\n",
              "      <th>136168</th>\n",
              "      <th>136169</th>\n",
              "      <th>136170</th>\n",
              "      <th>136171</th>\n",
              "      <th>136172</th>\n",
              "      <th>136173</th>\n",
              "      <th>136174</th>\n",
              "      <th>136175</th>\n",
              "      <th>136176</th>\n",
              "      <th>136177</th>\n",
              "      <th>136178</th>\n",
              "      <th>136179</th>\n",
              "      <th>136180</th>\n",
              "      <th>136181</th>\n",
              "      <th>136182</th>\n",
              "      <th>136183</th>\n",
              "      <th>136184</th>\n",
              "      <th>136185</th>\n",
              "      <th>136186</th>\n",
              "      <th>136187</th>\n",
              "      <th>136188</th>\n",
              "      <th>136189</th>\n",
              "      <th>136190</th>\n",
              "      <th>136191</th>\n",
              "    </tr>\n",
              "  </thead>\n",
              "  <tbody>\n",
              "    <tr>\n",
              "      <th>19</th>\n",
              "      <td>0.000000</td>\n",
              "      <td>0.000000</td>\n",
              "      <td>0.000000</td>\n",
              "      <td>0.000000</td>\n",
              "      <td>0.000000</td>\n",
              "      <td>0.000000</td>\n",
              "      <td>0.000000</td>\n",
              "      <td>0.000000</td>\n",
              "      <td>0.000000</td>\n",
              "      <td>0.000000</td>\n",
              "      <td>0.000000</td>\n",
              "      <td>0.000000</td>\n",
              "      <td>0.000000</td>\n",
              "      <td>0.000000</td>\n",
              "      <td>0.000000</td>\n",
              "      <td>0.000000</td>\n",
              "      <td>0.000000</td>\n",
              "      <td>0.000000</td>\n",
              "      <td>0.000000</td>\n",
              "      <td>0.000000</td>\n",
              "      <td>0.000000</td>\n",
              "      <td>0.000000</td>\n",
              "      <td>0.000000</td>\n",
              "      <td>0.000000</td>\n",
              "      <td>0.000000</td>\n",
              "      <td>0.000000</td>\n",
              "      <td>0.000000</td>\n",
              "      <td>0.000000</td>\n",
              "      <td>0.000000</td>\n",
              "      <td>0.000000</td>\n",
              "      <td>0.000000</td>\n",
              "      <td>0.000000</td>\n",
              "      <td>0.000000</td>\n",
              "      <td>0.000000</td>\n",
              "      <td>0.000000</td>\n",
              "      <td>0.000000</td>\n",
              "      <td>0.000000</td>\n",
              "      <td>0.000000</td>\n",
              "      <td>0.000000</td>\n",
              "      <td>0.000000</td>\n",
              "      <td>...</td>\n",
              "      <td>0.000000</td>\n",
              "      <td>0.000000</td>\n",
              "      <td>0.000000</td>\n",
              "      <td>0.000000</td>\n",
              "      <td>0.000000</td>\n",
              "      <td>0.000000</td>\n",
              "      <td>0.000000</td>\n",
              "      <td>0.000000</td>\n",
              "      <td>0.000000</td>\n",
              "      <td>0.000000</td>\n",
              "      <td>0.000000</td>\n",
              "      <td>0.000000</td>\n",
              "      <td>0.000000</td>\n",
              "      <td>0.000000</td>\n",
              "      <td>0.000000</td>\n",
              "      <td>0.000000</td>\n",
              "      <td>0.000000</td>\n",
              "      <td>0.000000</td>\n",
              "      <td>0.000000</td>\n",
              "      <td>0.000000</td>\n",
              "      <td>0.000000</td>\n",
              "      <td>0.000000</td>\n",
              "      <td>0.000000</td>\n",
              "      <td>0.000000</td>\n",
              "      <td>0.000000</td>\n",
              "      <td>0.000000</td>\n",
              "      <td>0.000000</td>\n",
              "      <td>0.000000</td>\n",
              "      <td>0.000000</td>\n",
              "      <td>0.000000</td>\n",
              "      <td>0.000000</td>\n",
              "      <td>0.000000</td>\n",
              "      <td>0.000000</td>\n",
              "      <td>0.000000</td>\n",
              "      <td>0.000000</td>\n",
              "      <td>0.000000</td>\n",
              "      <td>0.000000</td>\n",
              "      <td>0.000000</td>\n",
              "      <td>0.000000</td>\n",
              "      <td>0.000000</td>\n",
              "    </tr>\n",
              "    <tr>\n",
              "      <th>20</th>\n",
              "      <td>0.251689</td>\n",
              "      <td>0.251689</td>\n",
              "      <td>0.251689</td>\n",
              "      <td>0.251689</td>\n",
              "      <td>0.251689</td>\n",
              "      <td>0.251689</td>\n",
              "      <td>0.251689</td>\n",
              "      <td>0.251689</td>\n",
              "      <td>0.251689</td>\n",
              "      <td>0.251689</td>\n",
              "      <td>0.251689</td>\n",
              "      <td>0.251689</td>\n",
              "      <td>0.251689</td>\n",
              "      <td>0.251689</td>\n",
              "      <td>0.251689</td>\n",
              "      <td>0.251689</td>\n",
              "      <td>0.251689</td>\n",
              "      <td>0.251689</td>\n",
              "      <td>0.251689</td>\n",
              "      <td>0.251689</td>\n",
              "      <td>0.251689</td>\n",
              "      <td>0.251689</td>\n",
              "      <td>0.251689</td>\n",
              "      <td>0.251689</td>\n",
              "      <td>0.251689</td>\n",
              "      <td>0.251689</td>\n",
              "      <td>0.251689</td>\n",
              "      <td>0.251689</td>\n",
              "      <td>0.251689</td>\n",
              "      <td>0.251689</td>\n",
              "      <td>0.251689</td>\n",
              "      <td>0.251689</td>\n",
              "      <td>0.251689</td>\n",
              "      <td>0.251689</td>\n",
              "      <td>0.251689</td>\n",
              "      <td>0.251689</td>\n",
              "      <td>0.251689</td>\n",
              "      <td>0.251689</td>\n",
              "      <td>0.251689</td>\n",
              "      <td>0.251689</td>\n",
              "      <td>...</td>\n",
              "      <td>0.251689</td>\n",
              "      <td>0.251689</td>\n",
              "      <td>0.251689</td>\n",
              "      <td>0.251689</td>\n",
              "      <td>0.251689</td>\n",
              "      <td>0.251689</td>\n",
              "      <td>0.251689</td>\n",
              "      <td>0.251689</td>\n",
              "      <td>0.251689</td>\n",
              "      <td>0.251689</td>\n",
              "      <td>0.251689</td>\n",
              "      <td>0.251689</td>\n",
              "      <td>0.251689</td>\n",
              "      <td>0.251689</td>\n",
              "      <td>0.251689</td>\n",
              "      <td>0.251689</td>\n",
              "      <td>0.251689</td>\n",
              "      <td>0.251689</td>\n",
              "      <td>0.251689</td>\n",
              "      <td>0.251689</td>\n",
              "      <td>0.251689</td>\n",
              "      <td>0.251689</td>\n",
              "      <td>0.251689</td>\n",
              "      <td>0.251689</td>\n",
              "      <td>0.251689</td>\n",
              "      <td>0.251689</td>\n",
              "      <td>0.251689</td>\n",
              "      <td>0.251689</td>\n",
              "      <td>0.251689</td>\n",
              "      <td>0.251689</td>\n",
              "      <td>0.251689</td>\n",
              "      <td>0.251689</td>\n",
              "      <td>0.251689</td>\n",
              "      <td>0.251689</td>\n",
              "      <td>0.251689</td>\n",
              "      <td>0.251689</td>\n",
              "      <td>0.251689</td>\n",
              "      <td>0.251689</td>\n",
              "      <td>0.251689</td>\n",
              "      <td>0.251689</td>\n",
              "    </tr>\n",
              "    <tr>\n",
              "      <th>21</th>\n",
              "      <td>0.393156</td>\n",
              "      <td>0.393156</td>\n",
              "      <td>0.393156</td>\n",
              "      <td>0.393156</td>\n",
              "      <td>0.393156</td>\n",
              "      <td>0.393156</td>\n",
              "      <td>0.393156</td>\n",
              "      <td>0.393156</td>\n",
              "      <td>0.393156</td>\n",
              "      <td>0.393156</td>\n",
              "      <td>0.393156</td>\n",
              "      <td>0.393156</td>\n",
              "      <td>0.393156</td>\n",
              "      <td>0.393156</td>\n",
              "      <td>0.393156</td>\n",
              "      <td>0.393156</td>\n",
              "      <td>0.393156</td>\n",
              "      <td>0.393156</td>\n",
              "      <td>0.393156</td>\n",
              "      <td>0.393156</td>\n",
              "      <td>0.393156</td>\n",
              "      <td>0.393156</td>\n",
              "      <td>0.393156</td>\n",
              "      <td>0.393156</td>\n",
              "      <td>0.393156</td>\n",
              "      <td>0.393156</td>\n",
              "      <td>0.393156</td>\n",
              "      <td>0.393156</td>\n",
              "      <td>0.393156</td>\n",
              "      <td>0.393156</td>\n",
              "      <td>0.393156</td>\n",
              "      <td>0.393156</td>\n",
              "      <td>0.393156</td>\n",
              "      <td>0.393156</td>\n",
              "      <td>0.393156</td>\n",
              "      <td>0.393156</td>\n",
              "      <td>0.393156</td>\n",
              "      <td>0.393156</td>\n",
              "      <td>0.393156</td>\n",
              "      <td>0.393156</td>\n",
              "      <td>...</td>\n",
              "      <td>0.393156</td>\n",
              "      <td>0.393156</td>\n",
              "      <td>0.393156</td>\n",
              "      <td>0.393156</td>\n",
              "      <td>0.393156</td>\n",
              "      <td>0.393156</td>\n",
              "      <td>0.393156</td>\n",
              "      <td>0.393156</td>\n",
              "      <td>0.393156</td>\n",
              "      <td>0.393156</td>\n",
              "      <td>0.393156</td>\n",
              "      <td>0.393156</td>\n",
              "      <td>0.393156</td>\n",
              "      <td>0.393156</td>\n",
              "      <td>0.393156</td>\n",
              "      <td>0.393156</td>\n",
              "      <td>0.393156</td>\n",
              "      <td>0.393156</td>\n",
              "      <td>0.393156</td>\n",
              "      <td>0.393156</td>\n",
              "      <td>0.393156</td>\n",
              "      <td>0.393156</td>\n",
              "      <td>0.393156</td>\n",
              "      <td>0.393156</td>\n",
              "      <td>0.393156</td>\n",
              "      <td>0.393156</td>\n",
              "      <td>0.393156</td>\n",
              "      <td>0.393156</td>\n",
              "      <td>0.393156</td>\n",
              "      <td>0.393156</td>\n",
              "      <td>0.393156</td>\n",
              "      <td>0.393156</td>\n",
              "      <td>0.393156</td>\n",
              "      <td>0.393156</td>\n",
              "      <td>0.393156</td>\n",
              "      <td>0.393156</td>\n",
              "      <td>0.393156</td>\n",
              "      <td>0.393156</td>\n",
              "      <td>0.393156</td>\n",
              "      <td>0.393156</td>\n",
              "    </tr>\n",
              "    <tr>\n",
              "      <th>22</th>\n",
              "      <td>0.000000</td>\n",
              "      <td>0.000000</td>\n",
              "      <td>0.000000</td>\n",
              "      <td>0.000000</td>\n",
              "      <td>0.000000</td>\n",
              "      <td>0.000000</td>\n",
              "      <td>0.000000</td>\n",
              "      <td>0.000000</td>\n",
              "      <td>0.000000</td>\n",
              "      <td>0.000000</td>\n",
              "      <td>0.000000</td>\n",
              "      <td>0.000000</td>\n",
              "      <td>0.000000</td>\n",
              "      <td>0.000000</td>\n",
              "      <td>0.000000</td>\n",
              "      <td>0.000000</td>\n",
              "      <td>0.000000</td>\n",
              "      <td>0.000000</td>\n",
              "      <td>0.000000</td>\n",
              "      <td>0.000000</td>\n",
              "      <td>0.000000</td>\n",
              "      <td>0.000000</td>\n",
              "      <td>0.000000</td>\n",
              "      <td>0.000000</td>\n",
              "      <td>0.000000</td>\n",
              "      <td>0.000000</td>\n",
              "      <td>0.000000</td>\n",
              "      <td>0.000000</td>\n",
              "      <td>0.000000</td>\n",
              "      <td>0.000000</td>\n",
              "      <td>0.000000</td>\n",
              "      <td>0.000000</td>\n",
              "      <td>0.000000</td>\n",
              "      <td>0.000000</td>\n",
              "      <td>0.000000</td>\n",
              "      <td>0.000000</td>\n",
              "      <td>0.000000</td>\n",
              "      <td>0.000000</td>\n",
              "      <td>0.000000</td>\n",
              "      <td>0.000000</td>\n",
              "      <td>...</td>\n",
              "      <td>0.000000</td>\n",
              "      <td>0.000000</td>\n",
              "      <td>0.000000</td>\n",
              "      <td>0.000000</td>\n",
              "      <td>0.000000</td>\n",
              "      <td>0.000000</td>\n",
              "      <td>0.000000</td>\n",
              "      <td>0.000000</td>\n",
              "      <td>0.000000</td>\n",
              "      <td>0.000000</td>\n",
              "      <td>0.000000</td>\n",
              "      <td>0.000000</td>\n",
              "      <td>0.000000</td>\n",
              "      <td>0.000000</td>\n",
              "      <td>0.000000</td>\n",
              "      <td>0.000000</td>\n",
              "      <td>0.000000</td>\n",
              "      <td>0.000000</td>\n",
              "      <td>0.000000</td>\n",
              "      <td>0.000000</td>\n",
              "      <td>0.000000</td>\n",
              "      <td>0.000000</td>\n",
              "      <td>0.000000</td>\n",
              "      <td>0.000000</td>\n",
              "      <td>0.000000</td>\n",
              "      <td>0.000000</td>\n",
              "      <td>0.000000</td>\n",
              "      <td>0.000000</td>\n",
              "      <td>0.000000</td>\n",
              "      <td>0.000000</td>\n",
              "      <td>0.000000</td>\n",
              "      <td>0.000000</td>\n",
              "      <td>0.000000</td>\n",
              "      <td>0.000000</td>\n",
              "      <td>0.000000</td>\n",
              "      <td>0.000000</td>\n",
              "      <td>0.000000</td>\n",
              "      <td>0.000000</td>\n",
              "      <td>0.000000</td>\n",
              "      <td>0.000000</td>\n",
              "    </tr>\n",
              "    <tr>\n",
              "      <th>23</th>\n",
              "      <td>0.000000</td>\n",
              "      <td>0.000000</td>\n",
              "      <td>0.000000</td>\n",
              "      <td>0.000000</td>\n",
              "      <td>0.000000</td>\n",
              "      <td>0.000000</td>\n",
              "      <td>0.000000</td>\n",
              "      <td>0.000000</td>\n",
              "      <td>0.000000</td>\n",
              "      <td>0.000000</td>\n",
              "      <td>0.000000</td>\n",
              "      <td>0.000000</td>\n",
              "      <td>0.000000</td>\n",
              "      <td>0.000000</td>\n",
              "      <td>0.000000</td>\n",
              "      <td>0.000000</td>\n",
              "      <td>0.000000</td>\n",
              "      <td>0.000000</td>\n",
              "      <td>0.000000</td>\n",
              "      <td>0.000000</td>\n",
              "      <td>0.000000</td>\n",
              "      <td>0.000000</td>\n",
              "      <td>0.000000</td>\n",
              "      <td>0.000000</td>\n",
              "      <td>0.000000</td>\n",
              "      <td>0.000000</td>\n",
              "      <td>0.000000</td>\n",
              "      <td>0.000000</td>\n",
              "      <td>0.000000</td>\n",
              "      <td>0.000000</td>\n",
              "      <td>0.000000</td>\n",
              "      <td>0.000000</td>\n",
              "      <td>0.000000</td>\n",
              "      <td>0.000000</td>\n",
              "      <td>0.000000</td>\n",
              "      <td>0.000000</td>\n",
              "      <td>0.000000</td>\n",
              "      <td>0.000000</td>\n",
              "      <td>0.000000</td>\n",
              "      <td>0.000000</td>\n",
              "      <td>...</td>\n",
              "      <td>0.000000</td>\n",
              "      <td>0.000000</td>\n",
              "      <td>0.000000</td>\n",
              "      <td>0.000000</td>\n",
              "      <td>0.000000</td>\n",
              "      <td>0.000000</td>\n",
              "      <td>0.000000</td>\n",
              "      <td>0.000000</td>\n",
              "      <td>0.000000</td>\n",
              "      <td>0.000000</td>\n",
              "      <td>0.000000</td>\n",
              "      <td>0.000000</td>\n",
              "      <td>0.000000</td>\n",
              "      <td>0.000000</td>\n",
              "      <td>0.000000</td>\n",
              "      <td>0.000000</td>\n",
              "      <td>0.000000</td>\n",
              "      <td>0.000000</td>\n",
              "      <td>0.000000</td>\n",
              "      <td>0.000000</td>\n",
              "      <td>0.000000</td>\n",
              "      <td>0.000000</td>\n",
              "      <td>0.000000</td>\n",
              "      <td>0.000000</td>\n",
              "      <td>0.000000</td>\n",
              "      <td>0.000000</td>\n",
              "      <td>0.000000</td>\n",
              "      <td>0.000000</td>\n",
              "      <td>0.000000</td>\n",
              "      <td>0.000000</td>\n",
              "      <td>0.000000</td>\n",
              "      <td>0.000000</td>\n",
              "      <td>0.000000</td>\n",
              "      <td>0.000000</td>\n",
              "      <td>0.000000</td>\n",
              "      <td>0.000000</td>\n",
              "      <td>0.000000</td>\n",
              "      <td>0.000000</td>\n",
              "      <td>0.000000</td>\n",
              "      <td>0.000000</td>\n",
              "    </tr>\n",
              "  </tbody>\n",
              "</table>\n",
              "<p>5 rows × 136192 columns</p>\n",
              "</div>"
            ],
            "text/plain": [
              "           0         1         2  ...    136189    136190    136191\n",
              "19  0.000000  0.000000  0.000000  ...  0.000000  0.000000  0.000000\n",
              "20  0.251689  0.251689  0.251689  ...  0.251689  0.251689  0.251689\n",
              "21  0.393156  0.393156  0.393156  ...  0.393156  0.393156  0.393156\n",
              "22  0.000000  0.000000  0.000000  ...  0.000000  0.000000  0.000000\n",
              "23  0.000000  0.000000  0.000000  ...  0.000000  0.000000  0.000000\n",
              "\n",
              "[5 rows x 136192 columns]"
            ]
          },
          "metadata": {
            "tags": []
          },
          "execution_count": 26
        }
      ]
    },
    {
      "cell_type": "code",
      "metadata": {
        "id": "t-V6ohk45udx"
      },
      "source": [
        "# 제출\r\n",
        "sub1.to_csv('/content/drive/MyDrive/Colab Notebooks/DACON 1등이 목표/result/sub_0310_1.csv', index = False)"
      ],
      "execution_count": null,
      "outputs": []
    },
    {
      "cell_type": "code",
      "metadata": {
        "id": "LYEDRwmOz4oh"
      },
      "source": [
        ""
      ],
      "execution_count": null,
      "outputs": []
    },
    {
      "cell_type": "code",
      "metadata": {
        "id": "HPN993Ubz4mn"
      },
      "source": [
        ""
      ],
      "execution_count": null,
      "outputs": []
    },
    {
      "cell_type": "code",
      "metadata": {
        "id": "JKnAXtR1yu81"
      },
      "source": [
        ""
      ],
      "execution_count": null,
      "outputs": []
    },
    {
      "cell_type": "code",
      "metadata": {
        "id": "ZXVGQFB1uw5k"
      },
      "source": [
        "# 변동성 정리\r\n",
        "for i in range(4):\r\n",
        "  globals()['train1_{}'.format(i)] = train1[0+i] - train1[1+i]"
      ],
      "execution_count": 8,
      "outputs": []
    },
    {
      "cell_type": "code",
      "metadata": {
        "id": "b-4yNz72uw35"
      },
      "source": [
        "vec = []\r\n",
        "\r\n",
        "for i in range(4):\r\n",
        "  p = train1[0+i] - train1[1+i]\r\n",
        "  vec.append(p)\r\n",
        "\r\n",
        "vec = np.array(vec)"
      ],
      "execution_count": 96,
      "outputs": []
    },
    {
      "cell_type": "code",
      "metadata": {
        "colab": {
          "base_uri": "https://localhost:8080/"
        },
        "id": "onqz4cMMUfpF",
        "outputId": "aab58e15-4fc3-48bb-8c72-d9f1f5816be8"
      },
      "source": [
        "vec.shape"
      ],
      "execution_count": 123,
      "outputs": [
        {
          "output_type": "execute_result",
          "data": {
            "text/plain": [
              "(5, 448, 304)"
            ]
          },
          "metadata": {
            "tags": []
          },
          "execution_count": 123
        }
      ]
    },
    {
      "cell_type": "markdown",
      "metadata": {
        "id": "0IHoI22XN6v-"
      },
      "source": [
        "Data Reshape"
      ]
    },
    {
      "cell_type": "code",
      "metadata": {
        "colab": {
          "base_uri": "https://localhost:8080/",
          "height": 281
        },
        "id": "dLyfojA4N81z",
        "outputId": "f6f3b729-2d46-4edd-a6a0-d5953d5a6794"
      },
      "source": [
        "# 그래프 그려보기\r\n",
        "import matplotlib.pyplot\r\n",
        "matplotlib.pyplot.imshow(vec[0], interpolation = 'None')\r\n",
        "matplotlib.pyplot.title('map1')\r\n",
        "matplotlib.pyplot.show()"
      ],
      "execution_count": 124,
      "outputs": [
        {
          "output_type": "display_data",
          "data": {
            "image/png": "[encoded data removed]",
            "text/plain": [
              "<Figure size 432x288 with 1 Axes>"
            ]
          },
          "metadata": {
            "tags": [],
            "needs_background": "light"
          }
        }
      ]
    },
    {
      "cell_type": "code",
      "metadata": {
        "colab": {
          "base_uri": "https://localhost:8080/"
        },
        "id": "dgOTaIcQTR3M",
        "outputId": "bd8863ed-f928-455b-8b68-167aee61f4a8"
      },
      "source": [
        "vec.shape"
      ],
      "execution_count": 125,
      "outputs": [
        {
          "output_type": "execute_result",
          "data": {
            "text/plain": [
              "(5, 448, 304)"
            ]
          },
          "metadata": {
            "tags": []
          },
          "execution_count": 125
        }
      ]
    },
    {
      "cell_type": "code",
      "metadata": {
        "colab": {
          "base_uri": "https://localhost:8080/"
        },
        "id": "cNdpIWqIOD7n",
        "outputId": "e8ea1705-0993-4370-e949-d63cb67ddaec"
      },
      "source": [
        "a = vec.reshape(5,136192)\r\n",
        "a.shape"
      ],
      "execution_count": 126,
      "outputs": [
        {
          "output_type": "execute_result",
          "data": {
            "text/plain": [
              "(5, 136192)"
            ]
          },
          "metadata": {
            "tags": []
          },
          "execution_count": 126
        }
      ]
    },
    {
      "cell_type": "code",
      "metadata": {
        "colab": {
          "base_uri": "https://localhost:8080/"
        },
        "id": "cvDFM_1PU08G",
        "outputId": "9a4d1c12-2b44-44a6-da1e-47b2d791afcc"
      },
      "source": [
        "aa = a.T\r\n",
        "aa.shape"
      ],
      "execution_count": 127,
      "outputs": [
        {
          "output_type": "execute_result",
          "data": {
            "text/plain": [
              "(136192, 5)"
            ]
          },
          "metadata": {
            "tags": []
          },
          "execution_count": 127
        }
      ]
    },
    {
      "cell_type": "code",
      "metadata": {
        "colab": {
          "base_uri": "https://localhost:8080/"
        },
        "id": "PD5ZZb-_ThJb",
        "outputId": "534a2762-171f-4246-d090-153d9e1658ff"
      },
      "source": [
        "a.reshape(5,448,304)[0]"
      ],
      "execution_count": 128,
      "outputs": [
        {
          "output_type": "execute_result",
          "data": {
            "text/plain": [
              "array([[0, 0, 0, ..., 0, 0, 0],\n",
              "       [0, 0, 0, ..., 0, 0, 0],\n",
              "       [0, 0, 0, ..., 0, 0, 0],\n",
              "       ...,\n",
              "       [0, 0, 0, ..., 0, 0, 0],\n",
              "       [0, 0, 0, ..., 0, 0, 0],\n",
              "       [0, 0, 0, ..., 0, 0, 0]], dtype=uint8)"
            ]
          },
          "metadata": {
            "tags": []
          },
          "execution_count": 128
        }
      ]
    },
    {
      "cell_type": "code",
      "metadata": {
        "colab": {
          "base_uri": "https://localhost:8080/",
          "height": 281
        },
        "id": "FHJlWPb2N8yJ",
        "outputId": "a0717d1c-0079-4b3a-d046-1dc015a8de20"
      },
      "source": [
        "# 그래프 그려보기\r\n",
        "import matplotlib.pyplot\r\n",
        "matplotlib.pyplot.imshow(a.reshape(5,448,304)[0], interpolation = 'None')\r\n",
        "matplotlib.pyplot.title('map1')\r\n",
        "matplotlib.pyplot.show()"
      ],
      "execution_count": 129,
      "outputs": [
        {
          "output_type": "display_data",
          "data": {
            "image/png": "[encoded data removed]",
            "text/plain": [
              "<Figure size 432x288 with 1 Axes>"
            ]
          },
          "metadata": {
            "tags": [],
            "needs_background": "light"
          }
        }
      ]
    },
    {
      "cell_type": "code",
      "metadata": {
        "id": "zxhsUPzcOqvC"
      },
      "source": [
        ""
      ],
      "execution_count": null,
      "outputs": []
    },
    {
      "cell_type": "code",
      "metadata": {
        "id": "50fpiHT2N8vi"
      },
      "source": [
        ""
      ],
      "execution_count": null,
      "outputs": []
    },
    {
      "cell_type": "code",
      "metadata": {
        "colab": {
          "base_uri": "https://localhost:8080/",
          "height": 419
        },
        "id": "eQ-jKM_wuw0G",
        "outputId": "285bb8dc-b615-4011-e46b-5a677c7a0cd1"
      },
      "source": [
        "pd.DataFrame(aa)"
      ],
      "execution_count": 130,
      "outputs": [
        {
          "output_type": "execute_result",
          "data": {
            "text/html": [
              "<div>\n",
              "<style scoped>\n",
              "    .dataframe tbody tr th:only-of-type {\n",
              "        vertical-align: middle;\n",
              "    }\n",
              "\n",
              "    .dataframe tbody tr th {\n",
              "        vertical-align: top;\n",
              "    }\n",
              "\n",
              "    .dataframe thead th {\n",
              "        text-align: right;\n",
              "    }\n",
              "</style>\n",
              "<table border=\"1\" class=\"dataframe\">\n",
              "  <thead>\n",
              "    <tr style=\"text-align: right;\">\n",
              "      <th></th>\n",
              "      <th>0</th>\n",
              "      <th>1</th>\n",
              "      <th>2</th>\n",
              "      <th>3</th>\n",
              "      <th>4</th>\n",
              "    </tr>\n",
              "  </thead>\n",
              "  <tbody>\n",
              "    <tr>\n",
              "      <th>0</th>\n",
              "      <td>0</td>\n",
              "      <td>0</td>\n",
              "      <td>0</td>\n",
              "      <td>0</td>\n",
              "      <td>0</td>\n",
              "    </tr>\n",
              "    <tr>\n",
              "      <th>1</th>\n",
              "      <td>0</td>\n",
              "      <td>0</td>\n",
              "      <td>0</td>\n",
              "      <td>0</td>\n",
              "      <td>0</td>\n",
              "    </tr>\n",
              "    <tr>\n",
              "      <th>2</th>\n",
              "      <td>0</td>\n",
              "      <td>0</td>\n",
              "      <td>0</td>\n",
              "      <td>0</td>\n",
              "      <td>0</td>\n",
              "    </tr>\n",
              "    <tr>\n",
              "      <th>3</th>\n",
              "      <td>0</td>\n",
              "      <td>0</td>\n",
              "      <td>0</td>\n",
              "      <td>0</td>\n",
              "      <td>0</td>\n",
              "    </tr>\n",
              "    <tr>\n",
              "      <th>4</th>\n",
              "      <td>0</td>\n",
              "      <td>0</td>\n",
              "      <td>0</td>\n",
              "      <td>0</td>\n",
              "      <td>0</td>\n",
              "    </tr>\n",
              "    <tr>\n",
              "      <th>...</th>\n",
              "      <td>...</td>\n",
              "      <td>...</td>\n",
              "      <td>...</td>\n",
              "      <td>...</td>\n",
              "      <td>...</td>\n",
              "    </tr>\n",
              "    <tr>\n",
              "      <th>136187</th>\n",
              "      <td>0</td>\n",
              "      <td>0</td>\n",
              "      <td>0</td>\n",
              "      <td>0</td>\n",
              "      <td>0</td>\n",
              "    </tr>\n",
              "    <tr>\n",
              "      <th>136188</th>\n",
              "      <td>0</td>\n",
              "      <td>0</td>\n",
              "      <td>0</td>\n",
              "      <td>0</td>\n",
              "      <td>0</td>\n",
              "    </tr>\n",
              "    <tr>\n",
              "      <th>136189</th>\n",
              "      <td>0</td>\n",
              "      <td>0</td>\n",
              "      <td>0</td>\n",
              "      <td>0</td>\n",
              "      <td>0</td>\n",
              "    </tr>\n",
              "    <tr>\n",
              "      <th>136190</th>\n",
              "      <td>0</td>\n",
              "      <td>0</td>\n",
              "      <td>0</td>\n",
              "      <td>0</td>\n",
              "      <td>0</td>\n",
              "    </tr>\n",
              "    <tr>\n",
              "      <th>136191</th>\n",
              "      <td>0</td>\n",
              "      <td>0</td>\n",
              "      <td>0</td>\n",
              "      <td>0</td>\n",
              "      <td>0</td>\n",
              "    </tr>\n",
              "  </tbody>\n",
              "</table>\n",
              "<p>136192 rows × 5 columns</p>\n",
              "</div>"
            ],
            "text/plain": [
              "        0  1  2  3  4\n",
              "0       0  0  0  0  0\n",
              "1       0  0  0  0  0\n",
              "2       0  0  0  0  0\n",
              "3       0  0  0  0  0\n",
              "4       0  0  0  0  0\n",
              "...    .. .. .. .. ..\n",
              "136187  0  0  0  0  0\n",
              "136188  0  0  0  0  0\n",
              "136189  0  0  0  0  0\n",
              "136190  0  0  0  0  0\n",
              "136191  0  0  0  0  0\n",
              "\n",
              "[136192 rows x 5 columns]"
            ]
          },
          "metadata": {
            "tags": []
          },
          "execution_count": 130
        }
      ]
    },
    {
      "cell_type": "code",
      "metadata": {
        "colab": {
          "base_uri": "https://localhost:8080/"
        },
        "id": "kYxJsYkZLQ1C",
        "outputId": "3237f2b0-d08d-4165-b304-0613d4f6b997"
      },
      "source": [
        "lda = pd.DataFrame(aa)\r\n",
        "lda[[3]], lda[[0,1,2]]"
      ],
      "execution_count": 132,
      "outputs": [
        {
          "output_type": "execute_result",
          "data": {
            "text/plain": [
              "(        3\n",
              " 0       0\n",
              " 1       0\n",
              " 2       0\n",
              " 3       0\n",
              " 4       0\n",
              " ...    ..\n",
              " 136187  0\n",
              " 136188  0\n",
              " 136189  0\n",
              " 136190  0\n",
              " 136191  0\n",
              " \n",
              " [136192 rows x 1 columns],         0  1  2\n",
              " 0       0  0  0\n",
              " 1       0  0  0\n",
              " 2       0  0  0\n",
              " 3       0  0  0\n",
              " 4       0  0  0\n",
              " ...    .. .. ..\n",
              " 136187  0  0  0\n",
              " 136188  0  0  0\n",
              " 136189  0  0  0\n",
              " 136190  0  0  0\n",
              " 136191  0  0  0\n",
              " \n",
              " [136192 rows x 3 columns])"
            ]
          },
          "metadata": {
            "tags": []
          },
          "execution_count": 132
        }
      ]
    },
    {
      "cell_type": "code",
      "metadata": {
        "id": "-JS1CKRhLz98"
      },
      "source": [
        "# 훈련, 테스트 데이터 생성\r\n",
        "x_tr = lda[[0,1,2]]\r\n",
        "y_tr = lda[[3]]\r\n",
        "x_test = lda[[1,2,3]]"
      ],
      "execution_count": 133,
      "outputs": []
    },
    {
      "cell_type": "code",
      "metadata": {
        "colab": {
          "base_uri": "https://localhost:8080/"
        },
        "id": "L-zLQzJ6LaIK",
        "outputId": "7db7678b-ec77-40a4-ee8f-c33924809669"
      },
      "source": [
        "from sklearn.linear_model import LinearRegression\r\n",
        "\r\n",
        "mod = LinearRegression()\r\n",
        "mod.fit(x_tr, y_tr) "
      ],
      "execution_count": 134,
      "outputs": [
        {
          "output_type": "execute_result",
          "data": {
            "text/plain": [
              "LinearRegression(copy_X=True, fit_intercept=True, n_jobs=None, normalize=False)"
            ]
          },
          "metadata": {
            "tags": []
          },
          "execution_count": 134
        }
      ]
    },
    {
      "cell_type": "code",
      "metadata": {
        "colab": {
          "base_uri": "https://localhost:8080/"
        },
        "id": "-03mJE1LMCA3",
        "outputId": "29ee903d-92f2-4b62-bd86-659fcf3bb82e"
      },
      "source": [
        "mod.predict(x_test).shape"
      ],
      "execution_count": 135,
      "outputs": [
        {
          "output_type": "execute_result",
          "data": {
            "text/plain": [
              "(136192, 1)"
            ]
          },
          "metadata": {
            "tags": []
          },
          "execution_count": 135
        }
      ]
    },
    {
      "cell_type": "code",
      "metadata": {
        "colab": {
          "base_uri": "https://localhost:8080/"
        },
        "id": "C-mwcVdIVblN",
        "outputId": "9befc4f9-80e3-4c52-d6a2-2ebacfafece4"
      },
      "source": [
        "p1 = mod.predict(x_test)\r\n",
        "p1.T.reshape(1,448,304)"
      ],
      "execution_count": 136,
      "outputs": [
        {
          "output_type": "execute_result",
          "data": {
            "text/plain": [
              "array([[[-0.10631017, -0.10631017, -0.10631017, ..., -0.10631017,\n",
              "         -0.10631017, -0.10631017],\n",
              "        [-0.10631017, -0.10631017, -0.10631017, ..., -0.10631017,\n",
              "         -0.10631017, -0.10631017],\n",
              "        [-0.10631017, -0.10631017, -0.10631017, ..., -0.10631017,\n",
              "         -0.10631017, -0.10631017],\n",
              "        ...,\n",
              "        [-0.10631017, -0.10631017, -0.10631017, ..., -0.10631017,\n",
              "         -0.10631017, -0.10631017],\n",
              "        [-0.10631017, -0.10631017, -0.10631017, ..., -0.10631017,\n",
              "         -0.10631017, -0.10631017],\n",
              "        [-0.10631017, -0.10631017, -0.10631017, ..., -0.10631017,\n",
              "         -0.10631017, -0.10631017]]])"
            ]
          },
          "metadata": {
            "tags": []
          },
          "execution_count": 136
        }
      ]
    },
    {
      "cell_type": "code",
      "metadata": {
        "colab": {
          "base_uri": "https://localhost:8080/"
        },
        "id": "H1w_RMutMqzL",
        "outputId": "a0ac2943-a005-43f3-9ee6-6376d55ff070"
      },
      "source": [
        "print(mod.coef_)"
      ],
      "execution_count": 137,
      "outputs": [
        {
          "output_type": "stream",
          "text": [
            "[[-0.00144726  0.21644527  0.74596168]]\n"
          ],
          "name": "stdout"
        }
      ]
    },
    {
      "cell_type": "code",
      "metadata": {
        "id": "QczWxc-hMYxn"
      },
      "source": [
        ""
      ],
      "execution_count": null,
      "outputs": []
    },
    {
      "cell_type": "code",
      "metadata": {
        "colab": {
          "base_uri": "https://localhost:8080/"
        },
        "id": "KraSfCyCLY9-",
        "outputId": "ab471ef3-7519-444c-9202-28a71356f4f7"
      },
      "source": [
        "np.array(y_tr).reshape(448,304)"
      ],
      "execution_count": 138,
      "outputs": [
        {
          "output_type": "execute_result",
          "data": {
            "text/plain": [
              "array([[0, 0, 0, ..., 0, 0, 0],\n",
              "       [0, 0, 0, ..., 0, 0, 0],\n",
              "       [0, 0, 0, ..., 0, 0, 0],\n",
              "       ...,\n",
              "       [0, 0, 0, ..., 0, 0, 0],\n",
              "       [0, 0, 0, ..., 0, 0, 0],\n",
              "       [0, 0, 0, ..., 0, 0, 0]], dtype=uint8)"
            ]
          },
          "metadata": {
            "tags": []
          },
          "execution_count": 138
        }
      ]
    },
    {
      "cell_type": "code",
      "metadata": {
        "colab": {
          "base_uri": "https://localhost:8080/",
          "height": 281
        },
        "id": "fXzk4EBJLQxh",
        "outputId": "953c882b-5f2c-40c7-89cb-a80566aba0b3"
      },
      "source": [
        "# 그래프 그려보기\r\n",
        "import matplotlib.pyplot\r\n",
        "matplotlib.pyplot.imshow(np.array(y_tr).reshape(448,304), interpolation = 'None')\r\n",
        "matplotlib.pyplot.title('map1')\r\n",
        "matplotlib.pyplot.show()"
      ],
      "execution_count": 155,
      "outputs": [
        {
          "output_type": "display_data",
          "data": {
            "image/png": "[encoded data removed]",
            "text/plain": [
              "<Figure size 432x288 with 1 Axes>"
            ]
          },
          "metadata": {
            "tags": [],
            "needs_background": "light"
          }
        }
      ]
    },
    {
      "cell_type": "code",
      "metadata": {
        "colab": {
          "base_uri": "https://localhost:8080/"
        },
        "id": "mFnBkEysVxn2",
        "outputId": "fcb700eb-e155-4ba5-98e0-c40c6b72067c"
      },
      "source": [
        "\r\n",
        "p1.T.reshape(448,304).shape"
      ],
      "execution_count": 140,
      "outputs": [
        {
          "output_type": "execute_result",
          "data": {
            "text/plain": [
              "(448, 304)"
            ]
          },
          "metadata": {
            "tags": []
          },
          "execution_count": 140
        }
      ]
    },
    {
      "cell_type": "code",
      "metadata": {
        "colab": {
          "base_uri": "https://localhost:8080/",
          "height": 281
        },
        "id": "-37XCo3eVxlB",
        "outputId": "1334945b-8835-442d-d754-f998ce7ea589"
      },
      "source": [
        "# 그래프 그려보기\r\n",
        "import matplotlib.pyplot\r\n",
        "matplotlib.pyplot.imshow(p1.T.reshape(448,304), interpolation = 'None')\r\n",
        "matplotlib.pyplot.title('map1')\r\n",
        "matplotlib.pyplot.show()"
      ],
      "execution_count": 156,
      "outputs": [
        {
          "output_type": "display_data",
          "data": {
            "image/png": "[encoded data removed]",
            "text/plain": [
              "<Figure size 432x288 with 1 Axes>"
            ]
          },
          "metadata": {
            "tags": [],
            "needs_background": "light"
          }
        }
      ]
    },
    {
      "cell_type": "code",
      "metadata": {
        "colab": {
          "base_uri": "https://localhost:8080/",
          "height": 281
        },
        "id": "ThFKDOpkYb3s",
        "outputId": "6a8ed7ea-9ef6-4105-dd31-d62f1504ff76"
      },
      "source": [
        "# 그래프 그려보기\r\n",
        "import matplotlib.pyplot\r\n",
        "matplotlib.pyplot.imshow(np.array(lda[[4]]).reshape(448,304), interpolation = 'None')\r\n",
        "matplotlib.pyplot.title('map1')\r\n",
        "matplotlib.pyplot.show()"
      ],
      "execution_count": 164,
      "outputs": [
        {
          "output_type": "display_data",
          "data": {
            "image/png": "[encoded data removed]",
            "text/plain": [
              "<Figure size 432x288 with 1 Axes>"
            ]
          },
          "metadata": {
            "tags": [],
            "needs_background": "light"
          }
        }
      ]
    },
    {
      "cell_type": "code",
      "metadata": {
        "colab": {
          "base_uri": "https://localhost:8080/"
        },
        "id": "Oh0lbIdTWEHB",
        "outputId": "3c9e3813-3364-4ada-aaae-2897dabe3e1b"
      },
      "source": [
        "p1.T.reshape(448,304)"
      ],
      "execution_count": 150,
      "outputs": [
        {
          "output_type": "execute_result",
          "data": {
            "text/plain": [
              "array([[-0.10631017, -0.10631017, -0.10631017, ..., -0.10631017,\n",
              "        -0.10631017, -0.10631017],\n",
              "       [-0.10631017, -0.10631017, -0.10631017, ..., -0.10631017,\n",
              "        -0.10631017, -0.10631017],\n",
              "       [-0.10631017, -0.10631017, -0.10631017, ..., -0.10631017,\n",
              "        -0.10631017, -0.10631017],\n",
              "       ...,\n",
              "       [-0.10631017, -0.10631017, -0.10631017, ..., -0.10631017,\n",
              "        -0.10631017, -0.10631017],\n",
              "       [-0.10631017, -0.10631017, -0.10631017, ..., -0.10631017,\n",
              "        -0.10631017, -0.10631017],\n",
              "       [-0.10631017, -0.10631017, -0.10631017, ..., -0.10631017,\n",
              "        -0.10631017, -0.10631017]])"
            ]
          },
          "metadata": {
            "tags": []
          },
          "execution_count": 150
        }
      ]
    },
    {
      "cell_type": "code",
      "metadata": {
        "id": "LR1_VkVfWL0p"
      },
      "source": [
        ""
      ],
      "execution_count": null,
      "outputs": []
    },
    {
      "cell_type": "code",
      "metadata": {
        "id": "Lr4BrjyEWLw2"
      },
      "source": [
        ""
      ],
      "execution_count": null,
      "outputs": []
    },
    {
      "cell_type": "code",
      "metadata": {
        "id": "_1rCC9nWWLt4"
      },
      "source": [
        ""
      ],
      "execution_count": null,
      "outputs": []
    },
    {
      "cell_type": "code",
      "metadata": {
        "id": "rE0wDkwSWEFA"
      },
      "source": [
        ""
      ],
      "execution_count": null,
      "outputs": []
    },
    {
      "cell_type": "code",
      "metadata": {
        "id": "Lw1GwzImWEDY"
      },
      "source": [
        ""
      ],
      "execution_count": null,
      "outputs": []
    },
    {
      "cell_type": "code",
      "metadata": {
        "id": "gJnJ2J4uWD_s"
      },
      "source": [
        ""
      ],
      "execution_count": null,
      "outputs": []
    },
    {
      "cell_type": "code",
      "metadata": {
        "id": "agj7zpKTWD84"
      },
      "source": [
        ""
      ],
      "execution_count": null,
      "outputs": []
    },
    {
      "cell_type": "code",
      "metadata": {
        "id": "rU2axQRCWDzt"
      },
      "source": [
        ""
      ],
      "execution_count": null,
      "outputs": []
    },
    {
      "cell_type": "code",
      "metadata": {
        "id": "kZp0IM7TVt_j"
      },
      "source": [
        ""
      ],
      "execution_count": null,
      "outputs": []
    },
    {
      "cell_type": "code",
      "metadata": {
        "id": "Zb6MYlFnVt8V"
      },
      "source": [
        ""
      ],
      "execution_count": null,
      "outputs": []
    },
    {
      "cell_type": "code",
      "metadata": {
        "id": "sbYcpvAoLQt6"
      },
      "source": [
        ""
      ],
      "execution_count": null,
      "outputs": []
    },
    {
      "cell_type": "code",
      "metadata": {
        "colab": {
          "base_uri": "https://localhost:8080/",
          "height": 281
        },
        "id": "WOEm0RyQuwxu",
        "outputId": "ed13be63-f4be-46ac-f8d1-ce5700cb02d2"
      },
      "source": [
        "# 그래프 그려보기\r\n",
        "import matplotlib.pyplot\r\n",
        "matplotlib.pyplot.imshow(mod.predict(x_test).reshape(448, 304), interpolation = 'None')\r\n",
        "matplotlib.pyplot.title('map1')\r\n",
        "matplotlib.pyplot.show()"
      ],
      "execution_count": 53,
      "outputs": [
        {
          "output_type": "display_data",
          "data": {
            "image/png": "[encoded data removed]",
            "text/plain": [
              "<Figure size 432x288 with 1 Axes>"
            ]
          },
          "metadata": {
            "tags": [],
            "needs_background": "light"
          }
        }
      ]
    },
    {
      "cell_type": "code",
      "metadata": {
        "id": "Oj8Kq-5Guwu7"
      },
      "source": [
        ""
      ],
      "execution_count": null,
      "outputs": []
    },
    {
      "cell_type": "code",
      "metadata": {
        "id": "SNAFo3bxuwsH"
      },
      "source": [
        ""
      ],
      "execution_count": null,
      "outputs": []
    },
    {
      "cell_type": "code",
      "metadata": {
        "id": "hotaQ1SGuwqQ"
      },
      "source": [
        ""
      ],
      "execution_count": null,
      "outputs": []
    },
    {
      "cell_type": "code",
      "metadata": {
        "id": "KN3EEZx-uwmu"
      },
      "source": [
        ""
      ],
      "execution_count": null,
      "outputs": []
    },
    {
      "cell_type": "code",
      "metadata": {
        "id": "1iA-JjoauwkC"
      },
      "source": [
        ""
      ],
      "execution_count": null,
      "outputs": []
    },
    {
      "cell_type": "code",
      "metadata": {
        "id": "olHGagBnuwhs"
      },
      "source": [
        ""
      ],
      "execution_count": null,
      "outputs": []
    },
    {
      "cell_type": "code",
      "metadata": {
        "id": "qxgxaniouwe8"
      },
      "source": [
        ""
      ],
      "execution_count": null,
      "outputs": []
    },
    {
      "cell_type": "code",
      "metadata": {
        "id": "WuID-wdYuwcq"
      },
      "source": [
        ""
      ],
      "execution_count": null,
      "outputs": []
    },
    {
      "cell_type": "code",
      "metadata": {
        "id": "CaIlTz6quwZ-"
      },
      "source": [
        ""
      ],
      "execution_count": null,
      "outputs": []
    },
    {
      "cell_type": "code",
      "metadata": {
        "id": "rHDzvKKUuwXX"
      },
      "source": [
        ""
      ],
      "execution_count": null,
      "outputs": []
    },
    {
      "cell_type": "code",
      "metadata": {
        "id": "Nw3tH8W3gwd-"
      },
      "source": [
        "# Creating Model\r\n",
        "\r\n",
        "class CustomNet(nn.Module):\r\n",
        "    def __init__(self, params):\r\n",
        "        super(CustomNet, self).__init__()\r\n",
        "        input_frames, input_channel, input_height, input_width = params[\"shape\"] # input_frames? input_batch?\r\n",
        "        init_filters = params[\"init_filters\"]\r\n",
        "        self.dropout_rate = params[\"dropout_rate\"]\r\n",
        "        self.conv1 = nn.Conv3d(input_channel, init_filters, kernel_size=3, padding=1)\r\n",
        "        self.conv2 = nn.Conv3d(init_filters, init_filters*2, kernel_size=3, padding=1)\r\n",
        "        self.conv3 = nn.ConvTranspose3d(init_filters*2, 1, kernel_size=3, padding=1)\r\n",
        "\r\n",
        "    def forward(self, x):\r\n",
        "        input = x\r\n",
        "        x = F.relu(self.conv1(x))\r\n",
        "        x = F.max_pool3d(x, 2, 2)\r\n",
        "        x = F.relu(self.conv2(x))\r\n",
        "        x = F.relu(self.conv3(x))\r\n",
        "        x = F.upsample(x, size=(2, 448, 304))\r\n",
        "        print(\"input: \", input.shape)\r\n",
        "        print(\"output: \", x.shape)\r\n",
        "        return x"
      ],
      "execution_count": null,
      "outputs": []
    },
    {
      "cell_type": "code",
      "metadata": {
        "id": "Jgdiq7sHpHif"
      },
      "source": [
        "my_model = CustomNet(MODEL_PARAMS).to(device) # to(device) 해줘야 에러가 안남\r\n",
        "print(my_model)\r\n",
        "summary(my_model, input_size=(1, 6, 448, 304), device=device.type) # summary 함수를 통해 임의의 사이즈를 넣어 구조와 파라미터를 확인할 수 있습니다"
      ],
      "execution_count": null,
      "outputs": []
    },
    {
      "cell_type": "code",
      "metadata": {
        "id": "y62vS_oVussS"
      },
      "source": [
        ""
      ],
      "execution_count": null,
      "outputs": []
    },
    {
      "cell_type": "code",
      "metadata": {
        "id": "30mhMNCEusox"
      },
      "source": [
        ""
      ],
      "execution_count": null,
      "outputs": []
    },
    {
      "cell_type": "code",
      "metadata": {
        "id": "9V1nM4q-gwgy"
      },
      "source": [
        ""
      ],
      "execution_count": null,
      "outputs": []
    },
    {
      "cell_type": "code",
      "metadata": {
        "id": "3abujisPgwjl"
      },
      "source": [
        ""
      ],
      "execution_count": null,
      "outputs": []
    },
    {
      "cell_type": "code",
      "metadata": {
        "id": "W9ZhsCsRgwmA"
      },
      "source": [
        ""
      ],
      "execution_count": null,
      "outputs": []
    },
    {
      "cell_type": "code",
      "metadata": {
        "id": "W2uCWRRWuqBH"
      },
      "source": [
        ""
      ],
      "execution_count": null,
      "outputs": []
    },
    {
      "cell_type": "code",
      "metadata": {
        "id": "hkxMSe1eup98"
      },
      "source": [
        ""
      ],
      "execution_count": null,
      "outputs": []
    },
    {
      "cell_type": "code",
      "metadata": {
        "id": "Izp-zOsHup63"
      },
      "source": [
        ""
      ],
      "execution_count": null,
      "outputs": []
    },
    {
      "cell_type": "code",
      "metadata": {
        "id": "PHQqWl4Aup4C"
      },
      "source": [
        ""
      ],
      "execution_count": null,
      "outputs": []
    },
    {
      "cell_type": "code",
      "metadata": {
        "id": "9lZlLmSJup1l"
      },
      "source": [
        ""
      ],
      "execution_count": null,
      "outputs": []
    },
    {
      "cell_type": "code",
      "metadata": {
        "id": "WlthPQvRupxi"
      },
      "source": [
        ""
      ],
      "execution_count": null,
      "outputs": []
    },
    {
      "cell_type": "code",
      "metadata": {
        "id": "9Ns3Bke1upuI"
      },
      "source": [
        ""
      ],
      "execution_count": null,
      "outputs": []
    }
  ]
}